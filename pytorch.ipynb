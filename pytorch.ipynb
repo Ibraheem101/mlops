{
  "nbformat": 4,
  "nbformat_minor": 0,
  "metadata": {
    "colab": {
      "provenance": [],
      "authorship_tag": "ABX9TyOwKT4F5xTeA+bMGkFnEsGG",
      "include_colab_link": true
    },
    "kernelspec": {
      "name": "python3",
      "display_name": "Python 3"
    },
    "language_info": {
      "name": "python"
    },
    "accelerator": "GPU",
    "gpuClass": "standard"
  },
  "cells": [
    {
      "cell_type": "markdown",
      "metadata": {
        "id": "view-in-github",
        "colab_type": "text"
      },
      "source": [
        "<a href=\"https://colab.research.google.com/github/Ibraheem101/mlops/blob/main/pytorch.ipynb\" target=\"_parent\"><img src=\"https://colab.research.google.com/assets/colab-badge.svg\" alt=\"Open In Colab\"/></a>"
      ]
    },
    {
      "cell_type": "code",
      "execution_count": 1,
      "metadata": {
        "id": "xdisN_wNUMKf"
      },
      "outputs": [],
      "source": [
        "import numpy as np\n",
        "import torch"
      ]
    },
    {
      "cell_type": "code",
      "source": [
        "SEED = 1234"
      ],
      "metadata": {
        "id": "4BS_J32AUUPE"
      },
      "execution_count": 2,
      "outputs": []
    },
    {
      "cell_type": "code",
      "source": [
        "np.random.seed(seed = SEED)\n",
        "torch.manual_seed(seed = SEED)"
      ],
      "metadata": {
        "colab": {
          "base_uri": "https://localhost:8080/"
        },
        "id": "m1RqmL9hVAlG",
        "outputId": "f466bd23-0620-4e52-8010-ef3b2a1dcc3b"
      },
      "execution_count": 3,
      "outputs": [
        {
          "output_type": "execute_result",
          "data": {
            "text/plain": [
              "<torch._C.Generator at 0x7f9ca2dc1990>"
            ]
          },
          "metadata": {},
          "execution_count": 3
        }
      ]
    },
    {
      "cell_type": "markdown",
      "source": [
        "### Creating Tensors"
      ],
      "metadata": {
        "id": "a2cqpNInWouM"
      }
    },
    {
      "cell_type": "code",
      "source": [
        "x = torch.randn(2, 3)\n",
        "print(f\"Type {x.type()}\")\n",
        "print(f\"Size {x.shape}\")\n",
        "print(f\"Values \\n{(x)}\")"
      ],
      "metadata": {
        "colab": {
          "base_uri": "https://localhost:8080/"
        },
        "id": "jPZCJDObWBV8",
        "outputId": "8b95b4bf-506b-4f6d-f05b-e59b72b1a19b"
      },
      "execution_count": 4,
      "outputs": [
        {
          "output_type": "stream",
          "name": "stdout",
          "text": [
            "Type torch.FloatTensor\n",
            "Size torch.Size([2, 3])\n",
            "Values \n",
            "tensor([[ 0.0461,  0.4024, -1.0115],\n",
            "        [ 0.2167, -0.6123,  0.5036]])\n"
          ]
        }
      ]
    },
    {
      "cell_type": "code",
      "source": [
        "# Zeros and Ones\n",
        "zeros = torch.zeros(2, 3)\n",
        "print(zeros)\n",
        "\n",
        "ones = torch.ones(2, 3)\n",
        "print(ones)"
      ],
      "metadata": {
        "colab": {
          "base_uri": "https://localhost:8080/"
        },
        "id": "A0783pzxWzj2",
        "outputId": "da686185-b6f0-411f-b9ae-4471e8c4a072"
      },
      "execution_count": 5,
      "outputs": [
        {
          "output_type": "stream",
          "name": "stdout",
          "text": [
            "tensor([[0., 0., 0.],\n",
            "        [0., 0., 0.]])\n",
            "tensor([[1., 1., 1.],\n",
            "        [1., 1., 1.]])\n"
          ]
        }
      ]
    },
    {
      "cell_type": "code",
      "source": [
        "# List to tensor\n",
        "list1 = [[2, 3], [4, 5]]\n",
        "x = torch.Tensor(list1)\n",
        "print(f\"Type {x.type()}\")\n",
        "print(f\"Size {x.shape}\")\n",
        "print(f\"Values \\n{(x)}\")"
      ],
      "metadata": {
        "colab": {
          "base_uri": "https://localhost:8080/"
        },
        "id": "mJER6vUNXczd",
        "outputId": "5ca55b3c-20db-47c9-d714-ab7e16d2e7b7"
      },
      "execution_count": 6,
      "outputs": [
        {
          "output_type": "stream",
          "name": "stdout",
          "text": [
            "Type torch.FloatTensor\n",
            "Size torch.Size([2, 2])\n",
            "Values \n",
            "tensor([[2., 3.],\n",
            "        [4., 5.]])\n"
          ]
        }
      ]
    },
    {
      "cell_type": "code",
      "source": [
        "# Numpy array to tensor\n",
        "nparr = np.random.randn(2, 3)\n",
        "x = torch.Tensor(nparr)\n",
        "print(f\"Type {x.type()}\")\n",
        "print(f\"Size {x.shape}\")\n",
        "print(f\"Values \\n{(x)}\")"
      ],
      "metadata": {
        "colab": {
          "base_uri": "https://localhost:8080/"
        },
        "id": "7cjO6c1dYfv1",
        "outputId": "79d3d53e-0bca-41f8-8f4e-174053f5953a"
      },
      "execution_count": 7,
      "outputs": [
        {
          "output_type": "stream",
          "name": "stdout",
          "text": [
            "Type torch.FloatTensor\n",
            "Size torch.Size([2, 3])\n",
            "Values \n",
            "tensor([[ 0.4714, -1.1910,  1.4327],\n",
            "        [-0.3127, -0.7206,  0.8872]])\n"
          ]
        }
      ]
    },
    {
      "cell_type": "code",
      "source": [
        "# Changing tensor type\n",
        "x = torch.Tensor(3, 4)\n",
        "print(f\"Type: {x.type()}\")\n",
        "x = x.long()\n",
        "print(f\"Type: {x.type()}\")\n",
        "x = x.int()\n",
        "print(f\"Type: {x.type()}\")\n",
        "x = x.double()\n",
        "print(f\"Type: {x.type()}\")"
      ],
      "metadata": {
        "colab": {
          "base_uri": "https://localhost:8080/"
        },
        "id": "u1OY0JPxY13Y",
        "outputId": "4748c2dd-7767-49b8-b86e-6f865ab13bfa"
      },
      "execution_count": 8,
      "outputs": [
        {
          "output_type": "stream",
          "name": "stdout",
          "text": [
            "Type: torch.FloatTensor\n",
            "Type: torch.LongTensor\n",
            "Type: torch.IntTensor\n",
            "Type: torch.DoubleTensor\n"
          ]
        }
      ]
    },
    {
      "cell_type": "markdown",
      "source": [],
      "metadata": {
        "id": "RWWG-WOAZqW5"
      }
    },
    {
      "cell_type": "markdown",
      "source": [
        "### Tensor Operations"
      ],
      "metadata": {
        "id": "3Q5ax7vYZnAt"
      }
    },
    {
      "cell_type": "code",
      "source": [
        "x = torch.randn(2, 3)\n",
        "y = torch.randn(2, 3)\n",
        "\n",
        "z = x + y\n",
        "print(f\"Size {z.shape}\")\n",
        "print(f\"Values \\n{(z)}\")\n"
      ],
      "metadata": {
        "colab": {
          "base_uri": "https://localhost:8080/"
        },
        "id": "ep73ow-XZRDx",
        "outputId": "57ea1bea-8727-4985-c12e-d38a6ca95cab"
      },
      "execution_count": 9,
      "outputs": [
        {
          "output_type": "stream",
          "name": "stdout",
          "text": [
            "Size torch.Size([2, 3])\n",
            "Values \n",
            "tensor([[ 0.0761, -0.6775, -0.3988],\n",
            "        [ 3.0633, -0.1589,  0.3514]])\n"
          ]
        }
      ]
    },
    {
      "cell_type": "code",
      "source": [
        "x = torch.randn(2, 3)\n",
        "y = torch.randn(2, 3)\n",
        "\n",
        "z = x + y\n",
        "\n",
        "print(f\"X: {(x)}\")\n",
        "print(f\"y: {(y)}\")\n",
        "\n",
        "\n",
        "print(f\"Size {z.shape}\")\n",
        "print(f\"Z \\n{(z)}\")"
      ],
      "metadata": {
        "colab": {
          "base_uri": "https://localhost:8080/"
        },
        "id": "8QIiF-k2a6wR",
        "outputId": "52417c8f-b0dd-48db-ad19-3e28d406a977"
      },
      "execution_count": 10,
      "outputs": [
        {
          "output_type": "stream",
          "name": "stdout",
          "text": [
            "X: tensor([[-0.0098, -1.4473, -0.2039],\n",
            "        [ 0.8738, -0.6816,  0.6339]])\n",
            "y: tensor([[ 0.1922,  0.0918, -0.8625],\n",
            "        [ 0.1596,  0.8184, -0.7649]])\n",
            "Size torch.Size([2, 3])\n",
            "Z \n",
            "tensor([[ 0.1824, -1.3555, -1.0664],\n",
            "        [ 1.0333,  0.1368, -0.1310]])\n"
          ]
        }
      ]
    },
    {
      "cell_type": "code",
      "source": [
        "x = torch.randn(2, 3)\n",
        "y = torch.randn(2, 3)\n",
        "\n",
        "z = x * y\n",
        "print(f\"Size {z.shape}\")\n",
        "print(f\"Z \\n{(z)}\")"
      ],
      "metadata": {
        "colab": {
          "base_uri": "https://localhost:8080/"
        },
        "id": "a9-JflIKbmMs",
        "outputId": "6a05f537-e272-4cd7-8c0a-03270333f386"
      },
      "execution_count": 11,
      "outputs": [
        {
          "output_type": "stream",
          "name": "stdout",
          "text": [
            "Size torch.Size([2, 3])\n",
            "Z \n",
            "tensor([[ 0.3620, -0.0375, -0.2584],\n",
            "        [ 0.0221,  1.3691,  0.1772]])\n"
          ]
        }
      ]
    },
    {
      "cell_type": "code",
      "source": [
        "# Matrix Multiplication\n",
        "x = torch.randn(2, 3)\n",
        "y = torch.randn(3, 2)\n",
        "\n",
        "z = torch.mm(x, y)\n",
        "print(f\"Size {z.shape}\")\n",
        "print(f\"Z \\n{(z)}\")"
      ],
      "metadata": {
        "colab": {
          "base_uri": "https://localhost:8080/"
        },
        "id": "MwuZ_Hz3bqH2",
        "outputId": "95dce47d-d30f-45c0-d7cd-20c42bcb78ad"
      },
      "execution_count": 12,
      "outputs": [
        {
          "output_type": "stream",
          "name": "stdout",
          "text": [
            "Size torch.Size([2, 2])\n",
            "Z \n",
            "tensor([[ 0.4173,  0.2528],\n",
            "        [-3.6668, -1.6944]])\n"
          ]
        }
      ]
    },
    {
      "cell_type": "code",
      "source": [
        "# Transpose\n",
        "x = torch.randn(2, 3)\n",
        "print(x)\n",
        "print(torch.t(x))"
      ],
      "metadata": {
        "colab": {
          "base_uri": "https://localhost:8080/"
        },
        "id": "yvrsLk09eNaW",
        "outputId": "131cdecd-cb85-4a89-acb9-52d7b96ee09e"
      },
      "execution_count": 13,
      "outputs": [
        {
          "output_type": "stream",
          "name": "stdout",
          "text": [
            "tensor([[-0.2349, -0.0306,  1.7462],\n",
            "        [-0.0722, -1.6794, -1.7010]])\n",
            "tensor([[-0.2349, -0.0722],\n",
            "        [-0.0306, -1.6794],\n",
            "        [ 1.7462, -1.7010]])\n"
          ]
        }
      ]
    },
    {
      "cell_type": "code",
      "source": [
        "# Reshaping tensors: Be careful\n",
        "x = torch.randn(2, 3)\n",
        "z = x.view(3, 2)\n",
        "print(x)\n",
        "print(z)"
      ],
      "metadata": {
        "colab": {
          "base_uri": "https://localhost:8080/"
        },
        "id": "eu6wueFpzNHL",
        "outputId": "6e6d4bae-2551-4cb8-9030-451f4dbe64da"
      },
      "execution_count": 14,
      "outputs": [
        {
          "output_type": "stream",
          "name": "stdout",
          "text": [
            "tensor([[ 0.6486,  1.7653,  1.0812],\n",
            "        [ 1.2436,  0.8971, -0.0784]])\n",
            "tensor([[ 0.6486,  1.7653],\n",
            "        [ 1.0812,  1.2436],\n",
            "        [ 0.8971, -0.0784]])\n"
          ]
        }
      ]
    },
    {
      "cell_type": "code",
      "source": [
        "# Dimensional operations\n",
        "x = torch.randn(2, 3)\n",
        "print(f\"Values: \\n{x}\")\n",
        "y = torch.sum(x, dim=0) # add each row's value for every column\n",
        "print(f\"Values: \\n{y}\")\n",
        "z = torch.sum(x, dim=1) # add each columns's value for every row\n",
        "print(f\"Values: \\n{z}\")"
      ],
      "metadata": {
        "colab": {
          "base_uri": "https://localhost:8080/"
        },
        "id": "3ytNGYWSzmCz",
        "outputId": "d0a48366-9be8-4e73-a8b5-b6ea661831ce"
      },
      "execution_count": 15,
      "outputs": [
        {
          "output_type": "stream",
          "name": "stdout",
          "text": [
            "Values: \n",
            "tensor([[ 0.5548, -0.0845,  0.5903],\n",
            "        [-1.0032, -1.7873,  0.0538]])\n",
            "Values: \n",
            "tensor([-0.4484, -1.8718,  0.6441])\n",
            "Values: \n",
            "tensor([ 1.0607, -2.7367])\n"
          ]
        }
      ]
    },
    {
      "cell_type": "markdown",
      "source": [
        "### Indexing"
      ],
      "metadata": {
        "id": "fopqhUdD0SeC"
      }
    },
    {
      "cell_type": "code",
      "source": [
        "x = torch.randn(3, 4)\n",
        "print (f\"x: \\n{x}\")"
      ],
      "metadata": {
        "colab": {
          "base_uri": "https://localhost:8080/"
        },
        "id": "TOxzBYVpz9MU",
        "outputId": "64b64cce-e579-44eb-f869-e580f2f98852"
      },
      "execution_count": 16,
      "outputs": [
        {
          "output_type": "stream",
          "name": "stdout",
          "text": [
            "x: \n",
            "tensor([[ 0.8246, -0.5723, -0.4876,  0.1944],\n",
            "        [-1.0481, -0.0741, -0.3449, -1.5447],\n",
            "        [ 0.0685, -1.5104, -1.1706,  0.2259]])\n"
          ]
        }
      ]
    },
    {
      "cell_type": "code",
      "source": [
        "print (f\"x[:1]: \\n{x[:1]}\")\n",
        "print (f\"x[1:3, 2:4]: \\n{x[1:3, 2:4]}\")"
      ],
      "metadata": {
        "colab": {
          "base_uri": "https://localhost:8080/"
        },
        "id": "gHpQQE1v0qpI",
        "outputId": "45d75486-50c4-4d09-d7b4-9996012726fd"
      },
      "execution_count": 17,
      "outputs": [
        {
          "output_type": "stream",
          "name": "stdout",
          "text": [
            "x[:1]: \n",
            "tensor([[ 0.8246, -0.5723, -0.4876,  0.1944]])\n",
            "x[1:3, 2:4]: \n",
            "tensor([[-0.3449, -1.5447],\n",
            "        [-1.1706,  0.2259]])\n"
          ]
        }
      ]
    },
    {
      "cell_type": "markdown",
      "source": [
        "### Selection"
      ],
      "metadata": {
        "id": "QqgOEqaE2xEq"
      }
    },
    {
      "cell_type": "code",
      "source": [
        "x = torch.randn(3, 3)\n",
        "print(x)"
      ],
      "metadata": {
        "colab": {
          "base_uri": "https://localhost:8080/"
        },
        "id": "MSE_cdU70-Io",
        "outputId": "2e70d73a-4667-4dac-e937-1a0fafa910b5"
      },
      "execution_count": 18,
      "outputs": [
        {
          "output_type": "stream",
          "name": "stdout",
          "text": [
            "tensor([[ 1.4696, -1.3284,  1.9946],\n",
            "        [-0.8209,  1.0061, -1.0664],\n",
            "        [-0.4572,  0.0901,  0.4018]])\n"
          ]
        }
      ]
    },
    {
      "cell_type": "code",
      "source": [
        "row_index = torch.LongTensor([0, 2])\n",
        "col_index = torch.LongTensor([0, 2])\n",
        "\n",
        "selected = torch.index_select(x, dim = 1, index = col_index)\n",
        "print(selected)"
      ],
      "metadata": {
        "colab": {
          "base_uri": "https://localhost:8080/"
        },
        "id": "M0Do9c5v3DL1",
        "outputId": "65218166-9509-4c57-efcb-02fc32e903d8"
      },
      "execution_count": 19,
      "outputs": [
        {
          "output_type": "stream",
          "name": "stdout",
          "text": [
            "tensor([[ 1.4696,  1.9946],\n",
            "        [-0.8209, -1.0664],\n",
            "        [-0.4572,  0.4018]])\n"
          ]
        }
      ]
    },
    {
      "cell_type": "code",
      "source": [
        "selected = x[row_index, col_index] # values from (0, 0) & (1, 2)\n",
        "print(selected)"
      ],
      "metadata": {
        "colab": {
          "base_uri": "https://localhost:8080/"
        },
        "id": "5sLgZD8f3lp2",
        "outputId": "bc99c32e-b3f8-47f1-dab6-e174df68de40"
      },
      "execution_count": 20,
      "outputs": [
        {
          "output_type": "stream",
          "name": "stdout",
          "text": [
            "tensor([1.4696, 0.4018])\n"
          ]
        }
      ]
    },
    {
      "cell_type": "markdown",
      "source": [
        "### Joining"
      ],
      "metadata": {
        "id": "43NXt61R40hO"
      }
    },
    {
      "cell_type": "code",
      "source": [
        "x = torch.randn(2, 3)\n",
        "print (x)\n",
        "print (x.shape)"
      ],
      "metadata": {
        "colab": {
          "base_uri": "https://localhost:8080/"
        },
        "id": "zAh6mDPW4Vdu",
        "outputId": "3c4b359b-a5fd-4ca4-816c-75711b109407"
      },
      "execution_count": 21,
      "outputs": [
        {
          "output_type": "stream",
          "name": "stdout",
          "text": [
            "tensor([[-1.1542,  0.1192, -0.7348],\n",
            "        [-1.5864, -0.2671,  2.6874]])\n",
            "torch.Size([2, 3])\n"
          ]
        }
      ]
    },
    {
      "cell_type": "code",
      "source": [
        "# Concatenation\n",
        "y = torch.cat([x, x], dim=0) # concat on a specified dimension\n",
        "print (y)\n",
        "print (y.shape)"
      ],
      "metadata": {
        "colab": {
          "base_uri": "https://localhost:8080/"
        },
        "id": "WqcJCBTu5fUc",
        "outputId": "0c2de190-7067-4f4c-cff8-25b1ba45c670"
      },
      "execution_count": 22,
      "outputs": [
        {
          "output_type": "stream",
          "name": "stdout",
          "text": [
            "tensor([[-1.1542,  0.1192, -0.7348],\n",
            "        [-1.5864, -0.2671,  2.6874],\n",
            "        [-1.1542,  0.1192, -0.7348],\n",
            "        [-1.5864, -0.2671,  2.6874]])\n",
            "torch.Size([4, 3])\n"
          ]
        }
      ]
    },
    {
      "cell_type": "code",
      "source": [
        "y = torch.cat([x, x], dim=1) # concat on a specified dimension\n",
        "print (y)\n",
        "print (y.shape)"
      ],
      "metadata": {
        "colab": {
          "base_uri": "https://localhost:8080/"
        },
        "id": "IISdGngT5mNE",
        "outputId": "6123daaa-449c-4c8d-f0d7-d6277cb96b1a"
      },
      "execution_count": 23,
      "outputs": [
        {
          "output_type": "stream",
          "name": "stdout",
          "text": [
            "tensor([[-1.1542,  0.1192, -0.7348, -1.1542,  0.1192, -0.7348],\n",
            "        [-1.5864, -0.2671,  2.6874, -1.5864, -0.2671,  2.6874]])\n",
            "torch.Size([2, 6])\n"
          ]
        }
      ]
    },
    {
      "cell_type": "code",
      "source": [
        "# Stacking\n",
        "z = torch.stack([x, x], dim=0) # stack on new dimension\n",
        "print (z)\n",
        "print (z.shape)"
      ],
      "metadata": {
        "colab": {
          "base_uri": "https://localhost:8080/"
        },
        "id": "pzOoDf2B5iWk",
        "outputId": "561937f8-4893-42d4-ef76-3c6a46046779"
      },
      "execution_count": 24,
      "outputs": [
        {
          "output_type": "stream",
          "name": "stdout",
          "text": [
            "tensor([[[-1.1542,  0.1192, -0.7348],\n",
            "         [-1.5864, -0.2671,  2.6874]],\n",
            "\n",
            "        [[-1.1542,  0.1192, -0.7348],\n",
            "         [-1.5864, -0.2671,  2.6874]]])\n",
            "torch.Size([2, 2, 3])\n"
          ]
        }
      ]
    },
    {
      "cell_type": "code",
      "source": [
        "# Stacking\n",
        "z = torch.stack([x, x], dim=1) # stack on new dimension\n",
        "print (z)\n",
        "print (z.shape)"
      ],
      "metadata": {
        "colab": {
          "base_uri": "https://localhost:8080/"
        },
        "id": "mQtzxu825qx3",
        "outputId": "2486f798-94d5-4e64-f08d-ac34e2a5944b"
      },
      "execution_count": 25,
      "outputs": [
        {
          "output_type": "stream",
          "name": "stdout",
          "text": [
            "tensor([[[-1.1542,  0.1192, -0.7348],\n",
            "         [-1.1542,  0.1192, -0.7348]],\n",
            "\n",
            "        [[-1.5864, -0.2671,  2.6874],\n",
            "         [-1.5864, -0.2671,  2.6874]]])\n",
            "torch.Size([2, 2, 3])\n"
          ]
        }
      ]
    },
    {
      "cell_type": "markdown",
      "source": [
        "### Gradients"
      ],
      "metadata": {
        "id": "-jt9MwDJ5zzy"
      }
    },
    {
      "cell_type": "code",
      "source": [
        "x = torch.randn(3, 3, requires_grad=True)\n",
        "\n",
        "y = 3 * x + 5\n",
        "z = y.mean()\n",
        "\n",
        "z.backward() # computes the gradients of z with respect to all tensors that were involved in computing it. In this case, that's just x. The gradients are computed using the chain rule of calculus and stored in x.grad.\n",
        "print(f\"x: \\n{x}\")\n",
        "print(f\"x.grad: \\n{x.grad}\") # prints the gradient of x that was computed by the backward() call."
      ],
      "metadata": {
        "id": "abYXNjny6D_I",
        "outputId": "9d76eaae-6d3b-4eaa-a465-63171932bc79",
        "colab": {
          "base_uri": "https://localhost:8080/"
        }
      },
      "execution_count": 26,
      "outputs": [
        {
          "output_type": "stream",
          "name": "stdout",
          "text": [
            "x: \n",
            "tensor([[-0.4633,  0.6639,  0.2383],\n",
            "        [ 0.8305, -0.0838,  0.9523],\n",
            "        [ 0.2016, -0.1714, -0.8164]], requires_grad=True)\n",
            "x.grad: \n",
            "tensor([[0.3333, 0.3333, 0.3333],\n",
            "        [0.3333, 0.3333, 0.3333],\n",
            "        [0.3333, 0.3333, 0.3333]])\n"
          ]
        }
      ]
    },
    {
      "cell_type": "markdown",
      "source": [
        "### CUDA"
      ],
      "metadata": {
        "id": "81lPMMQ1_g40"
      }
    },
    {
      "cell_type": "code",
      "source": [
        "print(torch.cuda.is_available())"
      ],
      "metadata": {
        "id": "mCdTcR2J6PPR",
        "outputId": "f763f211-b766-465e-ac9f-8cd657ab8bf6",
        "colab": {
          "base_uri": "https://localhost:8080/"
        }
      },
      "execution_count": 27,
      "outputs": [
        {
          "output_type": "stream",
          "name": "stdout",
          "text": [
            "True\n"
          ]
        }
      ]
    },
    {
      "cell_type": "code",
      "source": [
        "# Set device\n",
        "device = torch.device(\"cuda\" if torch.cuda.is_available() else \"cpu\")\n",
        "print (device)"
      ],
      "metadata": {
        "id": "xkhJ_HufGhJm",
        "outputId": "036b13a1-54f7-40b4-b716-4e57bf83a618",
        "colab": {
          "base_uri": "https://localhost:8080/"
        }
      },
      "execution_count": 30,
      "outputs": [
        {
          "output_type": "stream",
          "name": "stdout",
          "text": [
            "cuda\n"
          ]
        }
      ]
    },
    {
      "cell_type": "code",
      "source": [
        "x = torch.rand(2,3)\n",
        "print (x.is_cuda)\n",
        "x = torch.rand(2,3).to(device) # Tensor is stored on the GPU\n",
        "print (x.is_cuda)\n"
      ],
      "metadata": {
        "id": "0FNE3Knt_mgI",
        "outputId": "a5d40e73-be12-411b-8f02-cb62f29086d5",
        "colab": {
          "base_uri": "https://localhost:8080/"
        }
      },
      "execution_count": 31,
      "outputs": [
        {
          "output_type": "stream",
          "name": "stdout",
          "text": [
            "False\n",
            "True\n"
          ]
        }
      ]
    },
    {
      "cell_type": "code",
      "source": [],
      "metadata": {
        "id": "g92MnBWaGyKx"
      },
      "execution_count": null,
      "outputs": []
    }
  ]
}