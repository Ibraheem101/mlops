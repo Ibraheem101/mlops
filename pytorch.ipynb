{
  "nbformat": 4,
  "nbformat_minor": 0,
  "metadata": {
    "colab": {
      "provenance": [],
      "authorship_tag": "ABX9TyNySX7jtThBskDa+Ih0rr5q",
      "include_colab_link": true
    },
    "kernelspec": {
      "name": "python3",
      "display_name": "Python 3"
    },
    "language_info": {
      "name": "python"
    }
  },
  "cells": [
    {
      "cell_type": "markdown",
      "metadata": {
        "id": "view-in-github",
        "colab_type": "text"
      },
      "source": [
        "<a href=\"https://colab.research.google.com/github/Ibraheem101/mlops/blob/main/pytorch.ipynb\" target=\"_parent\"><img src=\"https://colab.research.google.com/assets/colab-badge.svg\" alt=\"Open In Colab\"/></a>"
      ]
    },
    {
      "cell_type": "code",
      "execution_count": 1,
      "metadata": {
        "id": "xdisN_wNUMKf"
      },
      "outputs": [],
      "source": [
        "import numpy as np\n",
        "import torch"
      ]
    },
    {
      "cell_type": "code",
      "source": [
        "SEED = 1234"
      ],
      "metadata": {
        "id": "4BS_J32AUUPE"
      },
      "execution_count": 2,
      "outputs": []
    },
    {
      "cell_type": "code",
      "source": [
        "np.random.seed(seed = SEED)\n",
        "torch.manual_seed(seed = SEED)"
      ],
      "metadata": {
        "colab": {
          "base_uri": "https://localhost:8080/"
        },
        "id": "m1RqmL9hVAlG",
        "outputId": "851eb12c-5bf3-498d-da61-896a403886e7"
      },
      "execution_count": 3,
      "outputs": [
        {
          "output_type": "execute_result",
          "data": {
            "text/plain": [
              "<torch._C.Generator at 0x7fd7dc3f0970>"
            ]
          },
          "metadata": {},
          "execution_count": 3
        }
      ]
    },
    {
      "cell_type": "markdown",
      "source": [
        "### Creating Tensors"
      ],
      "metadata": {
        "id": "a2cqpNInWouM"
      }
    },
    {
      "cell_type": "code",
      "source": [
        "x = torch.randn(2, 3)\n",
        "print(f\"Type {x.type()}\")\n",
        "print(f\"Size {x.shape}\")\n",
        "print(f\"Values \\n{(x)}\")"
      ],
      "metadata": {
        "colab": {
          "base_uri": "https://localhost:8080/"
        },
        "id": "jPZCJDObWBV8",
        "outputId": "d143d715-6d5a-419c-ea75-387228fc2d8f"
      },
      "execution_count": 4,
      "outputs": [
        {
          "output_type": "stream",
          "name": "stdout",
          "text": [
            "Type torch.FloatTensor\n",
            "Size torch.Size([2, 3])\n",
            "Values \n",
            "tensor([[ 0.0461,  0.4024, -1.0115],\n",
            "        [ 0.2167, -0.6123,  0.5036]])\n"
          ]
        }
      ]
    },
    {
      "cell_type": "code",
      "source": [
        "# Zeros and Ones\n",
        "zeros = torch.zeros(2, 3)\n",
        "print(zeros)\n",
        "\n",
        "ones = torch.ones(2, 3)\n",
        "print(ones)"
      ],
      "metadata": {
        "colab": {
          "base_uri": "https://localhost:8080/"
        },
        "id": "A0783pzxWzj2",
        "outputId": "35d01568-ab8a-4bea-c32b-7be19845a6aa"
      },
      "execution_count": 5,
      "outputs": [
        {
          "output_type": "stream",
          "name": "stdout",
          "text": [
            "tensor([[0., 0., 0.],\n",
            "        [0., 0., 0.]])\n",
            "tensor([[1., 1., 1.],\n",
            "        [1., 1., 1.]])\n"
          ]
        }
      ]
    },
    {
      "cell_type": "code",
      "source": [
        "# List to tensor\n",
        "list1 = [[2, 3], [4, 5]]\n",
        "x = torch.Tensor(list1)\n",
        "print(f\"Type {x.type()}\")\n",
        "print(f\"Size {x.shape}\")\n",
        "print(f\"Values \\n{(x)}\")"
      ],
      "metadata": {
        "colab": {
          "base_uri": "https://localhost:8080/"
        },
        "id": "mJER6vUNXczd",
        "outputId": "0f53c102-a378-416d-8675-248b7ed38739"
      },
      "execution_count": 6,
      "outputs": [
        {
          "output_type": "stream",
          "name": "stdout",
          "text": [
            "Type torch.FloatTensor\n",
            "Size torch.Size([2, 2])\n",
            "Values \n",
            "tensor([[2., 3.],\n",
            "        [4., 5.]])\n"
          ]
        }
      ]
    },
    {
      "cell_type": "code",
      "source": [
        "# Numpy array to tensor\n",
        "nparr = np.random.randn(2, 3)\n",
        "x = torch.Tensor(nparr)\n",
        "print(f\"Type {x.type()}\")\n",
        "print(f\"Size {x.shape}\")\n",
        "print(f\"Values \\n{(x)}\")"
      ],
      "metadata": {
        "colab": {
          "base_uri": "https://localhost:8080/"
        },
        "id": "7cjO6c1dYfv1",
        "outputId": "9fe856a6-f5a9-48aa-b1a1-0f002f28ff1d"
      },
      "execution_count": 7,
      "outputs": [
        {
          "output_type": "stream",
          "name": "stdout",
          "text": [
            "Type torch.FloatTensor\n",
            "Size torch.Size([2, 3])\n",
            "Values \n",
            "tensor([[ 0.4714, -1.1910,  1.4327],\n",
            "        [-0.3127, -0.7206,  0.8872]])\n"
          ]
        }
      ]
    },
    {
      "cell_type": "code",
      "source": [
        "# Changing tensor type\n",
        "x = torch.Tensor(3, 4)\n",
        "print(f\"Type: {x.type()}\")\n",
        "x = x.long()\n",
        "print(f\"Type: {x.type()}\")\n",
        "x = x.int()\n",
        "print(f\"Type: {x.type()}\")\n",
        "x = x.double()\n",
        "print(f\"Type: {x.type()}\")"
      ],
      "metadata": {
        "colab": {
          "base_uri": "https://localhost:8080/"
        },
        "id": "u1OY0JPxY13Y",
        "outputId": "a50a9bbe-efc5-488c-8713-850683a2d12f"
      },
      "execution_count": 8,
      "outputs": [
        {
          "output_type": "stream",
          "name": "stdout",
          "text": [
            "Type: torch.FloatTensor\n",
            "Type: torch.LongTensor\n",
            "Type: torch.IntTensor\n",
            "Type: torch.DoubleTensor\n"
          ]
        }
      ]
    },
    {
      "cell_type": "markdown",
      "source": [],
      "metadata": {
        "id": "RWWG-WOAZqW5"
      }
    },
    {
      "cell_type": "markdown",
      "source": [
        "### Tensor Operations"
      ],
      "metadata": {
        "id": "3Q5ax7vYZnAt"
      }
    },
    {
      "cell_type": "code",
      "source": [
        "x = torch.randn(2, 3)\n",
        "y = torch.randn(2, 3)\n",
        "\n",
        "z = x + y\n",
        "print(f\"Size {z.shape}\")\n",
        "print(f\"Values \\n{(z)}\")\n"
      ],
      "metadata": {
        "colab": {
          "base_uri": "https://localhost:8080/"
        },
        "id": "ep73ow-XZRDx",
        "outputId": "427948b6-1f63-4fff-94a8-df5ebb3eb33a"
      },
      "execution_count": 9,
      "outputs": [
        {
          "output_type": "stream",
          "name": "stdout",
          "text": [
            "Size torch.Size([2, 3])\n",
            "Values \n",
            "tensor([[ 0.0761, -0.6775, -0.3988],\n",
            "        [ 3.0633, -0.1589,  0.3514]])\n"
          ]
        }
      ]
    },
    {
      "cell_type": "code",
      "source": [
        "x = torch.randn(2, 3)\n",
        "y = torch.randn(2, 3)\n",
        "\n",
        "z = x + y\n",
        "\n",
        "print(f\"X: {(x)}\")\n",
        "print(f\"y: {(y)}\")\n",
        "\n",
        "\n",
        "print(f\"Size {z.shape}\")\n",
        "print(f\"Z \\n{(z)}\")"
      ],
      "metadata": {
        "colab": {
          "base_uri": "https://localhost:8080/"
        },
        "id": "8QIiF-k2a6wR",
        "outputId": "291c905f-5f1a-46c0-ac2d-0c355c38602f"
      },
      "execution_count": 10,
      "outputs": [
        {
          "output_type": "stream",
          "name": "stdout",
          "text": [
            "X: tensor([[-0.0098, -1.4473, -0.2039],\n",
            "        [ 0.8738, -0.6816,  0.6339]])\n",
            "y: tensor([[ 0.1922,  0.0918, -0.8625],\n",
            "        [ 0.1596,  0.8184, -0.7649]])\n",
            "Size torch.Size([2, 3])\n",
            "Z \n",
            "tensor([[ 0.1824, -1.3555, -1.0664],\n",
            "        [ 1.0333,  0.1368, -0.1310]])\n"
          ]
        }
      ]
    },
    {
      "cell_type": "code",
      "source": [
        "x = torch.randn(2, 3)\n",
        "y = torch.randn(2, 3)\n",
        "\n",
        "z = x * y\n",
        "print(f\"Size {z.shape}\")\n",
        "print(f\"Z \\n{(z)}\")"
      ],
      "metadata": {
        "colab": {
          "base_uri": "https://localhost:8080/"
        },
        "id": "a9-JflIKbmMs",
        "outputId": "28a657e2-686a-4a30-91e3-64e9b36dfa75"
      },
      "execution_count": 11,
      "outputs": [
        {
          "output_type": "stream",
          "name": "stdout",
          "text": [
            "Size torch.Size([2, 3])\n",
            "Z \n",
            "tensor([[ 0.3620, -0.0375, -0.2584],\n",
            "        [ 0.0221,  1.3691,  0.1772]])\n"
          ]
        }
      ]
    },
    {
      "cell_type": "code",
      "source": [
        "# Matrix Multiplication\n",
        "x = torch.randn(2, 3)\n",
        "y = torch.randn(3, 2)\n",
        "\n",
        "z = torch.mm(x, y)\n",
        "print(f\"Size {z.shape}\")\n",
        "print(f\"Z \\n{(z)}\")"
      ],
      "metadata": {
        "colab": {
          "base_uri": "https://localhost:8080/"
        },
        "id": "MwuZ_Hz3bqH2",
        "outputId": "6d04ede5-b338-4272-fba1-44689249c3c7"
      },
      "execution_count": 12,
      "outputs": [
        {
          "output_type": "stream",
          "name": "stdout",
          "text": [
            "Size torch.Size([2, 2])\n",
            "Z \n",
            "tensor([[ 0.4173,  0.2528],\n",
            "        [-3.6668, -1.6944]])\n"
          ]
        }
      ]
    },
    {
      "cell_type": "code",
      "source": [
        "# Transpose\n",
        "x = torch.randn(2, 3)\n",
        "print(x)\n",
        "print(torch.t(x))"
      ],
      "metadata": {
        "colab": {
          "base_uri": "https://localhost:8080/"
        },
        "id": "yvrsLk09eNaW",
        "outputId": "c82b40e1-862d-4da6-adc4-44f6d5e7da40"
      },
      "execution_count": 14,
      "outputs": [
        {
          "output_type": "stream",
          "name": "stdout",
          "text": [
            "tensor([[ 0.6486,  1.7653,  1.0812],\n",
            "        [ 1.2436,  0.8971, -0.0784]])\n",
            "tensor([[ 0.6486,  1.2436],\n",
            "        [ 1.7653,  0.8971],\n",
            "        [ 1.0812, -0.0784]])\n"
          ]
        }
      ]
    },
    {
      "cell_type": "code",
      "source": [
        "# Reshaping tensors: Be careful\n",
        "x = torch.randn(2, 3)\n",
        "z = x.view(3, 2)\n",
        "print(x)\n",
        "print(z)"
      ],
      "metadata": {
        "colab": {
          "base_uri": "https://localhost:8080/"
        },
        "id": "eu6wueFpzNHL",
        "outputId": "a31686c1-ebcc-4c26-c6fe-7efae8dd967d"
      },
      "execution_count": 16,
      "outputs": [
        {
          "output_type": "stream",
          "name": "stdout",
          "text": [
            "tensor([[ 0.8246, -0.5723, -0.4876],\n",
            "        [ 0.1944, -1.0481, -0.0741]])\n",
            "tensor([[ 0.8246, -0.5723],\n",
            "        [-0.4876,  0.1944],\n",
            "        [-1.0481, -0.0741]])\n"
          ]
        }
      ]
    },
    {
      "cell_type": "code",
      "source": [
        "# Dimensional operations\n",
        "x = torch.randn(2, 3)\n",
        "print(f\"Values: \\n{x}\")\n",
        "y = torch.sum(x, dim=0) # add each row's value for every column\n",
        "print(f\"Values: \\n{y}\")\n",
        "z = torch.sum(x, dim=1) # add each columns's value for every row\n",
        "print(f\"Values: \\n{z}\")"
      ],
      "metadata": {
        "colab": {
          "base_uri": "https://localhost:8080/"
        },
        "id": "3ytNGYWSzmCz",
        "outputId": "fd078f21-f6ca-4d63-9283-0dbd56867439"
      },
      "execution_count": 17,
      "outputs": [
        {
          "output_type": "stream",
          "name": "stdout",
          "text": [
            "Values: \n",
            "tensor([[-0.3449, -1.5447,  0.0685],\n",
            "        [-1.5104, -1.1706,  0.2259]])\n",
            "Values: \n",
            "tensor([-1.8553, -2.7153,  0.2944])\n",
            "Values: \n",
            "tensor([-1.8211, -2.4551])\n"
          ]
        }
      ]
    },
    {
      "cell_type": "markdown",
      "source": [
        "### Indexing"
      ],
      "metadata": {
        "id": "fopqhUdD0SeC"
      }
    },
    {
      "cell_type": "code",
      "source": [
        "x = torch.randn(3, 4)\n",
        "print (f\"x: \\n{x}\")"
      ],
      "metadata": {
        "colab": {
          "base_uri": "https://localhost:8080/"
        },
        "id": "TOxzBYVpz9MU",
        "outputId": "7f93ce88-5396-4b3e-cb71-f85bfadcfc09"
      },
      "execution_count": 18,
      "outputs": [
        {
          "output_type": "stream",
          "name": "stdout",
          "text": [
            "x: \n",
            "tensor([[ 1.4696, -1.3284,  1.9946, -0.8209],\n",
            "        [ 1.0061, -1.0664, -0.4572,  0.0901],\n",
            "        [ 0.4018, -1.1542,  0.1192, -0.7348]])\n"
          ]
        }
      ]
    },
    {
      "cell_type": "code",
      "source": [
        "print (f\"x[:1]: \\n{x[:1]}\")\n",
        "print (f\"x[1:3, 2:4]: \\n{x[1:3, 2:4]}\")"
      ],
      "metadata": {
        "colab": {
          "base_uri": "https://localhost:8080/"
        },
        "id": "gHpQQE1v0qpI",
        "outputId": "912a2e64-8738-45a3-e8ff-4f2f401e3dd9"
      },
      "execution_count": 20,
      "outputs": [
        {
          "output_type": "stream",
          "name": "stdout",
          "text": [
            "x[:1]: \n",
            "tensor([[ 1.4696, -1.3284,  1.9946, -0.8209]])\n",
            "x[1:3, 2:4]: \n",
            "tensor([[-0.4572,  0.0901],\n",
            "        [ 0.1192, -0.7348]])\n"
          ]
        }
      ]
    },
    {
      "cell_type": "markdown",
      "source": [
        "### Selection"
      ],
      "metadata": {
        "id": "QqgOEqaE2xEq"
      }
    },
    {
      "cell_type": "code",
      "source": [
        "x = torch.randn(3, 3)\n",
        "print(x)"
      ],
      "metadata": {
        "colab": {
          "base_uri": "https://localhost:8080/"
        },
        "id": "MSE_cdU70-Io",
        "outputId": "e1ebeebe-7e82-4166-e101-a5087606d1a2"
      },
      "execution_count": 22,
      "outputs": [
        {
          "output_type": "stream",
          "name": "stdout",
          "text": [
            "tensor([[ 0.8305, -0.0838,  0.9523],\n",
            "        [ 0.2016, -0.1714, -0.8164],\n",
            "        [-0.6066, -0.4800,  1.1733]])\n"
          ]
        }
      ]
    },
    {
      "cell_type": "code",
      "source": [
        "row_index = torch.LongTensor([0, 2])\n",
        "col_index = torch.LongTensor([0, 2])\n",
        "\n",
        "selected = torch.index_select(x, dim = 1, index = col_index)\n",
        "print(selected)"
      ],
      "metadata": {
        "colab": {
          "base_uri": "https://localhost:8080/"
        },
        "id": "M0Do9c5v3DL1",
        "outputId": "edf0eaa4-1404-4096-d06d-0d9dd7d0decc"
      },
      "execution_count": 30,
      "outputs": [
        {
          "output_type": "stream",
          "name": "stdout",
          "text": [
            "tensor([[ 0.8305,  0.9523],\n",
            "        [ 0.2016, -0.8164],\n",
            "        [-0.6066,  1.1733]])\n"
          ]
        }
      ]
    },
    {
      "cell_type": "code",
      "source": [
        "selected = x[row_index, col_index] # values from (0, 0) & (1, 2)\n",
        "print(selected)"
      ],
      "metadata": {
        "colab": {
          "base_uri": "https://localhost:8080/"
        },
        "id": "5sLgZD8f3lp2",
        "outputId": "89d81ec5-fff2-4874-8bd7-26e54401811a"
      },
      "execution_count": 32,
      "outputs": [
        {
          "output_type": "stream",
          "name": "stdout",
          "text": [
            "tensor([0.8305, 1.1733])\n"
          ]
        }
      ]
    },
    {
      "cell_type": "markdown",
      "source": [
        "### Joining"
      ],
      "metadata": {
        "id": "43NXt61R40hO"
      }
    },
    {
      "cell_type": "code",
      "source": [
        "x = torch.randn(2, 3)\n",
        "print (x)\n",
        "print (x.shape)"
      ],
      "metadata": {
        "colab": {
          "base_uri": "https://localhost:8080/"
        },
        "id": "zAh6mDPW4Vdu",
        "outputId": "21cea551-1733-4f6d-a0bd-6dc02a958804"
      },
      "execution_count": 33,
      "outputs": [
        {
          "output_type": "stream",
          "name": "stdout",
          "text": [
            "tensor([[ 0.3714, -2.3531, -1.6705],\n",
            "        [-0.4716,  0.8130, -0.4171]])\n",
            "torch.Size([2, 3])\n"
          ]
        }
      ]
    },
    {
      "cell_type": "code",
      "source": [
        "# Concatenation\n",
        "y = torch.cat([x, x], dim=0) # concat on a specified dimension\n",
        "print (y)\n",
        "print (y.shape)"
      ],
      "metadata": {
        "id": "WqcJCBTu5fUc",
        "outputId": "42835924-a607-4b7f-d340-c8e775b30cb9",
        "colab": {
          "base_uri": "https://localhost:8080/"
        }
      },
      "execution_count": 34,
      "outputs": [
        {
          "output_type": "stream",
          "name": "stdout",
          "text": [
            "tensor([[ 0.3714, -2.3531, -1.6705],\n",
            "        [-0.4716,  0.8130, -0.4171],\n",
            "        [ 0.3714, -2.3531, -1.6705],\n",
            "        [-0.4716,  0.8130, -0.4171]])\n",
            "torch.Size([4, 3])\n"
          ]
        }
      ]
    },
    {
      "cell_type": "code",
      "source": [
        "y = torch.cat([x, x], dim=1) # concat on a specified dimension\n",
        "print (y)\n",
        "print (y.shape)"
      ],
      "metadata": {
        "id": "IISdGngT5mNE",
        "outputId": "bac40ee5-4b93-48c9-bbb7-6c99ecf124a7",
        "colab": {
          "base_uri": "https://localhost:8080/"
        }
      },
      "execution_count": 35,
      "outputs": [
        {
          "output_type": "stream",
          "name": "stdout",
          "text": [
            "tensor([[ 0.3714, -2.3531, -1.6705,  0.3714, -2.3531, -1.6705],\n",
            "        [-0.4716,  0.8130, -0.4171, -0.4716,  0.8130, -0.4171]])\n",
            "torch.Size([2, 6])\n"
          ]
        }
      ]
    },
    {
      "cell_type": "code",
      "source": [
        "# Stacking\n",
        "z = torch.stack([x, x], dim=0) # stack on new dimension\n",
        "print (z)\n",
        "print (z.shape)"
      ],
      "metadata": {
        "id": "pzOoDf2B5iWk",
        "outputId": "5b137dfe-2b99-408f-c520-8a396dae6b20",
        "colab": {
          "base_uri": "https://localhost:8080/"
        }
      },
      "execution_count": 36,
      "outputs": [
        {
          "output_type": "stream",
          "name": "stdout",
          "text": [
            "tensor([[[ 0.3714, -2.3531, -1.6705],\n",
            "         [-0.4716,  0.8130, -0.4171]],\n",
            "\n",
            "        [[ 0.3714, -2.3531, -1.6705],\n",
            "         [-0.4716,  0.8130, -0.4171]]])\n",
            "torch.Size([2, 2, 3])\n"
          ]
        }
      ]
    },
    {
      "cell_type": "code",
      "source": [
        "# Stacking\n",
        "z = torch.stack([x, x], dim=1) # stack on new dimension\n",
        "print (z)\n",
        "print (z.shape)"
      ],
      "metadata": {
        "id": "mQtzxu825qx3",
        "outputId": "f4ade88f-dbcb-4b0f-b622-6117430adcc7",
        "colab": {
          "base_uri": "https://localhost:8080/"
        }
      },
      "execution_count": 37,
      "outputs": [
        {
          "output_type": "stream",
          "name": "stdout",
          "text": [
            "tensor([[[ 0.3714, -2.3531, -1.6705],\n",
            "         [ 0.3714, -2.3531, -1.6705]],\n",
            "\n",
            "        [[-0.4716,  0.8130, -0.4171],\n",
            "         [-0.4716,  0.8130, -0.4171]]])\n",
            "torch.Size([2, 2, 3])\n"
          ]
        }
      ]
    },
    {
      "cell_type": "markdown",
      "source": [
        "### Gradients"
      ],
      "metadata": {
        "id": "-jt9MwDJ5zzy"
      }
    },
    {
      "cell_type": "code",
      "source": [],
      "metadata": {
        "id": "l2dpW5-D5uTc"
      },
      "execution_count": null,
      "outputs": []
    }
  ]
}