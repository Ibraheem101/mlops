{
  "nbformat": 4,
  "nbformat_minor": 0,
  "metadata": {
    "colab": {
      "provenance": [],
      "authorship_tag": "ABX9TyMUIFsrHe8AqsuuCmPWHn8p",
      "include_colab_link": true
    },
    "kernelspec": {
      "name": "python3",
      "display_name": "Python 3"
    },
    "language_info": {
      "name": "python"
    }
  },
  "cells": [
    {
      "cell_type": "markdown",
      "metadata": {
        "id": "view-in-github",
        "colab_type": "text"
      },
      "source": [
        "<a href=\"https://colab.research.google.com/github/Ibraheem101/mlops/blob/main/linear_regression.ipynb\" target=\"_parent\"><img src=\"https://colab.research.google.com/assets/colab-badge.svg\" alt=\"Open In Colab\"/></a>"
      ]
    },
    {
      "cell_type": "markdown",
      "source": [
        "# Linear Regression"
      ],
      "metadata": {
        "id": "Lw3jC4vp3_kz"
      }
    },
    {
      "cell_type": "code",
      "execution_count": 1,
      "metadata": {
        "id": "r35W4ReZ36Oi"
      },
      "outputs": [],
      "source": [
        "import torch\n",
        "import numpy as np\n",
        "import pandas as pd\n",
        "import seaborn as sns\n",
        "import matplotlib.pyplot as plt"
      ]
    },
    {
      "cell_type": "code",
      "source": [
        "SEED = 1234\n",
        "NUM_SAMPLES = 100"
      ],
      "metadata": {
        "id": "_IP3md_S4W7O"
      },
      "execution_count": 2,
      "outputs": []
    },
    {
      "cell_type": "code",
      "source": [
        "np.random.seed(SEED)"
      ],
      "metadata": {
        "id": "twemT6UT42KT"
      },
      "execution_count": 3,
      "outputs": []
    },
    {
      "cell_type": "code",
      "source": [
        "# Generate data\n",
        "def generate_data(n):\n",
        "  X = np.linspace(0, 99, 100)\n",
        "  random_noise = np.random.uniform(-10, 20, size = n)\n",
        "  y = 5 * X + random_noise\n",
        "  return X, y"
      ],
      "metadata": {
        "id": "aPHLM70X49r5"
      },
      "execution_count": 4,
      "outputs": []
    },
    {
      "cell_type": "code",
      "source": [
        "X, y = generate_data(n = NUM_SAMPLES)\n",
        "data = np.vstack([X, y]).T\n",
        "print(data[:10])"
      ],
      "metadata": {
        "colab": {
          "base_uri": "https://localhost:8080/"
        },
        "id": "Ck3Nk5WV8KaU",
        "outputId": "1b2611fc-baf8-401c-fae1-84fbb3b688ab"
      },
      "execution_count": 5,
      "outputs": [
        {
          "output_type": "stream",
          "name": "stdout",
          "text": [
            "[[ 0.         -4.25441649]\n",
            " [ 1.         13.66326313]\n",
            " [ 2.         13.13183217]\n",
            " [ 3.         28.56075751]\n",
            " [ 4.         33.39927424]\n",
            " [ 5.         23.17777816]\n",
            " [ 6.         28.29392765]\n",
            " [ 7.         49.05616533]\n",
            " [ 8.         58.74418061]\n",
            " [ 9.         61.27797904]]\n"
          ]
        }
      ]
    },
    {
      "cell_type": "code",
      "source": [
        "# Load into a dataframe\n",
        "df = pd.DataFrame(data, columns = ['X', 'y'])\n",
        "X = df.X.values\n",
        "y = df.y.values"
      ],
      "metadata": {
        "id": "z7rxJgaC8LtH"
      },
      "execution_count": 6,
      "outputs": []
    },
    {
      "cell_type": "code",
      "source": [
        "df.head()"
      ],
      "metadata": {
        "colab": {
          "base_uri": "https://localhost:8080/",
          "height": 206
        },
        "id": "P7ZjQU59-GIY",
        "outputId": "157b8b23-0a17-4dbd-de36-cec2eb46ce38"
      },
      "execution_count": 7,
      "outputs": [
        {
          "output_type": "execute_result",
          "data": {
            "text/plain": [
              "     X          y\n",
              "0  0.0  -4.254416\n",
              "1  1.0  13.663263\n",
              "2  2.0  13.131832\n",
              "3  3.0  28.560758\n",
              "4  4.0  33.399274"
            ],
            "text/html": [
              "\n",
              "  <div id=\"df-92945b42-952c-4577-93c7-12e89d42364c\">\n",
              "    <div class=\"colab-df-container\">\n",
              "      <div>\n",
              "<style scoped>\n",
              "    .dataframe tbody tr th:only-of-type {\n",
              "        vertical-align: middle;\n",
              "    }\n",
              "\n",
              "    .dataframe tbody tr th {\n",
              "        vertical-align: top;\n",
              "    }\n",
              "\n",
              "    .dataframe thead th {\n",
              "        text-align: right;\n",
              "    }\n",
              "</style>\n",
              "<table border=\"1\" class=\"dataframe\">\n",
              "  <thead>\n",
              "    <tr style=\"text-align: right;\">\n",
              "      <th></th>\n",
              "      <th>X</th>\n",
              "      <th>y</th>\n",
              "    </tr>\n",
              "  </thead>\n",
              "  <tbody>\n",
              "    <tr>\n",
              "      <th>0</th>\n",
              "      <td>0.0</td>\n",
              "      <td>-4.254416</td>\n",
              "    </tr>\n",
              "    <tr>\n",
              "      <th>1</th>\n",
              "      <td>1.0</td>\n",
              "      <td>13.663263</td>\n",
              "    </tr>\n",
              "    <tr>\n",
              "      <th>2</th>\n",
              "      <td>2.0</td>\n",
              "      <td>13.131832</td>\n",
              "    </tr>\n",
              "    <tr>\n",
              "      <th>3</th>\n",
              "      <td>3.0</td>\n",
              "      <td>28.560758</td>\n",
              "    </tr>\n",
              "    <tr>\n",
              "      <th>4</th>\n",
              "      <td>4.0</td>\n",
              "      <td>33.399274</td>\n",
              "    </tr>\n",
              "  </tbody>\n",
              "</table>\n",
              "</div>\n",
              "      <button class=\"colab-df-convert\" onclick=\"convertToInteractive('df-92945b42-952c-4577-93c7-12e89d42364c')\"\n",
              "              title=\"Convert this dataframe to an interactive table.\"\n",
              "              style=\"display:none;\">\n",
              "        \n",
              "  <svg xmlns=\"http://www.w3.org/2000/svg\" height=\"24px\"viewBox=\"0 0 24 24\"\n",
              "       width=\"24px\">\n",
              "    <path d=\"M0 0h24v24H0V0z\" fill=\"none\"/>\n",
              "    <path d=\"M18.56 5.44l.94 2.06.94-2.06 2.06-.94-2.06-.94-.94-2.06-.94 2.06-2.06.94zm-11 1L8.5 8.5l.94-2.06 2.06-.94-2.06-.94L8.5 2.5l-.94 2.06-2.06.94zm10 10l.94 2.06.94-2.06 2.06-.94-2.06-.94-.94-2.06-.94 2.06-2.06.94z\"/><path d=\"M17.41 7.96l-1.37-1.37c-.4-.4-.92-.59-1.43-.59-.52 0-1.04.2-1.43.59L10.3 9.45l-7.72 7.72c-.78.78-.78 2.05 0 2.83L4 21.41c.39.39.9.59 1.41.59.51 0 1.02-.2 1.41-.59l7.78-7.78 2.81-2.81c.8-.78.8-2.07 0-2.86zM5.41 20L4 18.59l7.72-7.72 1.47 1.35L5.41 20z\"/>\n",
              "  </svg>\n",
              "      </button>\n",
              "      \n",
              "  <style>\n",
              "    .colab-df-container {\n",
              "      display:flex;\n",
              "      flex-wrap:wrap;\n",
              "      gap: 12px;\n",
              "    }\n",
              "\n",
              "    .colab-df-convert {\n",
              "      background-color: #E8F0FE;\n",
              "      border: none;\n",
              "      border-radius: 50%;\n",
              "      cursor: pointer;\n",
              "      display: none;\n",
              "      fill: #1967D2;\n",
              "      height: 32px;\n",
              "      padding: 0 0 0 0;\n",
              "      width: 32px;\n",
              "    }\n",
              "\n",
              "    .colab-df-convert:hover {\n",
              "      background-color: #E2EBFA;\n",
              "      box-shadow: 0px 1px 2px rgba(60, 64, 67, 0.3), 0px 1px 3px 1px rgba(60, 64, 67, 0.15);\n",
              "      fill: #174EA6;\n",
              "    }\n",
              "\n",
              "    [theme=dark] .colab-df-convert {\n",
              "      background-color: #3B4455;\n",
              "      fill: #D2E3FC;\n",
              "    }\n",
              "\n",
              "    [theme=dark] .colab-df-convert:hover {\n",
              "      background-color: #434B5C;\n",
              "      box-shadow: 0px 1px 3px 1px rgba(0, 0, 0, 0.15);\n",
              "      filter: drop-shadow(0px 1px 2px rgba(0, 0, 0, 0.3));\n",
              "      fill: #FFFFFF;\n",
              "    }\n",
              "  </style>\n",
              "\n",
              "      <script>\n",
              "        const buttonEl =\n",
              "          document.querySelector('#df-92945b42-952c-4577-93c7-12e89d42364c button.colab-df-convert');\n",
              "        buttonEl.style.display =\n",
              "          google.colab.kernel.accessAllowed ? 'block' : 'none';\n",
              "\n",
              "        async function convertToInteractive(key) {\n",
              "          const element = document.querySelector('#df-92945b42-952c-4577-93c7-12e89d42364c');\n",
              "          const dataTable =\n",
              "            await google.colab.kernel.invokeFunction('convertToInteractive',\n",
              "                                                     [key], {});\n",
              "          if (!dataTable) return;\n",
              "\n",
              "          const docLinkHtml = 'Like what you see? Visit the ' +\n",
              "            '<a target=\"_blank\" href=https://colab.research.google.com/notebooks/data_table.ipynb>data table notebook</a>'\n",
              "            + ' to learn more about interactive tables.';\n",
              "          element.innerHTML = '';\n",
              "          dataTable['output_type'] = 'display_data';\n",
              "          await google.colab.output.renderOutput(dataTable, element);\n",
              "          const docLink = document.createElement('div');\n",
              "          docLink.innerHTML = docLinkHtml;\n",
              "          element.appendChild(docLink);\n",
              "        }\n",
              "      </script>\n",
              "    </div>\n",
              "  </div>\n",
              "  "
            ]
          },
          "metadata": {},
          "execution_count": 7
        }
      ]
    },
    {
      "cell_type": "code",
      "source": [
        "plt.figure(figsize = (10, 7))\n",
        "plt.title(\"Generated data\")\n",
        "sns.scatterplot(data = df, x = X, y = y, color = 'r', )\n",
        "sns.despine()"
      ],
      "metadata": {
        "colab": {
          "base_uri": "https://localhost:8080/",
          "height": 444
        },
        "id": "lGl_jDdN-KRo",
        "outputId": "6cbae647-2761-4bdd-db9e-1d9cb43784ec"
      },
      "execution_count": 8,
      "outputs": [
        {
          "output_type": "display_data",
          "data": {
            "text/plain": [
              "<Figure size 720x504 with 1 Axes>"
            ],
            "image/png": "[encoded data removed]"
          },
          "metadata": {
            "needs_background": "light"
          }
        }
      ]
    },
    {
      "cell_type": "markdown",
      "source": [
        "### Splitting Data"
      ],
      "metadata": {
        "id": "NSRRruC2AX1F"
      }
    },
    {
      "cell_type": "code",
      "source": [
        "train_size = 0.7\n",
        "test_size = 0.15\n",
        "val_size = 0.15"
      ],
      "metadata": {
        "id": "pJy0OvVd-OAK"
      },
      "execution_count": 9,
      "outputs": []
    },
    {
      "cell_type": "code",
      "source": [
        "indices = np.arange(NUM_SAMPLES)\n",
        "np.random.shuffle(indices)"
      ],
      "metadata": {
        "id": "7vysAGtYAlzX"
      },
      "execution_count": 10,
      "outputs": []
    },
    {
      "cell_type": "code",
      "source": [
        "X = X[indices]\n",
        "y = y[indices]"
      ],
      "metadata": {
        "id": "hEBCqNklBLbn"
      },
      "execution_count": 11,
      "outputs": []
    },
    {
      "cell_type": "code",
      "source": [
        "len(X[85:])"
      ],
      "metadata": {
        "colab": {
          "base_uri": "https://localhost:8080/"
        },
        "id": "Wt4AKS7MC97u",
        "outputId": "fc18816a-3099-4282-e2cc-3c9ba694e519"
      },
      "execution_count": 12,
      "outputs": [
        {
          "output_type": "execute_result",
          "data": {
            "text/plain": [
              "15"
            ]
          },
          "metadata": {},
          "execution_count": 12
        }
      ]
    },
    {
      "cell_type": "code",
      "source": [
        "# X_train = X[:70]\n",
        "# y_train = y[:70]\n",
        "\n",
        "# X_test = X[70:85]\n",
        "# y_test = y[70:85]\n",
        "\n",
        "# X_val = X[85:]\n",
        "# y_val = y[85:]"
      ],
      "metadata": {
        "id": "DOoKB-6MCJjf"
      },
      "execution_count": 13,
      "outputs": []
    },
    {
      "cell_type": "code",
      "source": [
        "train_end = int(train_size * NUM_SAMPLES)\n",
        "test_start = train_end\n",
        "test_end = int((train_size + test_size)*NUM_SAMPLES)\n",
        "val_start = test_end\n",
        "\n",
        "print(f\"Train end: {train_end}\")\n",
        "print(f\"Test start: {test_start}\")\n",
        "print(f\"Test end: {test_end}\")"
      ],
      "metadata": {
        "colab": {
          "base_uri": "https://localhost:8080/"
        },
        "id": "kLzgfLukEEf4",
        "outputId": "e69f4c4d-accd-46a0-932c-52b18a7be95c"
      },
      "execution_count": 14,
      "outputs": [
        {
          "output_type": "stream",
          "name": "stdout",
          "text": [
            "Train end: 70\n",
            "Test start: 70\n",
            "Test end: 85\n"
          ]
        }
      ]
    },
    {
      "cell_type": "code",
      "source": [
        "X_train = X[:train_end]\n",
        "y_train = y[:train_end]\n",
        "\n",
        "X_test = X[test_start:test_end]\n",
        "y_test = y[test_start:test_end]\n",
        "\n",
        "X_val = X[val_start:]\n",
        "y_val = y[val_start:]"
      ],
      "metadata": {
        "id": "TZoQWw6SDfgU"
      },
      "execution_count": 15,
      "outputs": []
    },
    {
      "cell_type": "code",
      "source": [
        "print(len(X_train), len(X_test), len(X_val))"
      ],
      "metadata": {
        "colab": {
          "base_uri": "https://localhost:8080/"
        },
        "id": "D8N5xWhlLwAF",
        "outputId": "bd359dcc-0974-432d-8740-b8b2b8601db7"
      },
      "execution_count": 16,
      "outputs": [
        {
          "output_type": "stream",
          "name": "stdout",
          "text": [
            "70 15 15\n"
          ]
        }
      ]
    },
    {
      "cell_type": "code",
      "source": [
        "print (f\"X_train: {X_train.shape}, y_train: {y_train.shape}\")\n",
        "print (f\"X_test: {X_test.shape}, y_test: {y_test.shape}\")\n",
        "print (f\"X_val: {X_val.shape}, y_test: {y_val.shape}\")"
      ],
      "metadata": {
        "colab": {
          "base_uri": "https://localhost:8080/"
        },
        "id": "wsz5cv7lL59t",
        "outputId": "ffc5c936-8210-4aad-d8dd-39ed34131a5a"
      },
      "execution_count": 17,
      "outputs": [
        {
          "output_type": "stream",
          "name": "stdout",
          "text": [
            "X_train: (70,), y_train: (70,)\n",
            "X_test: (15,), y_test: (15,)\n",
            "X_val: (15,), y_test: (15,)\n"
          ]
        }
      ]
    },
    {
      "cell_type": "markdown",
      "source": [
        "### Standardize Data"
      ],
      "metadata": {
        "id": "PzY-yWeoMUY8"
      }
    },
    {
      "cell_type": "code",
      "source": [
        "# Standardize to mean of zero and S.D of 1\n",
        "def Standardize(data, mean, std):\n",
        "  z = (data - mean)/std\n",
        "  return z"
      ],
      "metadata": {
        "id": "PX2sKDpuMHx8"
      },
      "execution_count": 18,
      "outputs": []
    },
    {
      "cell_type": "code",
      "source": [
        "# Fit on training data and transform on test and val data\n",
        "X_mean = np.mean(X_train)\n",
        "X_std = np.std(X_train)\n",
        "\n",
        "y_mean = np.mean(y_train)\n",
        "y_std = np.std(y_train)"
      ],
      "metadata": {
        "id": "Cp7HWiOeNSx7"
      },
      "execution_count": 19,
      "outputs": []
    },
    {
      "cell_type": "code",
      "source": [
        "X_train_scaled = Standardize(X_train, X_mean, X_std)\n",
        "y_train_scaled = Standardize(y_train, y_mean, y_std)\n",
        "\n",
        "X_test_scaled = Standardize(X_test, X_mean, X_std)\n",
        "y_test_scaled = Standardize(y_test, y_mean, y_std)\n",
        "\n",
        "X_val_scaled = Standardize(X_val, X_mean, X_std)\n",
        "y_val_scaled = Standardize(y_val, y_mean, y_std)"
      ],
      "metadata": {
        "id": "SnvQH-JPNZsV"
      },
      "execution_count": 20,
      "outputs": []
    },
    {
      "cell_type": "code",
      "source": [
        "# Check (means should be ~0 and std should be ~1)\n",
        "# Check (means should be ~0 and std should be ~1)\n",
        "print (f\"mean: {np.mean(X_test_scaled, axis=0):.1f}, std: {np.std(X_test_scaled, axis=0):.1f}\")\n",
        "print (f\"mean: {np.mean(y_test_scaled, axis=0):.1f}, std: {np.std(y_test_scaled, axis=0):.1f}\")"
      ],
      "metadata": {
        "colab": {
          "base_uri": "https://localhost:8080/"
        },
        "id": "uf-nAtNtPui2",
        "outputId": "3e97df28-3a91-4b23-c88a-0b36e09be009"
      },
      "execution_count": 21,
      "outputs": [
        {
          "output_type": "stream",
          "name": "stdout",
          "text": [
            "mean: -0.2, std: 1.0\n",
            "mean: -0.2, std: 1.0\n"
          ]
        }
      ]
    },
    {
      "cell_type": "code",
      "source": [
        "X_train_scaled = X_train_scaled.reshape(X_train_scaled.shape[0], 1)\n",
        "y_train_scaled = y_train_scaled.reshape(y_train_scaled.shape[0], 1)\n",
        "\n",
        "X_test_scaled = X_test_scaled.reshape(X_test_scaled.shape[0], 1)\n",
        "y_test_scaled = y_test_scaled.reshape(y_test_scaled.shape[0], 1)\n",
        "\n",
        "X_val_scaled = X_val_scaled.reshape(X_val_scaled.shape[0], 1)\n",
        "y_val_scaled = y_val_scaled.reshape(y_val_scaled.shape[0], 1)"
      ],
      "metadata": {
        "id": "xTWdXch-mXjg"
      },
      "execution_count": 22,
      "outputs": []
    },
    {
      "cell_type": "markdown",
      "source": [
        "### Model Weights and biases"
      ],
      "metadata": {
        "id": "jOKIE3DSSDdM"
      }
    },
    {
      "cell_type": "code",
      "source": [
        "X_train_scaled.shape"
      ],
      "metadata": {
        "colab": {
          "base_uri": "https://localhost:8080/"
        },
        "id": "-x3GPN9XmBHe",
        "outputId": "a26acae4-591d-4d8a-bb11-152dbabab6e4"
      },
      "execution_count": 23,
      "outputs": [
        {
          "output_type": "execute_result",
          "data": {
            "text/plain": [
              "(70, 1)"
            ]
          },
          "metadata": {},
          "execution_count": 23
        }
      ]
    },
    {
      "cell_type": "code",
      "source": [
        "# Random initialization\n",
        "# y_hat = W * X + b\n",
        "w_row = X_train_scaled.shape[1]\n",
        "w_col = y_train_scaled.shape[1]\n",
        "\n",
        "W = 0.01 * np.random.randn(w_row, w_col)\n",
        "b = np.zeros((1, 1)) #Numpy will expand it\n",
        "\n",
        "print (f\"W: {W.shape}\")\n",
        "print (f\"b: {b.shape}\")"
      ],
      "metadata": {
        "colab": {
          "base_uri": "https://localhost:8080/"
        },
        "id": "2DFO2z9QQpl3",
        "outputId": "169e6770-579a-46ab-87bc-3b0fc7d0ab35"
      },
      "execution_count": 24,
      "outputs": [
        {
          "output_type": "stream",
          "name": "stdout",
          "text": [
            "W: (1, 1)\n",
            "b: (1, 1)\n"
          ]
        }
      ]
    },
    {
      "cell_type": "code",
      "source": [
        "y_pred = np.dot(X_train_scaled, W) + b\n",
        "print (f\"y_pred: {y_pred.shape}\")"
      ],
      "metadata": {
        "colab": {
          "base_uri": "https://localhost:8080/"
        },
        "id": "-ObFvbwJUgsz",
        "outputId": "d737d639-a130-47e9-ae8e-ad9d0a3caabb"
      },
      "execution_count": 25,
      "outputs": [
        {
          "output_type": "stream",
          "name": "stdout",
          "text": [
            "y_pred: (70, 1)\n"
          ]
        }
      ]
    },
    {
      "cell_type": "markdown",
      "source": [
        "### Computing Loss\n",
        "MSE"
      ],
      "metadata": {
        "id": "QFNsq07VW71u"
      }
    },
    {
      "cell_type": "code",
      "source": [
        "n = len(X_train_scaled)\n",
        "\n",
        "def mse(y, y_pred, n = len(y)):\n",
        "  \"\"\"Returns the mse loss\"\"\"\n",
        "  return np.sum(np.square(y - y_pred)) / (n)"
      ],
      "metadata": {
        "id": "PCqeluE4Ui8x"
      },
      "execution_count": 26,
      "outputs": []
    },
    {
      "cell_type": "code",
      "source": [
        "dw = np.sum((y_train_scaled - y_pred) * X_train_scaled) / n\n",
        "db = np.sum(y_train_scaled - y_pred) / n"
      ],
      "metadata": {
        "id": "psB00zfOXlEq"
      },
      "execution_count": 27,
      "outputs": []
    },
    {
      "cell_type": "code",
      "source": [
        "# Update weights\n",
        "lr = 0.01\n",
        "W -= lr*dw\n",
        "b -= lr*db"
      ],
      "metadata": {
        "id": "SuxGBKitdUAm"
      },
      "execution_count": 28,
      "outputs": []
    },
    {
      "cell_type": "markdown",
      "source": [
        "### Training"
      ],
      "metadata": {
        "id": "HeLues-deAjc"
      }
    },
    {
      "cell_type": "code",
      "source": [
        "epochs = 200\n",
        "losses = []\n",
        "epoch_count = []\n",
        "for epoch in range(epochs):\n",
        "  y_pred = np.dot(X_train_scaled, W) + b\n",
        "  loss = mse(y_train_scaled, y_pred)\n",
        "  losses.append(loss)\n",
        "  epoch_count.append(epoch)\n",
        "  print (f\"Epoch: {epoch}, loss: {loss:.3f}\")\n",
        "\n",
        "  dw = np.sum((y_train_scaled - y_pred) * X_train_scaled) * 2 / n\n",
        "  db = np.sum(y_train_scaled - y_pred) * 2 / n\n",
        "\n",
        "  W += lr*dw\n",
        "  b += lr*db"
      ],
      "metadata": {
        "colab": {
          "base_uri": "https://localhost:8080/"
        },
        "id": "ZkqzkEE8d605",
        "outputId": "b7815ed2-63a1-43ff-a1bc-72438fd8f434"
      },
      "execution_count": 29,
      "outputs": [
        {
          "output_type": "stream",
          "name": "stdout",
          "text": [
            "Epoch: 0, loss: 0.741\n",
            "Epoch: 1, loss: 0.712\n",
            "Epoch: 2, loss: 0.684\n",
            "Epoch: 3, loss: 0.657\n",
            "Epoch: 4, loss: 0.631\n",
            "Epoch: 5, loss: 0.606\n",
            "Epoch: 6, loss: 0.582\n",
            "Epoch: 7, loss: 0.559\n",
            "Epoch: 8, loss: 0.537\n",
            "Epoch: 9, loss: 0.516\n",
            "Epoch: 10, loss: 0.496\n",
            "Epoch: 11, loss: 0.476\n",
            "Epoch: 12, loss: 0.457\n",
            "Epoch: 13, loss: 0.439\n",
            "Epoch: 14, loss: 0.422\n",
            "Epoch: 15, loss: 0.405\n",
            "Epoch: 16, loss: 0.389\n",
            "Epoch: 17, loss: 0.374\n",
            "Epoch: 18, loss: 0.359\n",
            "Epoch: 19, loss: 0.345\n",
            "Epoch: 20, loss: 0.332\n",
            "Epoch: 21, loss: 0.319\n",
            "Epoch: 22, loss: 0.306\n",
            "Epoch: 23, loss: 0.294\n",
            "Epoch: 24, loss: 0.283\n",
            "Epoch: 25, loss: 0.271\n",
            "Epoch: 26, loss: 0.261\n",
            "Epoch: 27, loss: 0.251\n",
            "Epoch: 28, loss: 0.241\n",
            "Epoch: 29, loss: 0.231\n",
            "Epoch: 30, loss: 0.222\n",
            "Epoch: 31, loss: 0.214\n",
            "Epoch: 32, loss: 0.205\n",
            "Epoch: 33, loss: 0.197\n",
            "Epoch: 34, loss: 0.189\n",
            "Epoch: 35, loss: 0.182\n",
            "Epoch: 36, loss: 0.175\n",
            "Epoch: 37, loss: 0.168\n",
            "Epoch: 38, loss: 0.162\n",
            "Epoch: 39, loss: 0.155\n",
            "Epoch: 40, loss: 0.149\n",
            "Epoch: 41, loss: 0.143\n",
            "Epoch: 42, loss: 0.138\n",
            "Epoch: 43, loss: 0.132\n",
            "Epoch: 44, loss: 0.127\n",
            "Epoch: 45, loss: 0.122\n",
            "Epoch: 46, loss: 0.118\n",
            "Epoch: 47, loss: 0.113\n",
            "Epoch: 48, loss: 0.109\n",
            "Epoch: 49, loss: 0.104\n",
            "Epoch: 50, loss: 0.100\n",
            "Epoch: 51, loss: 0.097\n",
            "Epoch: 52, loss: 0.093\n",
            "Epoch: 53, loss: 0.089\n",
            "Epoch: 54, loss: 0.086\n",
            "Epoch: 55, loss: 0.083\n",
            "Epoch: 56, loss: 0.079\n",
            "Epoch: 57, loss: 0.076\n",
            "Epoch: 58, loss: 0.073\n",
            "Epoch: 59, loss: 0.071\n",
            "Epoch: 60, loss: 0.068\n",
            "Epoch: 61, loss: 0.065\n",
            "Epoch: 62, loss: 0.063\n",
            "Epoch: 63, loss: 0.060\n",
            "Epoch: 64, loss: 0.058\n",
            "Epoch: 65, loss: 0.056\n",
            "Epoch: 66, loss: 0.054\n",
            "Epoch: 67, loss: 0.052\n",
            "Epoch: 68, loss: 0.050\n",
            "Epoch: 69, loss: 0.048\n",
            "Epoch: 70, loss: 0.046\n",
            "Epoch: 71, loss: 0.044\n",
            "Epoch: 72, loss: 0.043\n",
            "Epoch: 73, loss: 0.041\n",
            "Epoch: 74, loss: 0.040\n",
            "Epoch: 75, loss: 0.038\n",
            "Epoch: 76, loss: 0.037\n",
            "Epoch: 77, loss: 0.035\n",
            "Epoch: 78, loss: 0.034\n",
            "Epoch: 79, loss: 0.033\n",
            "Epoch: 80, loss: 0.032\n",
            "Epoch: 81, loss: 0.030\n",
            "Epoch: 82, loss: 0.029\n",
            "Epoch: 83, loss: 0.028\n",
            "Epoch: 84, loss: 0.027\n",
            "Epoch: 85, loss: 0.026\n",
            "Epoch: 86, loss: 0.025\n",
            "Epoch: 87, loss: 0.024\n",
            "Epoch: 88, loss: 0.024\n",
            "Epoch: 89, loss: 0.023\n",
            "Epoch: 90, loss: 0.022\n",
            "Epoch: 91, loss: 0.021\n",
            "Epoch: 92, loss: 0.020\n",
            "Epoch: 93, loss: 0.020\n",
            "Epoch: 94, loss: 0.019\n",
            "Epoch: 95, loss: 0.018\n",
            "Epoch: 96, loss: 0.018\n",
            "Epoch: 97, loss: 0.017\n",
            "Epoch: 98, loss: 0.017\n",
            "Epoch: 99, loss: 0.016\n",
            "Epoch: 100, loss: 0.015\n",
            "Epoch: 101, loss: 0.015\n",
            "Epoch: 102, loss: 0.014\n",
            "Epoch: 103, loss: 0.014\n",
            "Epoch: 104, loss: 0.014\n",
            "Epoch: 105, loss: 0.013\n",
            "Epoch: 106, loss: 0.013\n",
            "Epoch: 107, loss: 0.012\n",
            "Epoch: 108, loss: 0.012\n",
            "Epoch: 109, loss: 0.011\n",
            "Epoch: 110, loss: 0.011\n",
            "Epoch: 111, loss: 0.011\n",
            "Epoch: 112, loss: 0.010\n",
            "Epoch: 113, loss: 0.010\n",
            "Epoch: 114, loss: 0.010\n",
            "Epoch: 115, loss: 0.010\n",
            "Epoch: 116, loss: 0.009\n",
            "Epoch: 117, loss: 0.009\n",
            "Epoch: 118, loss: 0.009\n",
            "Epoch: 119, loss: 0.008\n",
            "Epoch: 120, loss: 0.008\n",
            "Epoch: 121, loss: 0.008\n",
            "Epoch: 122, loss: 0.008\n",
            "Epoch: 123, loss: 0.008\n",
            "Epoch: 124, loss: 0.007\n",
            "Epoch: 125, loss: 0.007\n",
            "Epoch: 126, loss: 0.007\n",
            "Epoch: 127, loss: 0.007\n",
            "Epoch: 128, loss: 0.007\n",
            "Epoch: 129, loss: 0.006\n",
            "Epoch: 130, loss: 0.006\n",
            "Epoch: 131, loss: 0.006\n",
            "Epoch: 132, loss: 0.006\n",
            "Epoch: 133, loss: 0.006\n",
            "Epoch: 134, loss: 0.006\n",
            "Epoch: 135, loss: 0.006\n",
            "Epoch: 136, loss: 0.005\n",
            "Epoch: 137, loss: 0.005\n",
            "Epoch: 138, loss: 0.005\n",
            "Epoch: 139, loss: 0.005\n",
            "Epoch: 140, loss: 0.005\n",
            "Epoch: 141, loss: 0.005\n",
            "Epoch: 142, loss: 0.005\n",
            "Epoch: 143, loss: 0.005\n",
            "Epoch: 144, loss: 0.005\n",
            "Epoch: 145, loss: 0.005\n",
            "Epoch: 146, loss: 0.004\n",
            "Epoch: 147, loss: 0.004\n",
            "Epoch: 148, loss: 0.004\n",
            "Epoch: 149, loss: 0.004\n",
            "Epoch: 150, loss: 0.004\n",
            "Epoch: 151, loss: 0.004\n",
            "Epoch: 152, loss: 0.004\n",
            "Epoch: 153, loss: 0.004\n",
            "Epoch: 154, loss: 0.004\n",
            "Epoch: 155, loss: 0.004\n",
            "Epoch: 156, loss: 0.004\n",
            "Epoch: 157, loss: 0.004\n",
            "Epoch: 158, loss: 0.004\n",
            "Epoch: 159, loss: 0.004\n",
            "Epoch: 160, loss: 0.004\n",
            "Epoch: 161, loss: 0.004\n",
            "Epoch: 162, loss: 0.004\n",
            "Epoch: 163, loss: 0.003\n",
            "Epoch: 164, loss: 0.003\n",
            "Epoch: 165, loss: 0.003\n",
            "Epoch: 166, loss: 0.003\n",
            "Epoch: 167, loss: 0.003\n",
            "Epoch: 168, loss: 0.003\n",
            "Epoch: 169, loss: 0.003\n",
            "Epoch: 170, loss: 0.003\n",
            "Epoch: 171, loss: 0.003\n",
            "Epoch: 172, loss: 0.003\n",
            "Epoch: 173, loss: 0.003\n",
            "Epoch: 174, loss: 0.003\n",
            "Epoch: 175, loss: 0.003\n",
            "Epoch: 176, loss: 0.003\n",
            "Epoch: 177, loss: 0.003\n",
            "Epoch: 178, loss: 0.003\n",
            "Epoch: 179, loss: 0.003\n",
            "Epoch: 180, loss: 0.003\n",
            "Epoch: 181, loss: 0.003\n",
            "Epoch: 182, loss: 0.003\n",
            "Epoch: 183, loss: 0.003\n",
            "Epoch: 184, loss: 0.003\n",
            "Epoch: 185, loss: 0.003\n",
            "Epoch: 186, loss: 0.003\n",
            "Epoch: 187, loss: 0.003\n",
            "Epoch: 188, loss: 0.003\n",
            "Epoch: 189, loss: 0.003\n",
            "Epoch: 190, loss: 0.003\n",
            "Epoch: 191, loss: 0.003\n",
            "Epoch: 192, loss: 0.003\n",
            "Epoch: 193, loss: 0.003\n",
            "Epoch: 194, loss: 0.003\n",
            "Epoch: 195, loss: 0.003\n",
            "Epoch: 196, loss: 0.003\n",
            "Epoch: 197, loss: 0.003\n",
            "Epoch: 198, loss: 0.003\n",
            "Epoch: 199, loss: 0.003\n"
          ]
        }
      ]
    },
    {
      "cell_type": "code",
      "source": [
        "val = np.dot(X_val_scaled, W) + b"
      ],
      "metadata": {
        "id": "nHjUJLWzhiao"
      },
      "execution_count": 30,
      "outputs": []
    },
    {
      "cell_type": "code",
      "source": [
        "np.vstack([[val, y_val_scaled]])"
      ],
      "metadata": {
        "colab": {
          "base_uri": "https://localhost:8080/"
        },
        "id": "Db7ai809h3Xu",
        "outputId": "3317a9df-5604-46a4-862b-e5cc5bb6409f"
      },
      "execution_count": 31,
      "outputs": [
        {
          "output_type": "execute_result",
          "data": {
            "text/plain": [
              "array([[[ 0.41094952],\n",
              "        [-0.02439863],\n",
              "        [ 0.24350792],\n",
              "        [ 1.11420422],\n",
              "        [ 0.3774612 ],\n",
              "        [ 0.47792615],\n",
              "        [-1.12951316],\n",
              "        [-0.99555989],\n",
              "        [-1.16300148],\n",
              "        [ 0.84629767],\n",
              "        [-1.39741972],\n",
              "        [ 1.01373926],\n",
              "        [ 1.04722758],\n",
              "        [ 0.64536775],\n",
              "        [ 0.87978598]],\n",
              "\n",
              "       [[ 0.41419417],\n",
              "        [-0.02544796],\n",
              "        [ 0.34864266],\n",
              "        [ 1.16293929],\n",
              "        [ 0.41012088],\n",
              "        [ 0.46295707],\n",
              "        [-1.15439922],\n",
              "        [-1.04592124],\n",
              "        [-1.17668183],\n",
              "        [ 0.94553874],\n",
              "        [-1.33468159],\n",
              "        [ 1.02154162],\n",
              "        [ 1.09172743],\n",
              "        [ 0.5800414 ],\n",
              "        [ 0.88056212]]])"
            ]
          },
          "metadata": {},
          "execution_count": 31
        }
      ]
    },
    {
      "cell_type": "code",
      "source": [
        "plt.figure(figsize = (10, 7))\n",
        "plt.title('Training')\n",
        "plt.xlabel('Epochs')\n",
        "plt.ylabel('Loss')\n",
        "sns.lineplot(x = epoch_count, y = losses, color = 'r')\n",
        "sns.despine()"
      ],
      "metadata": {
        "id": "0PBDShPInsGK",
        "colab": {
          "base_uri": "https://localhost:8080/",
          "height": 458
        },
        "outputId": "fd053a52-b87d-411d-8c7f-19ee2dac83a1"
      },
      "execution_count": 32,
      "outputs": [
        {
          "output_type": "display_data",
          "data": {
            "text/plain": [
              "<Figure size 720x504 with 1 Axes>"
            ],
            "image/png": "[encoded data removed]"
          },
          "metadata": {
            "needs_background": "light"
          }
        }
      ]
    },
    {
      "cell_type": "code",
      "source": [
        "W"
      ],
      "metadata": {
        "colab": {
          "base_uri": "https://localhost:8080/"
        },
        "id": "1HfmA3OtnexY",
        "outputId": "7243518f-cc80-4ce1-efb3-36407b759a37"
      },
      "execution_count": 33,
      "outputs": [
        {
          "output_type": "execute_result",
          "data": {
            "text/plain": [
              "array([[0.98017482]])"
            ]
          },
          "metadata": {},
          "execution_count": 33
        }
      ]
    },
    {
      "cell_type": "code",
      "source": [
        "b"
      ],
      "metadata": {
        "colab": {
          "base_uri": "https://localhost:8080/"
        },
        "id": "4xXomAen2j5p",
        "outputId": "1146151e-54a9-4bd5-94c1-8da33684a882"
      },
      "execution_count": 34,
      "outputs": [
        {
          "output_type": "execute_result",
          "data": {
            "text/plain": [
              "array([[-1.72116289e-16]])"
            ]
          },
          "metadata": {},
          "execution_count": 34
        }
      ]
    },
    {
      "cell_type": "code",
      "source": [
        "pred = np.dot(X_test_scaled, W) + b\n",
        "np.vstack([[pred, y_test_scaled]])"
      ],
      "metadata": {
        "colab": {
          "base_uri": "https://localhost:8080/"
        },
        "id": "e0R8p3-noGNo",
        "outputId": "aa168cd7-ca14-43e9-a533-9451f0ad9839"
      },
      "execution_count": 35,
      "outputs": [
        {
          "output_type": "execute_result",
          "data": {
            "text/plain": [
              "array([[[ 0.2100196 ],\n",
              "        [-0.82811829],\n",
              "        [-0.39277014],\n",
              "        [-0.6606767 ],\n",
              "        [-1.09602484],\n",
              "        [ 1.18118086],\n",
              "        [-1.29695476],\n",
              "        [-1.63183795],\n",
              "        [-0.72765333],\n",
              "        [ 1.31513413],\n",
              "        [-0.45974678],\n",
              "        [-0.4932351 ],\n",
              "        [-0.76114165],\n",
              "        [ 1.28164581],\n",
              "        [ 1.24815749]],\n",
              "\n",
              "       [[ 0.27305798],\n",
              "        [-0.81605667],\n",
              "        [-0.41425867],\n",
              "        [-0.60030283],\n",
              "        [-1.22062861],\n",
              "        [ 1.13367428],\n",
              "        [-1.32588467],\n",
              "        [-1.64313756],\n",
              "        [-0.7820934 ],\n",
              "        [ 1.32973473],\n",
              "        [-0.52852778],\n",
              "        [-0.46302207],\n",
              "        [-0.71943993],\n",
              "        [ 1.33563603],\n",
              "        [ 1.34192023]]])"
            ]
          },
          "metadata": {},
          "execution_count": 35
        }
      ]
    },
    {
      "cell_type": "markdown",
      "source": [
        "### Evaluation"
      ],
      "metadata": {
        "id": "TdjomMBRe1Ya"
      }
    },
    {
      "cell_type": "code",
      "source": [
        "predictions = pd.DataFrame(X_test_scaled, columns = ['X'])\n",
        "predictions['y'] = pred\n",
        "predictions"
      ],
      "metadata": {
        "colab": {
          "base_uri": "https://localhost:8080/",
          "height": 519
        },
        "id": "mo8u5qnfxqIn",
        "outputId": "19b20aa8-6a3f-4167-ad7e-c73c3d01ebe8"
      },
      "execution_count": 36,
      "outputs": [
        {
          "output_type": "execute_result",
          "data": {
            "text/plain": [
              "           X         y\n",
              "0   0.214267  0.210020\n",
              "1  -0.844868 -0.828118\n",
              "2  -0.400714 -0.392770\n",
              "3  -0.674040 -0.660677\n",
              "4  -1.118193 -1.096025\n",
              "5   1.205072  1.181181\n",
              "6  -1.323187 -1.296955\n",
              "7  -1.664844 -1.631838\n",
              "8  -0.742371 -0.727653\n",
              "9   1.341734  1.315134\n",
              "10 -0.469046 -0.459747\n",
              "11 -0.503211 -0.493235\n",
              "12 -0.776537 -0.761142\n",
              "13  1.307569  1.281646\n",
              "14  1.273403  1.248157"
            ],
            "text/html": [
              "\n",
              "  <div id=\"df-8d03ad91-e77c-4d95-9310-bbbe873bb1bd\">\n",
              "    <div class=\"colab-df-container\">\n",
              "      <div>\n",
              "<style scoped>\n",
              "    .dataframe tbody tr th:only-of-type {\n",
              "        vertical-align: middle;\n",
              "    }\n",
              "\n",
              "    .dataframe tbody tr th {\n",
              "        vertical-align: top;\n",
              "    }\n",
              "\n",
              "    .dataframe thead th {\n",
              "        text-align: right;\n",
              "    }\n",
              "</style>\n",
              "<table border=\"1\" class=\"dataframe\">\n",
              "  <thead>\n",
              "    <tr style=\"text-align: right;\">\n",
              "      <th></th>\n",
              "      <th>X</th>\n",
              "      <th>y</th>\n",
              "    </tr>\n",
              "  </thead>\n",
              "  <tbody>\n",
              "    <tr>\n",
              "      <th>0</th>\n",
              "      <td>0.214267</td>\n",
              "      <td>0.210020</td>\n",
              "    </tr>\n",
              "    <tr>\n",
              "      <th>1</th>\n",
              "      <td>-0.844868</td>\n",
              "      <td>-0.828118</td>\n",
              "    </tr>\n",
              "    <tr>\n",
              "      <th>2</th>\n",
              "      <td>-0.400714</td>\n",
              "      <td>-0.392770</td>\n",
              "    </tr>\n",
              "    <tr>\n",
              "      <th>3</th>\n",
              "      <td>-0.674040</td>\n",
              "      <td>-0.660677</td>\n",
              "    </tr>\n",
              "    <tr>\n",
              "      <th>4</th>\n",
              "      <td>-1.118193</td>\n",
              "      <td>-1.096025</td>\n",
              "    </tr>\n",
              "    <tr>\n",
              "      <th>5</th>\n",
              "      <td>1.205072</td>\n",
              "      <td>1.181181</td>\n",
              "    </tr>\n",
              "    <tr>\n",
              "      <th>6</th>\n",
              "      <td>-1.323187</td>\n",
              "      <td>-1.296955</td>\n",
              "    </tr>\n",
              "    <tr>\n",
              "      <th>7</th>\n",
              "      <td>-1.664844</td>\n",
              "      <td>-1.631838</td>\n",
              "    </tr>\n",
              "    <tr>\n",
              "      <th>8</th>\n",
              "      <td>-0.742371</td>\n",
              "      <td>-0.727653</td>\n",
              "    </tr>\n",
              "    <tr>\n",
              "      <th>9</th>\n",
              "      <td>1.341734</td>\n",
              "      <td>1.315134</td>\n",
              "    </tr>\n",
              "    <tr>\n",
              "      <th>10</th>\n",
              "      <td>-0.469046</td>\n",
              "      <td>-0.459747</td>\n",
              "    </tr>\n",
              "    <tr>\n",
              "      <th>11</th>\n",
              "      <td>-0.503211</td>\n",
              "      <td>-0.493235</td>\n",
              "    </tr>\n",
              "    <tr>\n",
              "      <th>12</th>\n",
              "      <td>-0.776537</td>\n",
              "      <td>-0.761142</td>\n",
              "    </tr>\n",
              "    <tr>\n",
              "      <th>13</th>\n",
              "      <td>1.307569</td>\n",
              "      <td>1.281646</td>\n",
              "    </tr>\n",
              "    <tr>\n",
              "      <th>14</th>\n",
              "      <td>1.273403</td>\n",
              "      <td>1.248157</td>\n",
              "    </tr>\n",
              "  </tbody>\n",
              "</table>\n",
              "</div>\n",
              "      <button class=\"colab-df-convert\" onclick=\"convertToInteractive('df-8d03ad91-e77c-4d95-9310-bbbe873bb1bd')\"\n",
              "              title=\"Convert this dataframe to an interactive table.\"\n",
              "              style=\"display:none;\">\n",
              "        \n",
              "  <svg xmlns=\"http://www.w3.org/2000/svg\" height=\"24px\"viewBox=\"0 0 24 24\"\n",
              "       width=\"24px\">\n",
              "    <path d=\"M0 0h24v24H0V0z\" fill=\"none\"/>\n",
              "    <path d=\"M18.56 5.44l.94 2.06.94-2.06 2.06-.94-2.06-.94-.94-2.06-.94 2.06-2.06.94zm-11 1L8.5 8.5l.94-2.06 2.06-.94-2.06-.94L8.5 2.5l-.94 2.06-2.06.94zm10 10l.94 2.06.94-2.06 2.06-.94-2.06-.94-.94-2.06-.94 2.06-2.06.94z\"/><path d=\"M17.41 7.96l-1.37-1.37c-.4-.4-.92-.59-1.43-.59-.52 0-1.04.2-1.43.59L10.3 9.45l-7.72 7.72c-.78.78-.78 2.05 0 2.83L4 21.41c.39.39.9.59 1.41.59.51 0 1.02-.2 1.41-.59l7.78-7.78 2.81-2.81c.8-.78.8-2.07 0-2.86zM5.41 20L4 18.59l7.72-7.72 1.47 1.35L5.41 20z\"/>\n",
              "  </svg>\n",
              "      </button>\n",
              "      \n",
              "  <style>\n",
              "    .colab-df-container {\n",
              "      display:flex;\n",
              "      flex-wrap:wrap;\n",
              "      gap: 12px;\n",
              "    }\n",
              "\n",
              "    .colab-df-convert {\n",
              "      background-color: #E8F0FE;\n",
              "      border: none;\n",
              "      border-radius: 50%;\n",
              "      cursor: pointer;\n",
              "      display: none;\n",
              "      fill: #1967D2;\n",
              "      height: 32px;\n",
              "      padding: 0 0 0 0;\n",
              "      width: 32px;\n",
              "    }\n",
              "\n",
              "    .colab-df-convert:hover {\n",
              "      background-color: #E2EBFA;\n",
              "      box-shadow: 0px 1px 2px rgba(60, 64, 67, 0.3), 0px 1px 3px 1px rgba(60, 64, 67, 0.15);\n",
              "      fill: #174EA6;\n",
              "    }\n",
              "\n",
              "    [theme=dark] .colab-df-convert {\n",
              "      background-color: #3B4455;\n",
              "      fill: #D2E3FC;\n",
              "    }\n",
              "\n",
              "    [theme=dark] .colab-df-convert:hover {\n",
              "      background-color: #434B5C;\n",
              "      box-shadow: 0px 1px 3px 1px rgba(0, 0, 0, 0.15);\n",
              "      filter: drop-shadow(0px 1px 2px rgba(0, 0, 0, 0.3));\n",
              "      fill: #FFFFFF;\n",
              "    }\n",
              "  </style>\n",
              "\n",
              "      <script>\n",
              "        const buttonEl =\n",
              "          document.querySelector('#df-8d03ad91-e77c-4d95-9310-bbbe873bb1bd button.colab-df-convert');\n",
              "        buttonEl.style.display =\n",
              "          google.colab.kernel.accessAllowed ? 'block' : 'none';\n",
              "\n",
              "        async function convertToInteractive(key) {\n",
              "          const element = document.querySelector('#df-8d03ad91-e77c-4d95-9310-bbbe873bb1bd');\n",
              "          const dataTable =\n",
              "            await google.colab.kernel.invokeFunction('convertToInteractive',\n",
              "                                                     [key], {});\n",
              "          if (!dataTable) return;\n",
              "\n",
              "          const docLinkHtml = 'Like what you see? Visit the ' +\n",
              "            '<a target=\"_blank\" href=https://colab.research.google.com/notebooks/data_table.ipynb>data table notebook</a>'\n",
              "            + ' to learn more about interactive tables.';\n",
              "          element.innerHTML = '';\n",
              "          dataTable['output_type'] = 'display_data';\n",
              "          await google.colab.output.renderOutput(dataTable, element);\n",
              "          const docLink = document.createElement('div');\n",
              "          docLink.innerHTML = docLinkHtml;\n",
              "          element.appendChild(docLink);\n",
              "        }\n",
              "      </script>\n",
              "    </div>\n",
              "  </div>\n",
              "  "
            ]
          },
          "metadata": {},
          "execution_count": 36
        }
      ]
    },
    {
      "cell_type": "code",
      "source": [
        "predictions.X.to_numpy().reshape(len(predictions.X), 1)"
      ],
      "metadata": {
        "colab": {
          "base_uri": "https://localhost:8080/"
        },
        "id": "HNqUWkihbNSU",
        "outputId": "18906af8-e749-42ae-e300-aac6e4da639a"
      },
      "execution_count": 37,
      "outputs": [
        {
          "output_type": "execute_result",
          "data": {
            "text/plain": [
              "array([[ 0.21426749],\n",
              "       [-0.84486795],\n",
              "       [-0.40071438],\n",
              "       [-0.67403965],\n",
              "       [-1.11819322],\n",
              "       [ 1.20507161],\n",
              "       [-1.32318718],\n",
              "       [-1.66484377],\n",
              "       [-0.74237097],\n",
              "       [ 1.34173425],\n",
              "       [-0.46904569],\n",
              "       [-0.50321135],\n",
              "       [-0.77653663],\n",
              "       [ 1.30756859],\n",
              "       [ 1.27340293]])"
            ]
          },
          "metadata": {},
          "execution_count": 37
        }
      ]
    },
    {
      "cell_type": "code",
      "source": [
        "# Convert numpy arrays to Pandas Series with an index\n",
        "X_series = pd.Series(predictions.X, index=range(len(predictions.X)))\n",
        "y_series = pd.Series(y_test_scaled.flatten(), index=range(len(y_test_scaled)))\n",
        "\n",
        "# Use the Pandas Series as input to scatterplot function\n"
      ],
      "metadata": {
        "id": "9Hla-vVNcODx"
      },
      "execution_count": 38,
      "outputs": []
    },
    {
      "cell_type": "code",
      "source": [
        "plt.figure(figsize = (10, 7))\n",
        "plt.title(\"Test Data Evaluation\")\n",
        "sns.lineplot(data = predictions, y = 'y', x = 'X')\n",
        "sns.scatterplot(x=X_series, y=y_series, color='r')\n",
        "sns.despine()"
      ],
      "metadata": {
        "colab": {
          "base_uri": "https://localhost:8080/",
          "height": 458
        },
        "id": "lMSAmzz3ov3s",
        "outputId": "d7a42fc9-1b43-4fa2-b372-8bf47483234a"
      },
      "execution_count": 39,
      "outputs": [
        {
          "output_type": "display_data",
          "data": {
            "text/plain": [
              "<Figure size 720x504 with 1 Axes>"
            ],
            "image/png": "[encoded data removed]"
          },
          "metadata": {
            "needs_background": "light"
          }
        }
      ]
    },
    {
      "cell_type": "code",
      "source": [
        "# Unscaled weights\n",
        "W_unscaled = W * (y_std/X_std)\n",
        "b_unscaled = b * y_std + y_mean - np.sum(W_unscaled * X_mean)\n",
        "print (\"[actual] y = 5X + noise\")\n",
        "print (f\"[model] y_hat = {W_unscaled[0][0].round(2):}X + {b_unscaled[0]:}\")\n"
      ],
      "metadata": {
        "id": "F2NRj5yWo7gC",
        "colab": {
          "base_uri": "https://localhost:8080/"
        },
        "outputId": "774d18e8-5efe-437d-8fe3-f7b55808ce8f"
      },
      "execution_count": 40,
      "outputs": [
        {
          "output_type": "stream",
          "name": "stdout",
          "text": [
            "[actual] y = 5X + noise\n",
            "[model] y_hat = 4.89X + [10.42037806]\n"
          ]
        }
      ]
    },
    {
      "cell_type": "markdown",
      "source": [
        "Very close!"
      ],
      "metadata": {
        "id": "_r6PgFa7ex88"
      }
    },
    {
      "cell_type": "markdown",
      "source": [
        "# Pytorch Implementation"
      ],
      "metadata": {
        "id": "pT3KwX81zDPE"
      }
    },
    {
      "cell_type": "code",
      "source": [
        "torch.manual_seed(SEED)"
      ],
      "metadata": {
        "colab": {
          "base_uri": "https://localhost:8080/"
        },
        "id": "00bmR5XLedCr",
        "outputId": "80256069-5392-4179-f906-ee080b29946e"
      },
      "execution_count": 41,
      "outputs": [
        {
          "output_type": "execute_result",
          "data": {
            "text/plain": [
              "<torch._C.Generator at 0x7feb8819c410>"
            ]
          },
          "metadata": {},
          "execution_count": 41
        }
      ]
    },
    {
      "cell_type": "code",
      "source": [
        "X = X.reshape(-1, 1)\n",
        "y = y.reshape(-1, 1)"
      ],
      "metadata": {
        "id": "vP3i0Enz4GTj"
      },
      "execution_count": 42,
      "outputs": []
    },
    {
      "cell_type": "code",
      "source": [
        "from sklearn.model_selection import train_test_split"
      ],
      "metadata": {
        "id": "0mKMtMnaz695"
      },
      "execution_count": 43,
      "outputs": []
    },
    {
      "cell_type": "code",
      "source": [
        "X_train_p, X_, y_train_p, y_ = train_test_split(X, y, train_size = train_size) #X_ and y_ will be split into test and development"
      ],
      "metadata": {
        "id": "IHjqK_N_0Gb-"
      },
      "execution_count": 44,
      "outputs": []
    },
    {
      "cell_type": "code",
      "source": [
        "print(f\"Size of X_train_p = {len(X_train_p)/len(X)}\")\n",
        "print(f\"Size of y_train_p = {len(y_train_p)/len(y)}\")"
      ],
      "metadata": {
        "colab": {
          "base_uri": "https://localhost:8080/"
        },
        "id": "Ue7xeJcy0_YE",
        "outputId": "ff9b7d81-5fbe-4658-9483-90d5bc04ba99"
      },
      "execution_count": 45,
      "outputs": [
        {
          "output_type": "stream",
          "name": "stdout",
          "text": [
            "Size of X_train_p = 0.7\n",
            "Size of y_train_p = 0.7\n"
          ]
        }
      ]
    },
    {
      "cell_type": "code",
      "source": [
        "X_test_p, X_val_p, y_test_p, y_val_p = train_test_split(X_, y_, test_size = 0.5)"
      ],
      "metadata": {
        "id": "045ZJyjo19do"
      },
      "execution_count": 46,
      "outputs": []
    },
    {
      "cell_type": "code",
      "source": [
        "print(f\"Size of X_train_p = {len(X_test_p)/len(X)}\")\n",
        "print(f\"Size of y_train_p = {len(X_val_p)/len(X)}\")"
      ],
      "metadata": {
        "colab": {
          "base_uri": "https://localhost:8080/"
        },
        "id": "mt1kZ8752dDE",
        "outputId": "b2b2f3a3-4c3b-41d5-dd38-c8b62d406870"
      },
      "execution_count": 47,
      "outputs": [
        {
          "output_type": "stream",
          "name": "stdout",
          "text": [
            "Size of X_train_p = 0.15\n",
            "Size of y_train_p = 0.15\n"
          ]
        }
      ]
    },
    {
      "cell_type": "markdown",
      "source": [
        "### Standardization"
      ],
      "metadata": {
        "id": "ql6LiCDd2raj"
      }
    },
    {
      "cell_type": "code",
      "source": [
        "from sklearn.preprocessing import StandardScaler"
      ],
      "metadata": {
        "id": "iaN1W5qP2j0s"
      },
      "execution_count": 48,
      "outputs": []
    },
    {
      "cell_type": "code",
      "source": [
        "scaler_X = StandardScaler().fit(X_train_p)\n",
        "scaler_y = StandardScaler().fit(y_train_p)"
      ],
      "metadata": {
        "id": "yv8cmq_n296Q"
      },
      "execution_count": 49,
      "outputs": []
    },
    {
      "cell_type": "code",
      "source": [
        "X_train_scaled_p = scaler_X.transform(X_train_p)\n",
        "X_test_scaled_p = scaler_X.transform(X_test_p)\n",
        "X_val_scaled_p = scaler_X.transform(X_val_p)\n",
        "\n",
        "y_train_scaled_p = scaler_y.transform(y_train_p)\n",
        "y_test_scaled_p = scaler_y.transform(y_test_p)\n",
        "y_val_scaled_p = scaler_y.transform(y_val_p)"
      ],
      "metadata": {
        "id": "Oc7XxNgA37Ob"
      },
      "execution_count": 50,
      "outputs": []
    },
    {
      "cell_type": "markdown",
      "source": [
        "### Weights"
      ],
      "metadata": {
        "id": "7nEadMon5ZPH"
      }
    },
    {
      "cell_type": "code",
      "source": [
        "# Using MLP in Pytorch\n",
        "from torch import nn"
      ],
      "metadata": {
        "id": "OCcyJCq25QOT"
      },
      "execution_count": 51,
      "outputs": []
    },
    {
      "cell_type": "code",
      "source": [
        "INPUT_DIM = X.shape[1]\n",
        "OUTPUT_DIM = y.shape[1]"
      ],
      "metadata": {
        "id": "qovfCFdx_TJV"
      },
      "execution_count": 52,
      "outputs": []
    },
    {
      "cell_type": "code",
      "source": [
        "# Inputs\n",
        "N = 3 # num samples\n",
        "x = torch.randn(N, INPUT_DIM)\n",
        "print (x.shape)\n",
        "print (x.numpy())"
      ],
      "metadata": {
        "colab": {
          "base_uri": "https://localhost:8080/"
        },
        "id": "Z67MXdNJ_ATk",
        "outputId": "18b6e5f3-777b-4249-a494-55f9bc202c5e"
      },
      "execution_count": 53,
      "outputs": [
        {
          "output_type": "stream",
          "name": "stdout",
          "text": [
            "torch.Size([3, 1])\n",
            "[[ 0.04613046]\n",
            " [ 0.40240282]\n",
            " [-1.0115291 ]]\n"
          ]
        }
      ]
    },
    {
      "cell_type": "code",
      "source": [
        "# Weights\n",
        "m = nn.Linear(INPUT_DIM, OUTPUT_DIM)\n",
        "print(m)\n",
        "print(f\"Weight: {m.weight}\\n bias: {m.bias}\")"
      ],
      "metadata": {
        "colab": {
          "base_uri": "https://localhost:8080/"
        },
        "id": "vPH8JZOK_ANH",
        "outputId": "d091ec55-2f68-4810-f3f8-4db679410708"
      },
      "execution_count": 54,
      "outputs": [
        {
          "output_type": "stream",
          "name": "stdout",
          "text": [
            "Linear(in_features=1, out_features=1, bias=True)\n",
            "Weight: Parameter containing:\n",
            "tensor([[0.3476]], requires_grad=True)\n",
            " bias: Parameter containing:\n",
            "tensor([-0.3371], requires_grad=True)\n"
          ]
        }
      ]
    },
    {
      "cell_type": "code",
      "source": [
        "# Forward pass\n",
        "z = m(x)\n",
        "print (z.shape)\n",
        "print (z.detach().numpy())"
      ],
      "metadata": {
        "colab": {
          "base_uri": "https://localhost:8080/"
        },
        "id": "2CFWdj0M_AA0",
        "outputId": "557777fe-b434-4845-fc35-df401679efd5"
      },
      "execution_count": 55,
      "outputs": [
        {
          "output_type": "stream",
          "name": "stdout",
          "text": [
            "torch.Size([3, 1])\n",
            "[[-0.32104054]\n",
            " [-0.19719592]\n",
            " [-0.68869597]]\n"
          ]
        }
      ]
    },
    {
      "cell_type": "markdown",
      "source": [
        "### Model"
      ],
      "metadata": {
        "id": "eGbt6e_yCx98"
      }
    },
    {
      "cell_type": "code",
      "source": [
        "# Create linear regression class that inherits from nn.Module class\n",
        "class LinearRegression(nn.Module):\n",
        "  def __init__(self, input_dim, output_dim):\n",
        "    super(LinearRegression, self).__init__()\n",
        "    self.fc1 = nn.Linear(input_dim, output_dim)\n",
        "\n",
        "  def forward(self, x_in):\n",
        "    y_pred = self.fc1(x_in)\n",
        "    return y_pred"
      ],
      "metadata": {
        "id": "MoUmUPZ260_w"
      },
      "execution_count": 56,
      "outputs": []
    },
    {
      "cell_type": "code",
      "source": [
        "# Initialize model\n",
        "model = LinearRegression(input_dim=INPUT_DIM, output_dim=OUTPUT_DIM)\n",
        "print(model.named_parameters)"
      ],
      "metadata": {
        "colab": {
          "base_uri": "https://localhost:8080/"
        },
        "id": "MnVzmd9_hQrL",
        "outputId": "4f194ba5-1e05-4664-9c39-1f7b593cd4b0"
      },
      "execution_count": 57,
      "outputs": [
        {
          "output_type": "stream",
          "name": "stdout",
          "text": [
            "<bound method Module.named_parameters of LinearRegression(\n",
            "  (fc1): Linear(in_features=1, out_features=1, bias=True)\n",
            ")>\n"
          ]
        }
      ]
    },
    {
      "cell_type": "markdown",
      "source": [
        "### Loss"
      ],
      "metadata": {
        "id": "f5yR2Zibh3W6"
      }
    },
    {
      "cell_type": "code",
      "source": [
        "loss_fn = nn.MSELoss()"
      ],
      "metadata": {
        "id": "pi_qzH04hfJ4"
      },
      "execution_count": 58,
      "outputs": []
    },
    {
      "cell_type": "markdown",
      "source": [
        "### Optimizer"
      ],
      "metadata": {
        "id": "gWFj1UdUiFEf"
      }
    },
    {
      "cell_type": "code",
      "source": [
        "from torch.optim import Adam"
      ],
      "metadata": {
        "id": "qUzKmfXvh7fO"
      },
      "execution_count": 59,
      "outputs": []
    },
    {
      "cell_type": "code",
      "source": [
        "lr"
      ],
      "metadata": {
        "colab": {
          "base_uri": "https://localhost:8080/"
        },
        "id": "99fddPtluwYY",
        "outputId": "00877d8e-274e-436c-9f0b-2a712c6c9c6f"
      },
      "execution_count": 60,
      "outputs": [
        {
          "output_type": "execute_result",
          "data": {
            "text/plain": [
              "0.01"
            ]
          },
          "metadata": {},
          "execution_count": 60
        }
      ]
    },
    {
      "cell_type": "code",
      "source": [
        "optimizer = Adam(model.parameters(), lr = lr)"
      ],
      "metadata": {
        "id": "qpFq_0qfiPBD"
      },
      "execution_count": 61,
      "outputs": []
    },
    {
      "cell_type": "code",
      "source": [
        "# Convert data to tensors\n",
        "X_train_scaled_p = torch.Tensor(X_train_scaled_p)\n",
        "y_train_scaled_p = torch.Tensor(y_train_scaled_p)\n",
        "X_val_scaled_p = torch.Tensor(X_val_scaled_p)\n",
        "y_val_scaled_p = torch.Tensor(y_val_scaled_p)\n",
        "X_test_scaled_p = torch.Tensor(X_test_scaled_p)\n",
        "y_test_scaled_p = torch.Tensor(y_test_scaled_p)"
      ],
      "metadata": {
        "id": "ZXkSG8ZriemF"
      },
      "execution_count": 62,
      "outputs": []
    },
    {
      "cell_type": "markdown",
      "source": [
        "### Training"
      ],
      "metadata": {
        "id": "2LnPeZimrKYR"
      }
    },
    {
      "cell_type": "code",
      "source": [
        "epochs = 70\n",
        "epoch_num = []\n",
        "losses = []\n",
        "for epoch in range(epochs):\n",
        "\n",
        "  y_pred_p = model(X_train_scaled_p)\n",
        "  loss = loss_fn(y_pred_p, y_train_scaled_p)\n",
        "  optimizer.zero_grad()\n",
        "  loss.backward()\n",
        "  optimizer.step()\n",
        "\n",
        "  epoch_num.append(epoch)\n",
        "  losses.append(loss)\n",
        "  print (f\"Epoch: {epoch} | loss: {loss:.4f}\")"
      ],
      "metadata": {
        "colab": {
          "base_uri": "https://localhost:8080/"
        },
        "id": "zlMgefA6q7Yy",
        "outputId": "a653f90b-678f-4b09-c612-9e6e4bd971ef"
      },
      "execution_count": 63,
      "outputs": [
        {
          "output_type": "stream",
          "name": "stdout",
          "text": [
            "Epoch: 0 | loss: 0.2052\n",
            "Epoch: 1 | loss: 0.1943\n",
            "Epoch: 2 | loss: 0.1837\n",
            "Epoch: 3 | loss: 0.1736\n",
            "Epoch: 4 | loss: 0.1640\n",
            "Epoch: 5 | loss: 0.1547\n",
            "Epoch: 6 | loss: 0.1459\n",
            "Epoch: 7 | loss: 0.1375\n",
            "Epoch: 8 | loss: 0.1295\n",
            "Epoch: 9 | loss: 0.1219\n",
            "Epoch: 10 | loss: 0.1147\n",
            "Epoch: 11 | loss: 0.1080\n",
            "Epoch: 12 | loss: 0.1015\n",
            "Epoch: 13 | loss: 0.0955\n",
            "Epoch: 14 | loss: 0.0898\n",
            "Epoch: 15 | loss: 0.0843\n",
            "Epoch: 16 | loss: 0.0792\n",
            "Epoch: 17 | loss: 0.0743\n",
            "Epoch: 18 | loss: 0.0697\n",
            "Epoch: 19 | loss: 0.0653\n",
            "Epoch: 20 | loss: 0.0611\n",
            "Epoch: 21 | loss: 0.0570\n",
            "Epoch: 22 | loss: 0.0532\n",
            "Epoch: 23 | loss: 0.0495\n",
            "Epoch: 24 | loss: 0.0460\n",
            "Epoch: 25 | loss: 0.0426\n",
            "Epoch: 26 | loss: 0.0394\n",
            "Epoch: 27 | loss: 0.0364\n",
            "Epoch: 28 | loss: 0.0336\n",
            "Epoch: 29 | loss: 0.0309\n",
            "Epoch: 30 | loss: 0.0284\n",
            "Epoch: 31 | loss: 0.0260\n",
            "Epoch: 32 | loss: 0.0239\n",
            "Epoch: 33 | loss: 0.0219\n",
            "Epoch: 34 | loss: 0.0200\n",
            "Epoch: 35 | loss: 0.0183\n",
            "Epoch: 36 | loss: 0.0167\n",
            "Epoch: 37 | loss: 0.0153\n",
            "Epoch: 38 | loss: 0.0140\n",
            "Epoch: 39 | loss: 0.0129\n",
            "Epoch: 40 | loss: 0.0118\n",
            "Epoch: 41 | loss: 0.0108\n",
            "Epoch: 42 | loss: 0.0100\n",
            "Epoch: 43 | loss: 0.0092\n",
            "Epoch: 44 | loss: 0.0085\n",
            "Epoch: 45 | loss: 0.0079\n",
            "Epoch: 46 | loss: 0.0073\n",
            "Epoch: 47 | loss: 0.0068\n",
            "Epoch: 48 | loss: 0.0064\n",
            "Epoch: 49 | loss: 0.0060\n",
            "Epoch: 50 | loss: 0.0056\n",
            "Epoch: 51 | loss: 0.0053\n",
            "Epoch: 52 | loss: 0.0050\n",
            "Epoch: 53 | loss: 0.0048\n",
            "Epoch: 54 | loss: 0.0046\n",
            "Epoch: 55 | loss: 0.0044\n",
            "Epoch: 56 | loss: 0.0043\n",
            "Epoch: 57 | loss: 0.0042\n",
            "Epoch: 58 | loss: 0.0041\n",
            "Epoch: 59 | loss: 0.0040\n",
            "Epoch: 60 | loss: 0.0040\n",
            "Epoch: 61 | loss: 0.0039\n",
            "Epoch: 62 | loss: 0.0039\n",
            "Epoch: 63 | loss: 0.0039\n",
            "Epoch: 64 | loss: 0.0039\n",
            "Epoch: 65 | loss: 0.0038\n",
            "Epoch: 66 | loss: 0.0038\n",
            "Epoch: 67 | loss: 0.0038\n",
            "Epoch: 68 | loss: 0.0038\n",
            "Epoch: 69 | loss: 0.0038\n"
          ]
        }
      ]
    },
    {
      "cell_type": "markdown",
      "source": [
        "In each epoch, the model's predictions y_pred are computed for the training data X_train. The training loss is then calculated using a specified loss function loss_fn and the true labels y_train. The optimizer's gradients are set to zero, and the backpropagation algorithm is used to compute the gradients of the loss with respect to the model's parameters. Finally, the optimizer takes a step in the direction of the negative gradient to update the model's parameters."
      ],
      "metadata": {
        "id": "XH87stN6tbLp"
      }
    },
    {
      "cell_type": "code",
      "source": [
        "losses_np = [l.detach().numpy() for l in losses]\n",
        "losses_list = [l.tolist() for l in losses_np]"
      ],
      "metadata": {
        "id": "SRy3_tMvyADM"
      },
      "execution_count": 77,
      "outputs": []
    },
    {
      "cell_type": "code",
      "source": [
        "plt.figure(figsize = (10, 7))\n",
        "plt.title('Training')\n",
        "plt.xlabel('Epochs')\n",
        "plt.ylabel('Loss')\n",
        "sns.lineplot(x = epoch_num, y = losses_list, color = 'r')\n",
        "sns.despine()"
      ],
      "metadata": {
        "colab": {
          "base_uri": "https://localhost:8080/",
          "height": 458
        },
        "id": "3WNlRq8HtcaL",
        "outputId": "38912adb-6c11-40ed-b32a-455cbed84216"
      },
      "execution_count": 79,
      "outputs": [
        {
          "output_type": "display_data",
          "data": {
            "text/plain": [
              "<Figure size 720x504 with 1 Axes>"
            ],
            "image/png": "[encoded data removed]"
          },
          "metadata": {
            "needs_background": "light"
          }
        }
      ]
    },
    {
      "cell_type": "markdown",
      "source": [
        "### Evaluation"
      ],
      "metadata": {
        "id": "YVKrJ22y01n1"
      }
    },
    {
      "cell_type": "code",
      "source": [
        "pred_test = model(X_test_scaled_p)\n",
        "pred_train = model(X_train_scaled_p)\n",
        "pred_val = model(X_val_scaled_p)"
      ],
      "metadata": {
        "id": "h4tWJnMUxILG"
      },
      "execution_count": 89,
      "outputs": []
    },
    {
      "cell_type": "code",
      "source": [
        "print(f\"Train loss: {loss_fn(pred_train, y_train_scaled_p)}\")\n",
        "print(f\"Test loss: {loss_fn(pred_test, y_test_scaled_p)}\")\n",
        "print(f\"Validation loss: {loss_fn(pred_val, y_val_scaled_p)}\")"
      ],
      "metadata": {
        "colab": {
          "base_uri": "https://localhost:8080/"
        },
        "id": "QARjsOBL1Qgc",
        "outputId": "421212f1-72e6-4476-b241-1494a75a081d"
      },
      "execution_count": 91,
      "outputs": [
        {
          "output_type": "stream",
          "name": "stdout",
          "text": [
            "Train loss: 0.003836940973997116\n",
            "Test loss: 0.003055805107578635\n",
            "Validation loss: 0.0030977430287748575\n"
          ]
        }
      ]
    },
    {
      "cell_type": "code",
      "source": [
        "X_test_scaled_p.detach().numpy().shape"
      ],
      "metadata": {
        "colab": {
          "base_uri": "https://localhost:8080/"
        },
        "id": "K6-8Neq54qko",
        "outputId": "d0a722c5-e883-4723-f5a7-5ace39234511"
      },
      "execution_count": 102,
      "outputs": [
        {
          "output_type": "execute_result",
          "data": {
            "text/plain": [
              "(15, 1)"
            ]
          },
          "metadata": {},
          "execution_count": 102
        }
      ]
    },
    {
      "cell_type": "code",
      "source": [
        "test_pred_df = pd.DataFrame(X_test_scaled_p.detach().numpy(), columns = ['X'])\n",
        "test_pred_df['y'] = y_test_scaled_p.detach().numpy()\n",
        "test_pred_df['y_hat'] =  pred_test.detach().numpy()\n",
        "test_pred_df"
      ],
      "metadata": {
        "colab": {
          "base_uri": "https://localhost:8080/",
          "height": 519
        },
        "id": "BYMvinby4To-",
        "outputId": "2dd15dbf-ecba-4029-882b-525028f7175b"
      },
      "execution_count": 106,
      "outputs": [
        {
          "output_type": "execute_result",
          "data": {
            "text/plain": [
              "           X         y     y_hat\n",
              "0   0.285408  0.350252  0.282889\n",
              "1  -0.963251 -0.934161 -0.966711\n",
              "2  -0.749195 -0.683341 -0.752494\n",
              "3   1.641094  1.637809  1.639598\n",
              "4   0.499463  0.497232  0.497107\n",
              "5  -0.356760 -0.365523 -0.359762\n",
              "6  -1.605418 -1.539131 -1.609362\n",
              "7  -1.141630 -1.136310 -1.145225\n",
              "8   0.392435  0.457444  0.389998\n",
              "9   1.748122  1.817126  1.746707\n",
              "10  1.462714  1.450681  1.461084\n",
              "11 -1.391362 -1.306002 -1.395145\n",
              "12 -1.034603 -0.948289 -1.038116\n",
              "13 -1.641094 -1.649071 -1.645065\n",
              "14 -1.569742 -1.504654 -1.573659"
            ],
            "text/html": [
              "\n",
              "  <div id=\"df-880c7eac-b757-4aff-a67a-108a5c820e1c\">\n",
              "    <div class=\"colab-df-container\">\n",
              "      <div>\n",
              "<style scoped>\n",
              "    .dataframe tbody tr th:only-of-type {\n",
              "        vertical-align: middle;\n",
              "    }\n",
              "\n",
              "    .dataframe tbody tr th {\n",
              "        vertical-align: top;\n",
              "    }\n",
              "\n",
              "    .dataframe thead th {\n",
              "        text-align: right;\n",
              "    }\n",
              "</style>\n",
              "<table border=\"1\" class=\"dataframe\">\n",
              "  <thead>\n",
              "    <tr style=\"text-align: right;\">\n",
              "      <th></th>\n",
              "      <th>X</th>\n",
              "      <th>y</th>\n",
              "      <th>y_hat</th>\n",
              "    </tr>\n",
              "  </thead>\n",
              "  <tbody>\n",
              "    <tr>\n",
              "      <th>0</th>\n",
              "      <td>0.285408</td>\n",
              "      <td>0.350252</td>\n",
              "      <td>0.282889</td>\n",
              "    </tr>\n",
              "    <tr>\n",
              "      <th>1</th>\n",
              "      <td>-0.963251</td>\n",
              "      <td>-0.934161</td>\n",
              "      <td>-0.966711</td>\n",
              "    </tr>\n",
              "    <tr>\n",
              "      <th>2</th>\n",
              "      <td>-0.749195</td>\n",
              "      <td>-0.683341</td>\n",
              "      <td>-0.752494</td>\n",
              "    </tr>\n",
              "    <tr>\n",
              "      <th>3</th>\n",
              "      <td>1.641094</td>\n",
              "      <td>1.637809</td>\n",
              "      <td>1.639598</td>\n",
              "    </tr>\n",
              "    <tr>\n",
              "      <th>4</th>\n",
              "      <td>0.499463</td>\n",
              "      <td>0.497232</td>\n",
              "      <td>0.497107</td>\n",
              "    </tr>\n",
              "    <tr>\n",
              "      <th>5</th>\n",
              "      <td>-0.356760</td>\n",
              "      <td>-0.365523</td>\n",
              "      <td>-0.359762</td>\n",
              "    </tr>\n",
              "    <tr>\n",
              "      <th>6</th>\n",
              "      <td>-1.605418</td>\n",
              "      <td>-1.539131</td>\n",
              "      <td>-1.609362</td>\n",
              "    </tr>\n",
              "    <tr>\n",
              "      <th>7</th>\n",
              "      <td>-1.141630</td>\n",
              "      <td>-1.136310</td>\n",
              "      <td>-1.145225</td>\n",
              "    </tr>\n",
              "    <tr>\n",
              "      <th>8</th>\n",
              "      <td>0.392435</td>\n",
              "      <td>0.457444</td>\n",
              "      <td>0.389998</td>\n",
              "    </tr>\n",
              "    <tr>\n",
              "      <th>9</th>\n",
              "      <td>1.748122</td>\n",
              "      <td>1.817126</td>\n",
              "      <td>1.746707</td>\n",
              "    </tr>\n",
              "    <tr>\n",
              "      <th>10</th>\n",
              "      <td>1.462714</td>\n",
              "      <td>1.450681</td>\n",
              "      <td>1.461084</td>\n",
              "    </tr>\n",
              "    <tr>\n",
              "      <th>11</th>\n",
              "      <td>-1.391362</td>\n",
              "      <td>-1.306002</td>\n",
              "      <td>-1.395145</td>\n",
              "    </tr>\n",
              "    <tr>\n",
              "      <th>12</th>\n",
              "      <td>-1.034603</td>\n",
              "      <td>-0.948289</td>\n",
              "      <td>-1.038116</td>\n",
              "    </tr>\n",
              "    <tr>\n",
              "      <th>13</th>\n",
              "      <td>-1.641094</td>\n",
              "      <td>-1.649071</td>\n",
              "      <td>-1.645065</td>\n",
              "    </tr>\n",
              "    <tr>\n",
              "      <th>14</th>\n",
              "      <td>-1.569742</td>\n",
              "      <td>-1.504654</td>\n",
              "      <td>-1.573659</td>\n",
              "    </tr>\n",
              "  </tbody>\n",
              "</table>\n",
              "</div>\n",
              "      <button class=\"colab-df-convert\" onclick=\"convertToInteractive('df-880c7eac-b757-4aff-a67a-108a5c820e1c')\"\n",
              "              title=\"Convert this dataframe to an interactive table.\"\n",
              "              style=\"display:none;\">\n",
              "        \n",
              "  <svg xmlns=\"http://www.w3.org/2000/svg\" height=\"24px\"viewBox=\"0 0 24 24\"\n",
              "       width=\"24px\">\n",
              "    <path d=\"M0 0h24v24H0V0z\" fill=\"none\"/>\n",
              "    <path d=\"M18.56 5.44l.94 2.06.94-2.06 2.06-.94-2.06-.94-.94-2.06-.94 2.06-2.06.94zm-11 1L8.5 8.5l.94-2.06 2.06-.94-2.06-.94L8.5 2.5l-.94 2.06-2.06.94zm10 10l.94 2.06.94-2.06 2.06-.94-2.06-.94-.94-2.06-.94 2.06-2.06.94z\"/><path d=\"M17.41 7.96l-1.37-1.37c-.4-.4-.92-.59-1.43-.59-.52 0-1.04.2-1.43.59L10.3 9.45l-7.72 7.72c-.78.78-.78 2.05 0 2.83L4 21.41c.39.39.9.59 1.41.59.51 0 1.02-.2 1.41-.59l7.78-7.78 2.81-2.81c.8-.78.8-2.07 0-2.86zM5.41 20L4 18.59l7.72-7.72 1.47 1.35L5.41 20z\"/>\n",
              "  </svg>\n",
              "      </button>\n",
              "      \n",
              "  <style>\n",
              "    .colab-df-container {\n",
              "      display:flex;\n",
              "      flex-wrap:wrap;\n",
              "      gap: 12px;\n",
              "    }\n",
              "\n",
              "    .colab-df-convert {\n",
              "      background-color: #E8F0FE;\n",
              "      border: none;\n",
              "      border-radius: 50%;\n",
              "      cursor: pointer;\n",
              "      display: none;\n",
              "      fill: #1967D2;\n",
              "      height: 32px;\n",
              "      padding: 0 0 0 0;\n",
              "      width: 32px;\n",
              "    }\n",
              "\n",
              "    .colab-df-convert:hover {\n",
              "      background-color: #E2EBFA;\n",
              "      box-shadow: 0px 1px 2px rgba(60, 64, 67, 0.3), 0px 1px 3px 1px rgba(60, 64, 67, 0.15);\n",
              "      fill: #174EA6;\n",
              "    }\n",
              "\n",
              "    [theme=dark] .colab-df-convert {\n",
              "      background-color: #3B4455;\n",
              "      fill: #D2E3FC;\n",
              "    }\n",
              "\n",
              "    [theme=dark] .colab-df-convert:hover {\n",
              "      background-color: #434B5C;\n",
              "      box-shadow: 0px 1px 3px 1px rgba(0, 0, 0, 0.15);\n",
              "      filter: drop-shadow(0px 1px 2px rgba(0, 0, 0, 0.3));\n",
              "      fill: #FFFFFF;\n",
              "    }\n",
              "  </style>\n",
              "\n",
              "      <script>\n",
              "        const buttonEl =\n",
              "          document.querySelector('#df-880c7eac-b757-4aff-a67a-108a5c820e1c button.colab-df-convert');\n",
              "        buttonEl.style.display =\n",
              "          google.colab.kernel.accessAllowed ? 'block' : 'none';\n",
              "\n",
              "        async function convertToInteractive(key) {\n",
              "          const element = document.querySelector('#df-880c7eac-b757-4aff-a67a-108a5c820e1c');\n",
              "          const dataTable =\n",
              "            await google.colab.kernel.invokeFunction('convertToInteractive',\n",
              "                                                     [key], {});\n",
              "          if (!dataTable) return;\n",
              "\n",
              "          const docLinkHtml = 'Like what you see? Visit the ' +\n",
              "            '<a target=\"_blank\" href=https://colab.research.google.com/notebooks/data_table.ipynb>data table notebook</a>'\n",
              "            + ' to learn more about interactive tables.';\n",
              "          element.innerHTML = '';\n",
              "          dataTable['output_type'] = 'display_data';\n",
              "          await google.colab.output.renderOutput(dataTable, element);\n",
              "          const docLink = document.createElement('div');\n",
              "          docLink.innerHTML = docLinkHtml;\n",
              "          element.appendChild(docLink);\n",
              "        }\n",
              "      </script>\n",
              "    </div>\n",
              "  </div>\n",
              "  "
            ]
          },
          "metadata": {},
          "execution_count": 106
        }
      ]
    },
    {
      "cell_type": "code",
      "source": [
        "plt.figure(figsize = (10, 7))\n",
        "plt.title(\"Test Evaluation\")\n",
        "sns.lineplot(data = test_pred_df, x = 'X', y = 'y_hat')\n",
        "sns.scatterplot(data = test_pred_df, x = 'X', y = 'y', color='r')\n",
        "sns.despine()"
      ],
      "metadata": {
        "colab": {
          "base_uri": "https://localhost:8080/",
          "height": 458
        },
        "id": "t_k_DLQe2xV-",
        "outputId": "09418071-5dd4-43c7-e204-791cdf6ee7ea"
      },
      "execution_count": 107,
      "outputs": [
        {
          "output_type": "display_data",
          "data": {
            "text/plain": [
              "<Figure size 720x504 with 1 Axes>"
            ],
            "image/png": "[encoded data removed]"
          },
          "metadata": {
            "needs_background": "light"
          }
        }
      ]
    },
    {
      "cell_type": "code",
      "source": [
        "# Unstandardize coefficients\n",
        "W = model.fc1.weight.data.numpy()[0][0]\n",
        "b = model.fc1.bias.data.numpy()[0]\n",
        "W_unscaled = W * (scaler_y.scale_/scaler_X.scale_)\n",
        "b_unscaled = b * scaler_y.scale_ + scaler_y.mean_ - np.sum(W_unscaled*scaler_X.mean_)\n",
        "print (\"[actual] y = 5.0X + noise\")\n",
        "print (f\"[model] y_hat = {W_unscaled[0]:.1f}X + {b_unscaled[0]:.1f}\")\n"
      ],
      "metadata": {
        "colab": {
          "base_uri": "https://localhost:8080/"
        },
        "id": "RAioWJVk3d2M",
        "outputId": "8f3be8e5-86b6-4cc8-9a09-fa3b0777a016"
      },
      "execution_count": 110,
      "outputs": [
        {
          "output_type": "stream",
          "name": "stdout",
          "text": [
            "[actual] y = 5.0X + noise\n",
            "[model] y_hat = 5.0X + 3.7\n"
          ]
        }
      ]
    },
    {
      "cell_type": "markdown",
      "source": [
        "Perfect!"
      ],
      "metadata": {
        "id": "Vz1UfHKL7B9l"
      }
    },
    {
      "cell_type": "code",
      "source": [],
      "metadata": {
        "id": "-4DQYT7h6dLa"
      },
      "execution_count": null,
      "outputs": []
    }
  ]
}