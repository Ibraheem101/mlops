{
  "nbformat": 4,
  "nbformat_minor": 0,
  "metadata": {
    "colab": {
      "provenance": [],
      "authorship_tag": "ABX9TyPDtCbOUFkWjQEnXeB8EQvr",
      "include_colab_link": true
    },
    "kernelspec": {
      "name": "python3",
      "display_name": "Python 3"
    },
    "language_info": {
      "name": "python"
    }
  },
  "cells": [
    {
      "cell_type": "markdown",
      "metadata": {
        "id": "view-in-github",
        "colab_type": "text"
      },
      "source": [
        "<a href=\"https://colab.research.google.com/github/Ibraheem101/mlops/blob/main/linear_regression.ipynb\" target=\"_parent\"><img src=\"https://colab.research.google.com/assets/colab-badge.svg\" alt=\"Open In Colab\"/></a>"
      ]
    },
    {
      "cell_type": "markdown",
      "source": [
        "# Linear Regression"
      ],
      "metadata": {
        "id": "Lw3jC4vp3_kz"
      }
    },
    {
      "cell_type": "code",
      "execution_count": 1,
      "metadata": {
        "id": "r35W4ReZ36Oi"
      },
      "outputs": [],
      "source": [
        "import torch\n",
        "import numpy as np\n",
        "import pandas as pd\n",
        "import seaborn as sns\n",
        "import matplotlib.pyplot as plt"
      ]
    },
    {
      "cell_type": "code",
      "source": [
        "SEED = 1234\n",
        "NUM_SAMPLES = 100"
      ],
      "metadata": {
        "id": "_IP3md_S4W7O"
      },
      "execution_count": 2,
      "outputs": []
    },
    {
      "cell_type": "code",
      "source": [
        "np.random.seed(SEED)"
      ],
      "metadata": {
        "id": "twemT6UT42KT"
      },
      "execution_count": 3,
      "outputs": []
    },
    {
      "cell_type": "code",
      "source": [
        "# Generate data\n",
        "def generate_data(n):\n",
        "  X = np.linspace(0, 99, 100)\n",
        "  random_noise = np.random.uniform(-10, 20, size = n)\n",
        "  y = 5 * X + random_noise\n",
        "  return X, y"
      ],
      "metadata": {
        "id": "aPHLM70X49r5"
      },
      "execution_count": 4,
      "outputs": []
    },
    {
      "cell_type": "code",
      "source": [
        "X, y = generate_data(n = NUM_SAMPLES)\n",
        "data = np.vstack([X, y]).T\n",
        "print(data[:10])"
      ],
      "metadata": {
        "colab": {
          "base_uri": "https://localhost:8080/"
        },
        "id": "Ck3Nk5WV8KaU",
        "outputId": "378b9e3d-6514-4f6d-c83c-dea4672a5aed"
      },
      "execution_count": 5,
      "outputs": [
        {
          "output_type": "stream",
          "name": "stdout",
          "text": [
            "[[ 0.         -4.25441649]\n",
            " [ 1.         13.66326313]\n",
            " [ 2.         13.13183217]\n",
            " [ 3.         28.56075751]\n",
            " [ 4.         33.39927424]\n",
            " [ 5.         23.17777816]\n",
            " [ 6.         28.29392765]\n",
            " [ 7.         49.05616533]\n",
            " [ 8.         58.74418061]\n",
            " [ 9.         61.27797904]]\n"
          ]
        }
      ]
    },
    {
      "cell_type": "code",
      "source": [
        "# Load into a dataframe\n",
        "df = pd.DataFrame(data, columns = ['X', 'y'])\n",
        "X = df.X.values\n",
        "y = df.y.values"
      ],
      "metadata": {
        "id": "z7rxJgaC8LtH"
      },
      "execution_count": 6,
      "outputs": []
    },
    {
      "cell_type": "code",
      "source": [
        "df.head()"
      ],
      "metadata": {
        "colab": {
          "base_uri": "https://localhost:8080/",
          "height": 206
        },
        "id": "P7ZjQU59-GIY",
        "outputId": "64a5a41d-3356-493b-abfd-b6bcb4aa5f48"
      },
      "execution_count": 7,
      "outputs": [
        {
          "output_type": "execute_result",
          "data": {
            "text/plain": [
              "     X          y\n",
              "0  0.0  -4.254416\n",
              "1  1.0  13.663263\n",
              "2  2.0  13.131832\n",
              "3  3.0  28.560758\n",
              "4  4.0  33.399274"
            ],
            "text/html": [
              "\n",
              "  <div id=\"df-3edd2f5f-1c22-45d0-9d8e-240e3de651a0\">\n",
              "    <div class=\"colab-df-container\">\n",
              "      <div>\n",
              "<style scoped>\n",
              "    .dataframe tbody tr th:only-of-type {\n",
              "        vertical-align: middle;\n",
              "    }\n",
              "\n",
              "    .dataframe tbody tr th {\n",
              "        vertical-align: top;\n",
              "    }\n",
              "\n",
              "    .dataframe thead th {\n",
              "        text-align: right;\n",
              "    }\n",
              "</style>\n",
              "<table border=\"1\" class=\"dataframe\">\n",
              "  <thead>\n",
              "    <tr style=\"text-align: right;\">\n",
              "      <th></th>\n",
              "      <th>X</th>\n",
              "      <th>y</th>\n",
              "    </tr>\n",
              "  </thead>\n",
              "  <tbody>\n",
              "    <tr>\n",
              "      <th>0</th>\n",
              "      <td>0.0</td>\n",
              "      <td>-4.254416</td>\n",
              "    </tr>\n",
              "    <tr>\n",
              "      <th>1</th>\n",
              "      <td>1.0</td>\n",
              "      <td>13.663263</td>\n",
              "    </tr>\n",
              "    <tr>\n",
              "      <th>2</th>\n",
              "      <td>2.0</td>\n",
              "      <td>13.131832</td>\n",
              "    </tr>\n",
              "    <tr>\n",
              "      <th>3</th>\n",
              "      <td>3.0</td>\n",
              "      <td>28.560758</td>\n",
              "    </tr>\n",
              "    <tr>\n",
              "      <th>4</th>\n",
              "      <td>4.0</td>\n",
              "      <td>33.399274</td>\n",
              "    </tr>\n",
              "  </tbody>\n",
              "</table>\n",
              "</div>\n",
              "      <button class=\"colab-df-convert\" onclick=\"convertToInteractive('df-3edd2f5f-1c22-45d0-9d8e-240e3de651a0')\"\n",
              "              title=\"Convert this dataframe to an interactive table.\"\n",
              "              style=\"display:none;\">\n",
              "        \n",
              "  <svg xmlns=\"http://www.w3.org/2000/svg\" height=\"24px\"viewBox=\"0 0 24 24\"\n",
              "       width=\"24px\">\n",
              "    <path d=\"M0 0h24v24H0V0z\" fill=\"none\"/>\n",
              "    <path d=\"M18.56 5.44l.94 2.06.94-2.06 2.06-.94-2.06-.94-.94-2.06-.94 2.06-2.06.94zm-11 1L8.5 8.5l.94-2.06 2.06-.94-2.06-.94L8.5 2.5l-.94 2.06-2.06.94zm10 10l.94 2.06.94-2.06 2.06-.94-2.06-.94-.94-2.06-.94 2.06-2.06.94z\"/><path d=\"M17.41 7.96l-1.37-1.37c-.4-.4-.92-.59-1.43-.59-.52 0-1.04.2-1.43.59L10.3 9.45l-7.72 7.72c-.78.78-.78 2.05 0 2.83L4 21.41c.39.39.9.59 1.41.59.51 0 1.02-.2 1.41-.59l7.78-7.78 2.81-2.81c.8-.78.8-2.07 0-2.86zM5.41 20L4 18.59l7.72-7.72 1.47 1.35L5.41 20z\"/>\n",
              "  </svg>\n",
              "      </button>\n",
              "      \n",
              "  <style>\n",
              "    .colab-df-container {\n",
              "      display:flex;\n",
              "      flex-wrap:wrap;\n",
              "      gap: 12px;\n",
              "    }\n",
              "\n",
              "    .colab-df-convert {\n",
              "      background-color: #E8F0FE;\n",
              "      border: none;\n",
              "      border-radius: 50%;\n",
              "      cursor: pointer;\n",
              "      display: none;\n",
              "      fill: #1967D2;\n",
              "      height: 32px;\n",
              "      padding: 0 0 0 0;\n",
              "      width: 32px;\n",
              "    }\n",
              "\n",
              "    .colab-df-convert:hover {\n",
              "      background-color: #E2EBFA;\n",
              "      box-shadow: 0px 1px 2px rgba(60, 64, 67, 0.3), 0px 1px 3px 1px rgba(60, 64, 67, 0.15);\n",
              "      fill: #174EA6;\n",
              "    }\n",
              "\n",
              "    [theme=dark] .colab-df-convert {\n",
              "      background-color: #3B4455;\n",
              "      fill: #D2E3FC;\n",
              "    }\n",
              "\n",
              "    [theme=dark] .colab-df-convert:hover {\n",
              "      background-color: #434B5C;\n",
              "      box-shadow: 0px 1px 3px 1px rgba(0, 0, 0, 0.15);\n",
              "      filter: drop-shadow(0px 1px 2px rgba(0, 0, 0, 0.3));\n",
              "      fill: #FFFFFF;\n",
              "    }\n",
              "  </style>\n",
              "\n",
              "      <script>\n",
              "        const buttonEl =\n",
              "          document.querySelector('#df-3edd2f5f-1c22-45d0-9d8e-240e3de651a0 button.colab-df-convert');\n",
              "        buttonEl.style.display =\n",
              "          google.colab.kernel.accessAllowed ? 'block' : 'none';\n",
              "\n",
              "        async function convertToInteractive(key) {\n",
              "          const element = document.querySelector('#df-3edd2f5f-1c22-45d0-9d8e-240e3de651a0');\n",
              "          const dataTable =\n",
              "            await google.colab.kernel.invokeFunction('convertToInteractive',\n",
              "                                                     [key], {});\n",
              "          if (!dataTable) return;\n",
              "\n",
              "          const docLinkHtml = 'Like what you see? Visit the ' +\n",
              "            '<a target=\"_blank\" href=https://colab.research.google.com/notebooks/data_table.ipynb>data table notebook</a>'\n",
              "            + ' to learn more about interactive tables.';\n",
              "          element.innerHTML = '';\n",
              "          dataTable['output_type'] = 'display_data';\n",
              "          await google.colab.output.renderOutput(dataTable, element);\n",
              "          const docLink = document.createElement('div');\n",
              "          docLink.innerHTML = docLinkHtml;\n",
              "          element.appendChild(docLink);\n",
              "        }\n",
              "      </script>\n",
              "    </div>\n",
              "  </div>\n",
              "  "
            ]
          },
          "metadata": {},
          "execution_count": 7
        }
      ]
    },
    {
      "cell_type": "code",
      "source": [
        "plt.figure(figsize = (10, 7))\n",
        "plt.title(\"Generated data\")\n",
        "sns.scatterplot(data = df, x = X, y = y, color = 'r', )\n",
        "sns.despine()"
      ],
      "metadata": {
        "colab": {
          "base_uri": "https://localhost:8080/",
          "height": 444
        },
        "id": "lGl_jDdN-KRo",
        "outputId": "6fa777f8-c4fd-44cd-b45c-0b8f2d86debf"
      },
      "execution_count": 8,
      "outputs": [
        {
          "output_type": "display_data",
          "data": {
            "text/plain": [
              "<Figure size 720x504 with 1 Axes>"
            ],
            "image/png": "[encoded data removed]"
          },
          "metadata": {
            "needs_background": "light"
          }
        }
      ]
    },
    {
      "cell_type": "markdown",
      "source": [
        "### Splitting Data"
      ],
      "metadata": {
        "id": "NSRRruC2AX1F"
      }
    },
    {
      "cell_type": "code",
      "source": [
        "train_size = 0.7\n",
        "test_size = 0.15\n",
        "val_size = 0.15"
      ],
      "metadata": {
        "id": "pJy0OvVd-OAK"
      },
      "execution_count": 9,
      "outputs": []
    },
    {
      "cell_type": "code",
      "source": [
        "indices = np.arange(NUM_SAMPLES)\n",
        "np.random.shuffle(indices)"
      ],
      "metadata": {
        "id": "7vysAGtYAlzX"
      },
      "execution_count": 10,
      "outputs": []
    },
    {
      "cell_type": "code",
      "source": [
        "X = X[indices]\n",
        "y = y[indices]"
      ],
      "metadata": {
        "id": "hEBCqNklBLbn"
      },
      "execution_count": 11,
      "outputs": []
    },
    {
      "cell_type": "code",
      "source": [
        "len(X[85:])"
      ],
      "metadata": {
        "colab": {
          "base_uri": "https://localhost:8080/"
        },
        "id": "Wt4AKS7MC97u",
        "outputId": "ff511585-bbab-4aa1-91d7-514e877bf9d2"
      },
      "execution_count": 12,
      "outputs": [
        {
          "output_type": "execute_result",
          "data": {
            "text/plain": [
              "15"
            ]
          },
          "metadata": {},
          "execution_count": 12
        }
      ]
    },
    {
      "cell_type": "code",
      "source": [
        "# X_train = X[:70]\n",
        "# y_train = y[:70]\n",
        "\n",
        "# X_test = X[70:85]\n",
        "# y_test = y[70:85]\n",
        "\n",
        "# X_val = X[85:]\n",
        "# y_val = y[85:]"
      ],
      "metadata": {
        "id": "DOoKB-6MCJjf"
      },
      "execution_count": 13,
      "outputs": []
    },
    {
      "cell_type": "code",
      "source": [
        "train_end = int(train_size * NUM_SAMPLES)\n",
        "test_start = train_end\n",
        "test_end = int((train_size + test_size)*NUM_SAMPLES)\n",
        "val_start = test_end\n",
        "\n",
        "print(f\"Train end: {train_end}\")\n",
        "print(f\"Test start: {test_start}\")\n",
        "print(f\"Test end: {test_end}\")"
      ],
      "metadata": {
        "colab": {
          "base_uri": "https://localhost:8080/"
        },
        "id": "kLzgfLukEEf4",
        "outputId": "85dd1774-cd90-4f27-f4b5-0516ec1c3c69"
      },
      "execution_count": 14,
      "outputs": [
        {
          "output_type": "stream",
          "name": "stdout",
          "text": [
            "Train end: 70\n",
            "Test start: 70\n",
            "Test end: 85\n"
          ]
        }
      ]
    },
    {
      "cell_type": "code",
      "source": [
        "X_train = X[:train_end]\n",
        "y_train = y[:train_end]\n",
        "\n",
        "X_test = X[test_start:test_end]\n",
        "y_test = y[test_start:test_end]\n",
        "\n",
        "X_val = X[val_start:]\n",
        "y_val = y[val_start:]"
      ],
      "metadata": {
        "id": "TZoQWw6SDfgU"
      },
      "execution_count": 15,
      "outputs": []
    },
    {
      "cell_type": "code",
      "source": [
        "print(len(X_train), len(X_test), len(X_val))"
      ],
      "metadata": {
        "colab": {
          "base_uri": "https://localhost:8080/"
        },
        "id": "D8N5xWhlLwAF",
        "outputId": "5907ef3e-bb48-42f1-fc38-bf802000ba00"
      },
      "execution_count": 16,
      "outputs": [
        {
          "output_type": "stream",
          "name": "stdout",
          "text": [
            "70 15 15\n"
          ]
        }
      ]
    },
    {
      "cell_type": "code",
      "source": [
        "print (f\"X_train: {X_train.shape}, y_train: {y_train.shape}\")\n",
        "print (f\"X_test: {X_test.shape}, y_test: {y_test.shape}\")\n",
        "print (f\"X_val: {X_val.shape}, y_test: {y_val.shape}\")"
      ],
      "metadata": {
        "colab": {
          "base_uri": "https://localhost:8080/"
        },
        "id": "wsz5cv7lL59t",
        "outputId": "54654ca8-3533-484a-ecb7-e9ea85b6b2f6"
      },
      "execution_count": 17,
      "outputs": [
        {
          "output_type": "stream",
          "name": "stdout",
          "text": [
            "X_train: (70,), y_train: (70,)\n",
            "X_test: (15,), y_test: (15,)\n",
            "X_val: (15,), y_test: (15,)\n"
          ]
        }
      ]
    },
    {
      "cell_type": "markdown",
      "source": [
        "### Standardize Data"
      ],
      "metadata": {
        "id": "PzY-yWeoMUY8"
      }
    },
    {
      "cell_type": "code",
      "source": [
        "# Standardize to mean of zero and S.D of 1\n",
        "def Standardize(data, mean, std):\n",
        "  z = (data - mean)/std\n",
        "  return z"
      ],
      "metadata": {
        "id": "PX2sKDpuMHx8"
      },
      "execution_count": 18,
      "outputs": []
    },
    {
      "cell_type": "code",
      "source": [
        "# Fit on training data and transform on test and val data\n",
        "X_mean = np.mean(X_train)\n",
        "X_std = np.std(X_train)\n",
        "\n",
        "y_mean = np.mean(y_train)\n",
        "y_std = np.std(y_train)"
      ],
      "metadata": {
        "id": "Cp7HWiOeNSx7"
      },
      "execution_count": 19,
      "outputs": []
    },
    {
      "cell_type": "code",
      "source": [
        "X_train_scaled = Standardize(X_train, X_mean, X_std)\n",
        "y_train_scaled = Standardize(y_train, y_mean, y_std)\n",
        "\n",
        "X_test_scaled = Standardize(X_test, X_mean, X_std)\n",
        "y_test_scaled = Standardize(y_test, y_mean, y_std)\n",
        "\n",
        "X_val_scaled = Standardize(X_val, X_mean, X_std)\n",
        "y_val_scaled = Standardize(y_val, y_mean, y_std)"
      ],
      "metadata": {
        "id": "SnvQH-JPNZsV"
      },
      "execution_count": 20,
      "outputs": []
    },
    {
      "cell_type": "code",
      "source": [
        "# Check (means should be ~0 and std should be ~1)\n",
        "# Check (means should be ~0 and std should be ~1)\n",
        "print (f\"mean: {np.mean(X_test_scaled, axis=0):.1f}, std: {np.std(X_test_scaled, axis=0):.1f}\")\n",
        "print (f\"mean: {np.mean(y_test_scaled, axis=0):.1f}, std: {np.std(y_test_scaled, axis=0):.1f}\")"
      ],
      "metadata": {
        "colab": {
          "base_uri": "https://localhost:8080/"
        },
        "id": "uf-nAtNtPui2",
        "outputId": "21ce3e2b-3d72-4368-d63d-76fd0757c3f7"
      },
      "execution_count": 21,
      "outputs": [
        {
          "output_type": "stream",
          "name": "stdout",
          "text": [
            "mean: -0.2, std: 1.0\n",
            "mean: -0.2, std: 1.0\n"
          ]
        }
      ]
    },
    {
      "cell_type": "code",
      "source": [
        "X_train_scaled = X_train_scaled.reshape(X_train_scaled.shape[0], 1)\n",
        "y_train_scaled = y_train_scaled.reshape(y_train_scaled.shape[0], 1)\n",
        "\n",
        "X_test_scaled = X_test_scaled.reshape(X_test_scaled.shape[0], 1)\n",
        "y_test_scaled = y_test_scaled.reshape(y_test_scaled.shape[0], 1)\n",
        "\n",
        "X_val_scaled = X_val_scaled.reshape(X_val_scaled.shape[0], 1)\n",
        "y_val_scaled = y_val_scaled.reshape(y_val_scaled.shape[0], 1)"
      ],
      "metadata": {
        "id": "xTWdXch-mXjg"
      },
      "execution_count": 22,
      "outputs": []
    },
    {
      "cell_type": "markdown",
      "source": [
        "### Model Weights and biases"
      ],
      "metadata": {
        "id": "jOKIE3DSSDdM"
      }
    },
    {
      "cell_type": "code",
      "source": [
        "X_train_scaled.shape"
      ],
      "metadata": {
        "colab": {
          "base_uri": "https://localhost:8080/"
        },
        "id": "-x3GPN9XmBHe",
        "outputId": "226d8b90-125f-4136-b456-b8b26e572d52"
      },
      "execution_count": 23,
      "outputs": [
        {
          "output_type": "execute_result",
          "data": {
            "text/plain": [
              "(70, 1)"
            ]
          },
          "metadata": {},
          "execution_count": 23
        }
      ]
    },
    {
      "cell_type": "code",
      "source": [
        "# Random initialization\n",
        "# y_hat = W * X + b\n",
        "w_row = X_train_scaled.shape[1]\n",
        "w_col = y_train_scaled.shape[1]\n",
        "\n",
        "W = 0.01 * np.random.randn(w_row, w_col)\n",
        "b = np.zeros((1, 1)) #Numpy will expand it\n",
        "\n",
        "print (f\"W: {W.shape}\")\n",
        "print (f\"b: {b.shape}\")"
      ],
      "metadata": {
        "colab": {
          "base_uri": "https://localhost:8080/"
        },
        "id": "2DFO2z9QQpl3",
        "outputId": "ea37c382-7a91-41de-ffaf-89fdd1d7d290"
      },
      "execution_count": 24,
      "outputs": [
        {
          "output_type": "stream",
          "name": "stdout",
          "text": [
            "W: (1, 1)\n",
            "b: (1, 1)\n"
          ]
        }
      ]
    },
    {
      "cell_type": "code",
      "source": [
        "y_pred = np.dot(X_train_scaled, W) + b\n",
        "print (f\"y_pred: {y_pred.shape}\")"
      ],
      "metadata": {
        "colab": {
          "base_uri": "https://localhost:8080/"
        },
        "id": "-ObFvbwJUgsz",
        "outputId": "49cf294e-ddcd-4e03-9521-5c20bfd742e9"
      },
      "execution_count": 25,
      "outputs": [
        {
          "output_type": "stream",
          "name": "stdout",
          "text": [
            "y_pred: (70, 1)\n"
          ]
        }
      ]
    },
    {
      "cell_type": "markdown",
      "source": [
        "### Computing Loss\n",
        "MSE"
      ],
      "metadata": {
        "id": "QFNsq07VW71u"
      }
    },
    {
      "cell_type": "code",
      "source": [
        "n = len(X_train_scaled)\n",
        "\n",
        "def mse(y, y_pred, n = len(y)):\n",
        "  \"\"\"Returns the mse loss\"\"\"\n",
        "  return np.sum(np.square(y - y_pred)) / (n)"
      ],
      "metadata": {
        "id": "PCqeluE4Ui8x"
      },
      "execution_count": 26,
      "outputs": []
    },
    {
      "cell_type": "code",
      "source": [
        "dw = np.sum((y_train_scaled - y_pred) * X_train_scaled) / n\n",
        "db = np.sum(y_train_scaled - y_pred) / n"
      ],
      "metadata": {
        "id": "psB00zfOXlEq"
      },
      "execution_count": 27,
      "outputs": []
    },
    {
      "cell_type": "code",
      "source": [
        "# Update weights\n",
        "lr = 0.01\n",
        "W -= lr*dw\n",
        "b -= lr*db"
      ],
      "metadata": {
        "id": "SuxGBKitdUAm"
      },
      "execution_count": 28,
      "outputs": []
    },
    {
      "cell_type": "markdown",
      "source": [
        "### Training"
      ],
      "metadata": {
        "id": "HeLues-deAjc"
      }
    },
    {
      "cell_type": "code",
      "source": [
        "epochs = 200\n",
        "losses = []\n",
        "epoch_count = []\n",
        "for epoch in range(epochs):\n",
        "  y_pred = np.dot(X_train_scaled, W) + b\n",
        "  loss = mse(y_train_scaled, y_pred)\n",
        "  losses.append(loss)\n",
        "  epoch_count.append(epoch)\n",
        "  print (f\"Epoch: {epoch}, loss: {loss:.3f}\")\n",
        "\n",
        "  dw = np.sum((y_train_scaled - y_pred) * X_train_scaled) * 2 / n\n",
        "  db = np.sum(y_train_scaled - y_pred) * 2 / n\n",
        "\n",
        "  W += lr*dw\n",
        "  b += lr*db"
      ],
      "metadata": {
        "colab": {
          "base_uri": "https://localhost:8080/"
        },
        "id": "ZkqzkEE8d605",
        "outputId": "98406147-a47f-4db6-ae2e-76f4a4ef3954"
      },
      "execution_count": 29,
      "outputs": [
        {
          "output_type": "stream",
          "name": "stdout",
          "text": [
            "Epoch: 0, loss: 0.741\n",
            "Epoch: 1, loss: 0.712\n",
            "Epoch: 2, loss: 0.684\n",
            "Epoch: 3, loss: 0.657\n",
            "Epoch: 4, loss: 0.631\n",
            "Epoch: 5, loss: 0.606\n",
            "Epoch: 6, loss: 0.582\n",
            "Epoch: 7, loss: 0.559\n",
            "Epoch: 8, loss: 0.537\n",
            "Epoch: 9, loss: 0.516\n",
            "Epoch: 10, loss: 0.496\n",
            "Epoch: 11, loss: 0.476\n",
            "Epoch: 12, loss: 0.457\n",
            "Epoch: 13, loss: 0.439\n",
            "Epoch: 14, loss: 0.422\n",
            "Epoch: 15, loss: 0.405\n",
            "Epoch: 16, loss: 0.389\n",
            "Epoch: 17, loss: 0.374\n",
            "Epoch: 18, loss: 0.359\n",
            "Epoch: 19, loss: 0.345\n",
            "Epoch: 20, loss: 0.332\n",
            "Epoch: 21, loss: 0.319\n",
            "Epoch: 22, loss: 0.306\n",
            "Epoch: 23, loss: 0.294\n",
            "Epoch: 24, loss: 0.283\n",
            "Epoch: 25, loss: 0.271\n",
            "Epoch: 26, loss: 0.261\n",
            "Epoch: 27, loss: 0.251\n",
            "Epoch: 28, loss: 0.241\n",
            "Epoch: 29, loss: 0.231\n",
            "Epoch: 30, loss: 0.222\n",
            "Epoch: 31, loss: 0.214\n",
            "Epoch: 32, loss: 0.205\n",
            "Epoch: 33, loss: 0.197\n",
            "Epoch: 34, loss: 0.189\n",
            "Epoch: 35, loss: 0.182\n",
            "Epoch: 36, loss: 0.175\n",
            "Epoch: 37, loss: 0.168\n",
            "Epoch: 38, loss: 0.162\n",
            "Epoch: 39, loss: 0.155\n",
            "Epoch: 40, loss: 0.149\n",
            "Epoch: 41, loss: 0.143\n",
            "Epoch: 42, loss: 0.138\n",
            "Epoch: 43, loss: 0.132\n",
            "Epoch: 44, loss: 0.127\n",
            "Epoch: 45, loss: 0.122\n",
            "Epoch: 46, loss: 0.118\n",
            "Epoch: 47, loss: 0.113\n",
            "Epoch: 48, loss: 0.109\n",
            "Epoch: 49, loss: 0.104\n",
            "Epoch: 50, loss: 0.100\n",
            "Epoch: 51, loss: 0.097\n",
            "Epoch: 52, loss: 0.093\n",
            "Epoch: 53, loss: 0.089\n",
            "Epoch: 54, loss: 0.086\n",
            "Epoch: 55, loss: 0.083\n",
            "Epoch: 56, loss: 0.079\n",
            "Epoch: 57, loss: 0.076\n",
            "Epoch: 58, loss: 0.073\n",
            "Epoch: 59, loss: 0.071\n",
            "Epoch: 60, loss: 0.068\n",
            "Epoch: 61, loss: 0.065\n",
            "Epoch: 62, loss: 0.063\n",
            "Epoch: 63, loss: 0.060\n",
            "Epoch: 64, loss: 0.058\n",
            "Epoch: 65, loss: 0.056\n",
            "Epoch: 66, loss: 0.054\n",
            "Epoch: 67, loss: 0.052\n",
            "Epoch: 68, loss: 0.050\n",
            "Epoch: 69, loss: 0.048\n",
            "Epoch: 70, loss: 0.046\n",
            "Epoch: 71, loss: 0.044\n",
            "Epoch: 72, loss: 0.043\n",
            "Epoch: 73, loss: 0.041\n",
            "Epoch: 74, loss: 0.040\n",
            "Epoch: 75, loss: 0.038\n",
            "Epoch: 76, loss: 0.037\n",
            "Epoch: 77, loss: 0.035\n",
            "Epoch: 78, loss: 0.034\n",
            "Epoch: 79, loss: 0.033\n",
            "Epoch: 80, loss: 0.032\n",
            "Epoch: 81, loss: 0.030\n",
            "Epoch: 82, loss: 0.029\n",
            "Epoch: 83, loss: 0.028\n",
            "Epoch: 84, loss: 0.027\n",
            "Epoch: 85, loss: 0.026\n",
            "Epoch: 86, loss: 0.025\n",
            "Epoch: 87, loss: 0.024\n",
            "Epoch: 88, loss: 0.024\n",
            "Epoch: 89, loss: 0.023\n",
            "Epoch: 90, loss: 0.022\n",
            "Epoch: 91, loss: 0.021\n",
            "Epoch: 92, loss: 0.020\n",
            "Epoch: 93, loss: 0.020\n",
            "Epoch: 94, loss: 0.019\n",
            "Epoch: 95, loss: 0.018\n",
            "Epoch: 96, loss: 0.018\n",
            "Epoch: 97, loss: 0.017\n",
            "Epoch: 98, loss: 0.017\n",
            "Epoch: 99, loss: 0.016\n",
            "Epoch: 100, loss: 0.015\n",
            "Epoch: 101, loss: 0.015\n",
            "Epoch: 102, loss: 0.014\n",
            "Epoch: 103, loss: 0.014\n",
            "Epoch: 104, loss: 0.014\n",
            "Epoch: 105, loss: 0.013\n",
            "Epoch: 106, loss: 0.013\n",
            "Epoch: 107, loss: 0.012\n",
            "Epoch: 108, loss: 0.012\n",
            "Epoch: 109, loss: 0.011\n",
            "Epoch: 110, loss: 0.011\n",
            "Epoch: 111, loss: 0.011\n",
            "Epoch: 112, loss: 0.010\n",
            "Epoch: 113, loss: 0.010\n",
            "Epoch: 114, loss: 0.010\n",
            "Epoch: 115, loss: 0.010\n",
            "Epoch: 116, loss: 0.009\n",
            "Epoch: 117, loss: 0.009\n",
            "Epoch: 118, loss: 0.009\n",
            "Epoch: 119, loss: 0.008\n",
            "Epoch: 120, loss: 0.008\n",
            "Epoch: 121, loss: 0.008\n",
            "Epoch: 122, loss: 0.008\n",
            "Epoch: 123, loss: 0.008\n",
            "Epoch: 124, loss: 0.007\n",
            "Epoch: 125, loss: 0.007\n",
            "Epoch: 126, loss: 0.007\n",
            "Epoch: 127, loss: 0.007\n",
            "Epoch: 128, loss: 0.007\n",
            "Epoch: 129, loss: 0.006\n",
            "Epoch: 130, loss: 0.006\n",
            "Epoch: 131, loss: 0.006\n",
            "Epoch: 132, loss: 0.006\n",
            "Epoch: 133, loss: 0.006\n",
            "Epoch: 134, loss: 0.006\n",
            "Epoch: 135, loss: 0.006\n",
            "Epoch: 136, loss: 0.005\n",
            "Epoch: 137, loss: 0.005\n",
            "Epoch: 138, loss: 0.005\n",
            "Epoch: 139, loss: 0.005\n",
            "Epoch: 140, loss: 0.005\n",
            "Epoch: 141, loss: 0.005\n",
            "Epoch: 142, loss: 0.005\n",
            "Epoch: 143, loss: 0.005\n",
            "Epoch: 144, loss: 0.005\n",
            "Epoch: 145, loss: 0.005\n",
            "Epoch: 146, loss: 0.004\n",
            "Epoch: 147, loss: 0.004\n",
            "Epoch: 148, loss: 0.004\n",
            "Epoch: 149, loss: 0.004\n",
            "Epoch: 150, loss: 0.004\n",
            "Epoch: 151, loss: 0.004\n",
            "Epoch: 152, loss: 0.004\n",
            "Epoch: 153, loss: 0.004\n",
            "Epoch: 154, loss: 0.004\n",
            "Epoch: 155, loss: 0.004\n",
            "Epoch: 156, loss: 0.004\n",
            "Epoch: 157, loss: 0.004\n",
            "Epoch: 158, loss: 0.004\n",
            "Epoch: 159, loss: 0.004\n",
            "Epoch: 160, loss: 0.004\n",
            "Epoch: 161, loss: 0.004\n",
            "Epoch: 162, loss: 0.004\n",
            "Epoch: 163, loss: 0.003\n",
            "Epoch: 164, loss: 0.003\n",
            "Epoch: 165, loss: 0.003\n",
            "Epoch: 166, loss: 0.003\n",
            "Epoch: 167, loss: 0.003\n",
            "Epoch: 168, loss: 0.003\n",
            "Epoch: 169, loss: 0.003\n",
            "Epoch: 170, loss: 0.003\n",
            "Epoch: 171, loss: 0.003\n",
            "Epoch: 172, loss: 0.003\n",
            "Epoch: 173, loss: 0.003\n",
            "Epoch: 174, loss: 0.003\n",
            "Epoch: 175, loss: 0.003\n",
            "Epoch: 176, loss: 0.003\n",
            "Epoch: 177, loss: 0.003\n",
            "Epoch: 178, loss: 0.003\n",
            "Epoch: 179, loss: 0.003\n",
            "Epoch: 180, loss: 0.003\n",
            "Epoch: 181, loss: 0.003\n",
            "Epoch: 182, loss: 0.003\n",
            "Epoch: 183, loss: 0.003\n",
            "Epoch: 184, loss: 0.003\n",
            "Epoch: 185, loss: 0.003\n",
            "Epoch: 186, loss: 0.003\n",
            "Epoch: 187, loss: 0.003\n",
            "Epoch: 188, loss: 0.003\n",
            "Epoch: 189, loss: 0.003\n",
            "Epoch: 190, loss: 0.003\n",
            "Epoch: 191, loss: 0.003\n",
            "Epoch: 192, loss: 0.003\n",
            "Epoch: 193, loss: 0.003\n",
            "Epoch: 194, loss: 0.003\n",
            "Epoch: 195, loss: 0.003\n",
            "Epoch: 196, loss: 0.003\n",
            "Epoch: 197, loss: 0.003\n",
            "Epoch: 198, loss: 0.003\n",
            "Epoch: 199, loss: 0.003\n"
          ]
        }
      ]
    },
    {
      "cell_type": "code",
      "source": [
        "val = np.dot(X_val_scaled, W) + b"
      ],
      "metadata": {
        "id": "nHjUJLWzhiao"
      },
      "execution_count": 30,
      "outputs": []
    },
    {
      "cell_type": "code",
      "source": [
        "np.vstack([[val, y_val_scaled]])"
      ],
      "metadata": {
        "colab": {
          "base_uri": "https://localhost:8080/"
        },
        "id": "Db7ai809h3Xu",
        "outputId": "1beee75f-661d-41d3-eedf-a67b7be44e94"
      },
      "execution_count": 31,
      "outputs": [
        {
          "output_type": "execute_result",
          "data": {
            "text/plain": [
              "array([[[ 0.41094952],\n",
              "        [-0.02439863],\n",
              "        [ 0.24350792],\n",
              "        [ 1.11420422],\n",
              "        [ 0.3774612 ],\n",
              "        [ 0.47792615],\n",
              "        [-1.12951316],\n",
              "        [-0.99555989],\n",
              "        [-1.16300148],\n",
              "        [ 0.84629767],\n",
              "        [-1.39741972],\n",
              "        [ 1.01373926],\n",
              "        [ 1.04722758],\n",
              "        [ 0.64536775],\n",
              "        [ 0.87978598]],\n",
              "\n",
              "       [[ 0.41419417],\n",
              "        [-0.02544796],\n",
              "        [ 0.34864266],\n",
              "        [ 1.16293929],\n",
              "        [ 0.41012088],\n",
              "        [ 0.46295707],\n",
              "        [-1.15439922],\n",
              "        [-1.04592124],\n",
              "        [-1.17668183],\n",
              "        [ 0.94553874],\n",
              "        [-1.33468159],\n",
              "        [ 1.02154162],\n",
              "        [ 1.09172743],\n",
              "        [ 0.5800414 ],\n",
              "        [ 0.88056212]]])"
            ]
          },
          "metadata": {},
          "execution_count": 31
        }
      ]
    },
    {
      "cell_type": "code",
      "source": [
        "plt.figure(figsize = (10, 7))\n",
        "plt.title('Training')\n",
        "plt.xlabel('Epochs')\n",
        "plt.ylabel('Loss')\n",
        "sns.lineplot(x = epoch_count, y = losses, color = 'r')\n",
        "sns.despine()"
      ],
      "metadata": {
        "id": "0PBDShPInsGK",
        "colab": {
          "base_uri": "https://localhost:8080/",
          "height": 458
        },
        "outputId": "5d516870-7503-4748-dd68-066476772de2"
      },
      "execution_count": 65,
      "outputs": [
        {
          "output_type": "display_data",
          "data": {
            "text/plain": [
              "<Figure size 720x504 with 1 Axes>"
            ],
            "image/png": "[encoded data removed]"
          },
          "metadata": {
            "needs_background": "light"
          }
        }
      ]
    },
    {
      "cell_type": "code",
      "source": [
        "W"
      ],
      "metadata": {
        "colab": {
          "base_uri": "https://localhost:8080/"
        },
        "id": "1HfmA3OtnexY",
        "outputId": "f9f37701-9070-4238-abd7-b9b16efe72fa"
      },
      "execution_count": 33,
      "outputs": [
        {
          "output_type": "execute_result",
          "data": {
            "text/plain": [
              "array([[0.98017482]])"
            ]
          },
          "metadata": {},
          "execution_count": 33
        }
      ]
    },
    {
      "cell_type": "code",
      "source": [
        "b"
      ],
      "metadata": {
        "colab": {
          "base_uri": "https://localhost:8080/"
        },
        "id": "4xXomAen2j5p",
        "outputId": "8c684644-61bc-4c5b-dd3a-a881aa4c2832"
      },
      "execution_count": 34,
      "outputs": [
        {
          "output_type": "execute_result",
          "data": {
            "text/plain": [
              "array([[-1.72116289e-16]])"
            ]
          },
          "metadata": {},
          "execution_count": 34
        }
      ]
    },
    {
      "cell_type": "code",
      "source": [
        "pred = np.dot(X_test_scaled, W) + b\n",
        "np.vstack([[pred, y_test_scaled]])"
      ],
      "metadata": {
        "colab": {
          "base_uri": "https://localhost:8080/"
        },
        "id": "e0R8p3-noGNo",
        "outputId": "f263a75e-ed42-413f-c2d7-fbe308bb9236"
      },
      "execution_count": 35,
      "outputs": [
        {
          "output_type": "execute_result",
          "data": {
            "text/plain": [
              "array([[[ 0.2100196 ],\n",
              "        [-0.82811829],\n",
              "        [-0.39277014],\n",
              "        [-0.6606767 ],\n",
              "        [-1.09602484],\n",
              "        [ 1.18118086],\n",
              "        [-1.29695476],\n",
              "        [-1.63183795],\n",
              "        [-0.72765333],\n",
              "        [ 1.31513413],\n",
              "        [-0.45974678],\n",
              "        [-0.4932351 ],\n",
              "        [-0.76114165],\n",
              "        [ 1.28164581],\n",
              "        [ 1.24815749]],\n",
              "\n",
              "       [[ 0.27305798],\n",
              "        [-0.81605667],\n",
              "        [-0.41425867],\n",
              "        [-0.60030283],\n",
              "        [-1.22062861],\n",
              "        [ 1.13367428],\n",
              "        [-1.32588467],\n",
              "        [-1.64313756],\n",
              "        [-0.7820934 ],\n",
              "        [ 1.32973473],\n",
              "        [-0.52852778],\n",
              "        [-0.46302207],\n",
              "        [-0.71943993],\n",
              "        [ 1.33563603],\n",
              "        [ 1.34192023]]])"
            ]
          },
          "metadata": {},
          "execution_count": 35
        }
      ]
    },
    {
      "cell_type": "markdown",
      "source": [
        "### Evaluation"
      ],
      "metadata": {
        "id": "TdjomMBRe1Ya"
      }
    },
    {
      "cell_type": "code",
      "source": [
        "predictions = pd.DataFrame(X_test_scaled, columns = ['X'])\n",
        "predictions['y'] = pred\n",
        "predictions"
      ],
      "metadata": {
        "colab": {
          "base_uri": "https://localhost:8080/",
          "height": 519
        },
        "id": "mo8u5qnfxqIn",
        "outputId": "53df000d-95da-4d66-dadf-1befe4f6dba2"
      },
      "execution_count": 36,
      "outputs": [
        {
          "output_type": "execute_result",
          "data": {
            "text/plain": [
              "           X         y\n",
              "0   0.214267  0.210020\n",
              "1  -0.844868 -0.828118\n",
              "2  -0.400714 -0.392770\n",
              "3  -0.674040 -0.660677\n",
              "4  -1.118193 -1.096025\n",
              "5   1.205072  1.181181\n",
              "6  -1.323187 -1.296955\n",
              "7  -1.664844 -1.631838\n",
              "8  -0.742371 -0.727653\n",
              "9   1.341734  1.315134\n",
              "10 -0.469046 -0.459747\n",
              "11 -0.503211 -0.493235\n",
              "12 -0.776537 -0.761142\n",
              "13  1.307569  1.281646\n",
              "14  1.273403  1.248157"
            ],
            "text/html": [
              "\n",
              "  <div id=\"df-d521132a-e443-434f-af02-8738bbb9679e\">\n",
              "    <div class=\"colab-df-container\">\n",
              "      <div>\n",
              "<style scoped>\n",
              "    .dataframe tbody tr th:only-of-type {\n",
              "        vertical-align: middle;\n",
              "    }\n",
              "\n",
              "    .dataframe tbody tr th {\n",
              "        vertical-align: top;\n",
              "    }\n",
              "\n",
              "    .dataframe thead th {\n",
              "        text-align: right;\n",
              "    }\n",
              "</style>\n",
              "<table border=\"1\" class=\"dataframe\">\n",
              "  <thead>\n",
              "    <tr style=\"text-align: right;\">\n",
              "      <th></th>\n",
              "      <th>X</th>\n",
              "      <th>y</th>\n",
              "    </tr>\n",
              "  </thead>\n",
              "  <tbody>\n",
              "    <tr>\n",
              "      <th>0</th>\n",
              "      <td>0.214267</td>\n",
              "      <td>0.210020</td>\n",
              "    </tr>\n",
              "    <tr>\n",
              "      <th>1</th>\n",
              "      <td>-0.844868</td>\n",
              "      <td>-0.828118</td>\n",
              "    </tr>\n",
              "    <tr>\n",
              "      <th>2</th>\n",
              "      <td>-0.400714</td>\n",
              "      <td>-0.392770</td>\n",
              "    </tr>\n",
              "    <tr>\n",
              "      <th>3</th>\n",
              "      <td>-0.674040</td>\n",
              "      <td>-0.660677</td>\n",
              "    </tr>\n",
              "    <tr>\n",
              "      <th>4</th>\n",
              "      <td>-1.118193</td>\n",
              "      <td>-1.096025</td>\n",
              "    </tr>\n",
              "    <tr>\n",
              "      <th>5</th>\n",
              "      <td>1.205072</td>\n",
              "      <td>1.181181</td>\n",
              "    </tr>\n",
              "    <tr>\n",
              "      <th>6</th>\n",
              "      <td>-1.323187</td>\n",
              "      <td>-1.296955</td>\n",
              "    </tr>\n",
              "    <tr>\n",
              "      <th>7</th>\n",
              "      <td>-1.664844</td>\n",
              "      <td>-1.631838</td>\n",
              "    </tr>\n",
              "    <tr>\n",
              "      <th>8</th>\n",
              "      <td>-0.742371</td>\n",
              "      <td>-0.727653</td>\n",
              "    </tr>\n",
              "    <tr>\n",
              "      <th>9</th>\n",
              "      <td>1.341734</td>\n",
              "      <td>1.315134</td>\n",
              "    </tr>\n",
              "    <tr>\n",
              "      <th>10</th>\n",
              "      <td>-0.469046</td>\n",
              "      <td>-0.459747</td>\n",
              "    </tr>\n",
              "    <tr>\n",
              "      <th>11</th>\n",
              "      <td>-0.503211</td>\n",
              "      <td>-0.493235</td>\n",
              "    </tr>\n",
              "    <tr>\n",
              "      <th>12</th>\n",
              "      <td>-0.776537</td>\n",
              "      <td>-0.761142</td>\n",
              "    </tr>\n",
              "    <tr>\n",
              "      <th>13</th>\n",
              "      <td>1.307569</td>\n",
              "      <td>1.281646</td>\n",
              "    </tr>\n",
              "    <tr>\n",
              "      <th>14</th>\n",
              "      <td>1.273403</td>\n",
              "      <td>1.248157</td>\n",
              "    </tr>\n",
              "  </tbody>\n",
              "</table>\n",
              "</div>\n",
              "      <button class=\"colab-df-convert\" onclick=\"convertToInteractive('df-d521132a-e443-434f-af02-8738bbb9679e')\"\n",
              "              title=\"Convert this dataframe to an interactive table.\"\n",
              "              style=\"display:none;\">\n",
              "        \n",
              "  <svg xmlns=\"http://www.w3.org/2000/svg\" height=\"24px\"viewBox=\"0 0 24 24\"\n",
              "       width=\"24px\">\n",
              "    <path d=\"M0 0h24v24H0V0z\" fill=\"none\"/>\n",
              "    <path d=\"M18.56 5.44l.94 2.06.94-2.06 2.06-.94-2.06-.94-.94-2.06-.94 2.06-2.06.94zm-11 1L8.5 8.5l.94-2.06 2.06-.94-2.06-.94L8.5 2.5l-.94 2.06-2.06.94zm10 10l.94 2.06.94-2.06 2.06-.94-2.06-.94-.94-2.06-.94 2.06-2.06.94z\"/><path d=\"M17.41 7.96l-1.37-1.37c-.4-.4-.92-.59-1.43-.59-.52 0-1.04.2-1.43.59L10.3 9.45l-7.72 7.72c-.78.78-.78 2.05 0 2.83L4 21.41c.39.39.9.59 1.41.59.51 0 1.02-.2 1.41-.59l7.78-7.78 2.81-2.81c.8-.78.8-2.07 0-2.86zM5.41 20L4 18.59l7.72-7.72 1.47 1.35L5.41 20z\"/>\n",
              "  </svg>\n",
              "      </button>\n",
              "      \n",
              "  <style>\n",
              "    .colab-df-container {\n",
              "      display:flex;\n",
              "      flex-wrap:wrap;\n",
              "      gap: 12px;\n",
              "    }\n",
              "\n",
              "    .colab-df-convert {\n",
              "      background-color: #E8F0FE;\n",
              "      border: none;\n",
              "      border-radius: 50%;\n",
              "      cursor: pointer;\n",
              "      display: none;\n",
              "      fill: #1967D2;\n",
              "      height: 32px;\n",
              "      padding: 0 0 0 0;\n",
              "      width: 32px;\n",
              "    }\n",
              "\n",
              "    .colab-df-convert:hover {\n",
              "      background-color: #E2EBFA;\n",
              "      box-shadow: 0px 1px 2px rgba(60, 64, 67, 0.3), 0px 1px 3px 1px rgba(60, 64, 67, 0.15);\n",
              "      fill: #174EA6;\n",
              "    }\n",
              "\n",
              "    [theme=dark] .colab-df-convert {\n",
              "      background-color: #3B4455;\n",
              "      fill: #D2E3FC;\n",
              "    }\n",
              "\n",
              "    [theme=dark] .colab-df-convert:hover {\n",
              "      background-color: #434B5C;\n",
              "      box-shadow: 0px 1px 3px 1px rgba(0, 0, 0, 0.15);\n",
              "      filter: drop-shadow(0px 1px 2px rgba(0, 0, 0, 0.3));\n",
              "      fill: #FFFFFF;\n",
              "    }\n",
              "  </style>\n",
              "\n",
              "      <script>\n",
              "        const buttonEl =\n",
              "          document.querySelector('#df-d521132a-e443-434f-af02-8738bbb9679e button.colab-df-convert');\n",
              "        buttonEl.style.display =\n",
              "          google.colab.kernel.accessAllowed ? 'block' : 'none';\n",
              "\n",
              "        async function convertToInteractive(key) {\n",
              "          const element = document.querySelector('#df-d521132a-e443-434f-af02-8738bbb9679e');\n",
              "          const dataTable =\n",
              "            await google.colab.kernel.invokeFunction('convertToInteractive',\n",
              "                                                     [key], {});\n",
              "          if (!dataTable) return;\n",
              "\n",
              "          const docLinkHtml = 'Like what you see? Visit the ' +\n",
              "            '<a target=\"_blank\" href=https://colab.research.google.com/notebooks/data_table.ipynb>data table notebook</a>'\n",
              "            + ' to learn more about interactive tables.';\n",
              "          element.innerHTML = '';\n",
              "          dataTable['output_type'] = 'display_data';\n",
              "          await google.colab.output.renderOutput(dataTable, element);\n",
              "          const docLink = document.createElement('div');\n",
              "          docLink.innerHTML = docLinkHtml;\n",
              "          element.appendChild(docLink);\n",
              "        }\n",
              "      </script>\n",
              "    </div>\n",
              "  </div>\n",
              "  "
            ]
          },
          "metadata": {},
          "execution_count": 36
        }
      ]
    },
    {
      "cell_type": "code",
      "source": [
        "predictions.X.to_numpy().reshape(len(predictions.X), 1)"
      ],
      "metadata": {
        "colab": {
          "base_uri": "https://localhost:8080/"
        },
        "id": "HNqUWkihbNSU",
        "outputId": "928c4e5a-22d5-40f8-a7af-da3b6e105acb"
      },
      "execution_count": 48,
      "outputs": [
        {
          "output_type": "execute_result",
          "data": {
            "text/plain": [
              "array([[ 0.21426749],\n",
              "       [-0.84486795],\n",
              "       [-0.40071438],\n",
              "       [-0.67403965],\n",
              "       [-1.11819322],\n",
              "       [ 1.20507161],\n",
              "       [-1.32318718],\n",
              "       [-1.66484377],\n",
              "       [-0.74237097],\n",
              "       [ 1.34173425],\n",
              "       [-0.46904569],\n",
              "       [-0.50321135],\n",
              "       [-0.77653663],\n",
              "       [ 1.30756859],\n",
              "       [ 1.27340293]])"
            ]
          },
          "metadata": {},
          "execution_count": 48
        }
      ]
    },
    {
      "cell_type": "code",
      "source": [
        "# Convert numpy arrays to Pandas Series with an index\n",
        "X_series = pd.Series(predictions.X, index=range(len(predictions.X)))\n",
        "y_series = pd.Series(y_test_scaled.flatten(), index=range(len(y_test_scaled)))\n",
        "\n",
        "# Use the Pandas Series as input to scatterplot function\n"
      ],
      "metadata": {
        "id": "9Hla-vVNcODx"
      },
      "execution_count": 57,
      "outputs": []
    },
    {
      "cell_type": "code",
      "source": [
        "plt.figure(figsize = (10, 7))\n",
        "plt.title(\"Generated data\")\n",
        "sns.lineplot(data = predictions, y = 'y', x = 'X')\n",
        "sns.scatterplot(x=X_series, y=y_series, color='r')\n",
        "sns.despine()"
      ],
      "metadata": {
        "colab": {
          "base_uri": "https://localhost:8080/",
          "height": 458
        },
        "id": "lMSAmzz3ov3s",
        "outputId": "83902f7d-431d-47f2-e875-6ee1a1d967de"
      },
      "execution_count": 59,
      "outputs": [
        {
          "output_type": "display_data",
          "data": {
            "text/plain": [
              "<Figure size 720x504 with 1 Axes>"
            ],
            "image/png": "[encoded data removed]"
          },
          "metadata": {
            "needs_background": "light"
          }
        }
      ]
    },
    {
      "cell_type": "code",
      "source": [
        "# Unscaled weights\n",
        "W_unscaled = W * (y_std/X_std)\n",
        "b_unscaled = b * y_std + y_mean - np.sum(W_unscaled * X_mean)\n",
        "print (\"[actual] y = 5X + noise\")\n",
        "print (f\"[model] y_hat = {W_unscaled[0][0].round(2):}X + {b_unscaled[0]:}\")\n"
      ],
      "metadata": {
        "id": "F2NRj5yWo7gC",
        "colab": {
          "base_uri": "https://localhost:8080/"
        },
        "outputId": "791b77bc-7392-46ad-b866-396720273cf2"
      },
      "execution_count": 64,
      "outputs": [
        {
          "output_type": "stream",
          "name": "stdout",
          "text": [
            "[actual] y = 5X + noise\n",
            "[model] y_hat = 4.89X + [10.42037806]\n"
          ]
        }
      ]
    },
    {
      "cell_type": "markdown",
      "source": [
        "Very close!"
      ],
      "metadata": {
        "id": "_r6PgFa7ex88"
      }
    },
    {
      "cell_type": "markdown",
      "source": [
        "# Pytorch Implementation"
      ],
      "metadata": {
        "id": "pT3KwX81zDPE"
      }
    },
    {
      "cell_type": "code",
      "source": [],
      "metadata": {
        "id": "00bmR5XLedCr"
      },
      "execution_count": null,
      "outputs": []
    }
  ]
}