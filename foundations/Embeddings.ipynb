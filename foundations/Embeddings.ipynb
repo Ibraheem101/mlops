{
  "nbformat": 4,
  "nbformat_minor": 0,
  "metadata": {
    "colab": {
      "provenance": [],
      "gpuType": "T4",
      "authorship_tag": "ABX9TyON/B5zftYnmOPZe+m7RLXy",
      "include_colab_link": true
    },
    "kernelspec": {
      "name": "python3",
      "display_name": "Python 3"
    },
    "language_info": {
      "name": "python"
    }
  },
  "cells": [
    {
      "cell_type": "markdown",
      "metadata": {
        "id": "view-in-github",
        "colab_type": "text"
      },
      "source": [
        "<a href=\"https://colab.research.google.com/github/Ibraheem101/mlops/blob/main/foundations/Embeddings.ipynb\" target=\"_parent\"><img src=\"https://colab.research.google.com/assets/colab-badge.svg\" alt=\"Open In Colab\"/></a>"
      ]
    },
    {
      "cell_type": "markdown",
      "source": [
        "# Word embeddings"
      ],
      "metadata": {
        "id": "vYuaJ95yvnXS"
      }
    },
    {
      "cell_type": "markdown",
      "source": [
        "The motivation for word embeddings in natural language processing (NLP) arises from the need to represent words in a numerical format that captures their semantic and syntactic similarities. Traditional approaches in NLP, such as one-hot encoding or bag-of-words representations, treat words as discrete symbols with no inherent meaning or relationship between them. However, words do possess rich contextual information and often exhibit semantic connections based on their usage in text.\n",
        "\n",
        "Word embeddings aim to address this limitation by representing words as dense vectors in a continuous vector space. The key motivation behind word embeddings is to capture the meaning and relationships between words based on their distributional properties in a given corpus. The underlying idea is that words that occur in similar contexts tend to have similar meanings.\n",
        "\n",
        "By learning word embeddings, NLP models can benefit from several advantages:\n",
        "\n",
        "* Semantic Similarity: Word embeddings capture semantic relationships between words. Words with similar meanings or concepts are represented by vectors that are closer to each other in the embedding space. For example, the vectors for \"king\" and \"queen\" would be closer to each other than to the vector for \"apple.\"\n",
        "\n",
        "* Syntactic Regularities: Word embeddings can capture syntactic regularities and analogies between words. For example, the vector difference between \"man\" and \"woman\" might be similar to the vector difference between \"king\" and \"queen,\" capturing the analogy between gendered terms.\n",
        "\n",
        "* Dimensionality Reduction: Word embeddings provide a lower-dimensional representation of words compared to one-hot encoding or bag-of-words models. This reduces the dimensionality of the input space and helps mitigate the curse of dimensionality in NLP tasks.\n",
        "\n",
        "* Generalization: Word embeddings can generalize to unseen words or rare words by leveraging the similarities learned from the training data. Models can infer similarities and relationships for words not explicitly encountered during training, which is valuable for handling out-of-vocabulary words.\n",
        "\n",
        "* Efficiency: Word embeddings reduce the computational complexity of NLP models by representing words as continuous vectors. This enables efficient processing and computation compared to sparse representations."
      ],
      "metadata": {
        "id": "NOkYk3NsvqBt"
      }
    },
    {
      "cell_type": "code",
      "execution_count": 1,
      "metadata": {
        "id": "46XqVPhSmysu"
      },
      "outputs": [],
      "source": [
        "import os\n",
        "import re\n",
        "import json\n",
        "import math\n",
        "import nltk\n",
        "import torch\n",
        "import gensim\n",
        "import random\n",
        "import urllib\n",
        "import itertools\n",
        "import collections\n",
        "import numpy as np\n",
        "import pandas as pd\n",
        "import seaborn as sns\n",
        "import torch.nn as nn\n",
        "import torch.nn.functional as F\n",
        "import matplotlib.pyplot as plt"
      ]
    },
    {
      "cell_type": "markdown",
      "source": [
        "We can learn embeddings by creating our models in PyTorch but first, we're going to use a library that specializes in embeddings and topic modeling called Gensim."
      ],
      "metadata": {
        "id": "OZuNpyFHv-p7"
      }
    },
    {
      "cell_type": "code",
      "source": [
        "nltk.download(\"punkt\")\n",
        "nltk.download('wordnet')\n",
        "nltk.download('stopwords')"
      ],
      "metadata": {
        "colab": {
          "base_uri": "https://localhost:8080/"
        },
        "id": "vFM9Wu9om-54",
        "outputId": "cd131317-06b8-473a-fb06-95e326eed490"
      },
      "execution_count": 2,
      "outputs": [
        {
          "output_type": "stream",
          "name": "stderr",
          "text": [
            "[nltk_data] Downloading package punkt to /root/nltk_data...\n",
            "[nltk_data]   Unzipping tokenizers/punkt.zip.\n",
            "[nltk_data] Downloading package wordnet to /root/nltk_data...\n",
            "[nltk_data] Downloading package stopwords to /root/nltk_data...\n",
            "[nltk_data]   Unzipping corpora/stopwords.zip.\n"
          ]
        },
        {
          "output_type": "execute_result",
          "data": {
            "text/plain": [
              "True"
            ]
          },
          "metadata": {},
          "execution_count": 2
        }
      ]
    },
    {
      "cell_type": "code",
      "source": [
        "seed = 1234"
      ],
      "metadata": {
        "id": "lZCeq1o8xVFK"
      },
      "execution_count": 3,
      "outputs": []
    },
    {
      "cell_type": "code",
      "source": [
        "def set_seeds(seed=1234):\n",
        "    \"\"\"Set seeds for reproducibility.\"\"\"\n",
        "    np.random.seed(seed)\n",
        "    random.seed(seed)\n",
        "    torch.manual_seed(seed)\n",
        "    torch.cuda.manual_seed(seed)\n",
        "    torch.cuda.manual_seed_all(seed) # multi-GPU"
      ],
      "metadata": {
        "id": "f5SqRRYjwFMx"
      },
      "execution_count": 4,
      "outputs": []
    },
    {
      "cell_type": "code",
      "source": [
        "set_seeds(seed = seed)"
      ],
      "metadata": {
        "id": "drh1o9JTxSCb"
      },
      "execution_count": 5,
      "outputs": []
    },
    {
      "cell_type": "markdown",
      "source": [
        "### Load data"
      ],
      "metadata": {
        "id": "RqDiCvl90hwN"
      }
    },
    {
      "cell_type": "code",
      "source": [
        "# Split text into sentences\n",
        "tokenizer = nltk.data.load(\"tokenizers/punkt/english.pickle\")\n",
        "book = urllib.request.urlopen(url=\"https://raw.githubusercontent.com/GokuMohandas/Made-With-ML/main/datasets/harrypotter.txt\")\n",
        "sentences = tokenizer.tokenize(str(book.read()))\n",
        "print (f\"{len(sentences)} sentences\")"
      ],
      "metadata": {
        "colab": {
          "base_uri": "https://localhost:8080/"
        },
        "id": "3xrDMHYvxWsJ",
        "outputId": "925ed696-6d89-432a-f112-ed105ab23872"
      },
      "execution_count": 6,
      "outputs": [
        {
          "output_type": "stream",
          "name": "stdout",
          "text": [
            "12449 sentences\n"
          ]
        }
      ]
    },
    {
      "cell_type": "code",
      "source": [
        "sentences[26]"
      ],
      "metadata": {
        "colab": {
          "base_uri": "https://localhost:8080/",
          "height": 36
        },
        "id": "HBVv7FIU0n_P",
        "outputId": "178f5ba9-a05e-4063-cba6-d6b334bd935e"
      },
      "execution_count": 7,
      "outputs": [
        {
          "output_type": "execute_result",
          "data": {
            "text/plain": [
              "'He seemed unable to prevent himself from glancing upward every minute or so.\\\\r\\\\n\"Yaxley.'"
            ],
            "application/vnd.google.colaboratory.intrinsic+json": {
              "type": "string"
            }
          },
          "metadata": {},
          "execution_count": 7
        }
      ]
    },
    {
      "cell_type": "code",
      "source": [
        "def preprocess(text):\n",
        "\n",
        "    # lowercasing\n",
        "    text = text.lower()\n",
        "\n",
        "    # Spacing and filters\n",
        "    text = re.sub(r\"([-;;.,!?<=>])\", r\" \\1 \", text)\n",
        "    text = re.sub(\"[^A-Za-z0-9]+\", \" \", text) # remove non alphanumeric chars\n",
        "    text = re.sub(\" +\", \" \", text)  # remove multiple spaces\n",
        "    text = text.strip()\n",
        "\n",
        "    # Separate into word tokens\n",
        "    text = text.split(\" \")\n",
        "\n",
        "    return text"
      ],
      "metadata": {
        "id": "VQJJWEOZ0rQO"
      },
      "execution_count": 8,
      "outputs": []
    },
    {
      "cell_type": "code",
      "source": [
        "print(sentences[27])\n",
        "sentences = [preprocess(sentence) for sentence in sentences]\n",
        "print(sentences[27])"
      ],
      "metadata": {
        "colab": {
          "base_uri": "https://localhost:8080/"
        },
        "id": "8cHz3ynG4VYh",
        "outputId": "d8884972-e534-4c5b-9817-83bf6a55bc29"
      },
      "execution_count": 9,
      "outputs": [
        {
          "output_type": "stream",
          "name": "stdout",
          "text": [
            "Snape,\" said a high, clear voice from the head of the table.\n",
            "['snape', 'said', 'a', 'high', 'clear', 'voice', 'from', 'the', 'head', 'of', 'the', 'table']\n"
          ]
        }
      ]
    },
    {
      "cell_type": "markdown",
      "source": [
        "<details>\n",
        "    <summary>Approaches to learning embeddings</summary>\n",
        "\n",
        "1. Continuous Bag of Words (CBOW):\n",
        "In CBOW, the objective is to predict the target word based on the context words surrounding it.\n",
        "The model takes a fixed-size context window of words as input and tries to predict the target word in the middle.\n",
        "The context words are typically represented as one-hot vectors or pre-trained word embeddings.\n",
        "The model is trained using a neural network, where the context words are passed through an embedding layer, followed by a hidden layer, and finally a softmax output layer.\n",
        "The embedding layer learns the dense representations (embeddings) of the context words, which are updated during training to improve the prediction accuracy.\n",
        "The learned embeddings capture the semantic and syntactic relationships between words based on their co-occurrence patterns.\n",
        "\n",
        "2. Skip-gram:\n",
        "In skip-gram, the objective is to predict the context words given a target word.\n",
        "The model takes a target word as input and tries to predict the surrounding context words.\n",
        "Similar to CBOW, the context words can be represented as one-hot vectors or pre-trained embeddings.\n",
        "The model architecture consists of an embedding layer followed by a hidden layer and a softmax output layer.\n",
        "During training, the model adjusts the embeddings to maximize the probability of predicting the correct context words.\n",
        "The skip-gram approach is useful when we want to focus on rare words and capture more fine-grained relationships between words.\n",
        "\n",
        "3. Language Modeling (LM):\n",
        "Language modeling involves predicting the next word in a sequence of words given the previous words.\n",
        "The objective of LM is to learn the probability distribution of words in a language.\n",
        "The model takes a sequence of words as input and tries to predict the next word.\n",
        "It typically uses recurrent neural network (RNN) architectures, such as LSTM or GRU, to capture the sequential dependencies between words.\n",
        "The embeddings are learned as part of the training process, where the model updates the embeddings based on the predicted probabilities.\n",
        "Language models can be trained on large text corpora and can capture the contextual relationships between words.\n",
        "These approaches learn word embeddings by training neural network models on large amounts of text data. By considering the context of words, they capture the semantic and syntactic relationships, allowing words with similar meanings or usage to have similar embeddings. The resulting embeddings can then be used in various NLP tasks such as sentiment analysis, machine translation, and text generation.\n",
        "</details>"
      ],
      "metadata": {
        "id": "bfeiD7r0INaq"
      }
    },
    {
      "cell_type": "markdown",
      "source": [
        "### Word2vec\n",
        "[Understand Word2vec](https://mccormickml.com/2016/04/19/word2vec-tutorial-the-skip-gram-model/)"
      ],
      "metadata": {
        "id": "wJvvr4P9SyHM"
      }
    },
    {
      "cell_type": "code",
      "source": [
        "from gensim.models import KeyedVectors\n",
        "from gensim.models import Word2Vec"
      ],
      "metadata": {
        "id": "PPzUkEzKP-kA"
      },
      "execution_count": 10,
      "outputs": []
    },
    {
      "cell_type": "code",
      "source": [
        "embedding_dim = 100\n",
        "window = 5\n",
        "min_count = 3 # Ignores all words with total frequency lower than this\n",
        "skip_gram = 1 # 0 = CBOW\n",
        "negative_sampling = 20"
      ],
      "metadata": {
        "id": "wX3gYFXDQQEA"
      },
      "execution_count": 11,
      "outputs": []
    },
    {
      "cell_type": "code",
      "source": [
        "# Super fast because of optimized C code under the hood\n",
        "w2v = Word2Vec(\n",
        "    sentences=sentences, vector_size=embedding_dim,\n",
        "    window=window, min_count=min_count,\n",
        "    sg=skip_gram, negative=negative_sampling)\n",
        "print(w2v)"
      ],
      "metadata": {
        "colab": {
          "base_uri": "https://localhost:8080/"
        },
        "id": "GUJYECpHVz25",
        "outputId": "efa358e3-07e5-4818-cef4-679781f7efd3"
      },
      "execution_count": 12,
      "outputs": [
        {
          "output_type": "stream",
          "name": "stdout",
          "text": [
            "Word2Vec<vocab=4937, vector_size=100, alpha=0.025>\n"
          ]
        }
      ]
    },
    {
      "cell_type": "code",
      "source": [
        "# Vector for each word\n",
        "w2v.wv.get_vector(\"harry\"), len(w2v.wv.get_vector(\"harry\")) #embedding vector e"
      ],
      "metadata": {
        "colab": {
          "base_uri": "https://localhost:8080/"
        },
        "id": "HcdJuyYsWB-8",
        "outputId": "d1405a18-4abc-48c2-94ca-21a7ce135c1e"
      },
      "execution_count": 13,
      "outputs": [
        {
          "output_type": "execute_result",
          "data": {
            "text/plain": [
              "(array([-8.36122483e-02,  3.72593522e-01,  7.01045478e-03,  8.98950547e-02,\n",
              "         1.65470481e-01, -3.51022661e-01,  2.50414550e-01,  3.85206997e-01,\n",
              "        -7.50519097e-01, -2.80024737e-01,  3.34674902e-02, -3.67605567e-01,\n",
              "        -1.98151469e-01,  1.24584325e-02, -6.27987012e-02, -6.03984036e-02,\n",
              "         4.48846102e-01, -2.03901887e-01, -5.90737045e-01, -2.80682683e-01,\n",
              "        -1.23700075e-01,  1.85041964e-01,  1.83086127e-01, -2.38956332e-01,\n",
              "         1.99852169e-01, -9.25628617e-02, -4.75979924e-01,  3.17589611e-01,\n",
              "        -1.11513078e-01,  2.78555248e-02,  2.56654620e-01,  1.25676230e-01,\n",
              "        -2.87806004e-01,  2.70128429e-01,  3.36311273e-02,  2.01222792e-01,\n",
              "        -8.24235305e-02,  6.51640147e-02,  2.08387673e-01, -1.66490674e-01,\n",
              "        -1.41929612e-01, -4.12383407e-01,  2.02513486e-02,  1.38338236e-02,\n",
              "         1.29887223e-01, -1.80447340e-01, -2.18640149e-01, -2.97859479e-02,\n",
              "        -1.94274127e-01, -8.74161497e-02,  4.31444317e-01, -2.20782980e-01,\n",
              "         2.17492267e-01,  2.45103061e-01, -2.44479477e-01, -5.08046031e-01,\n",
              "         2.45046258e-01, -3.96575302e-01, -2.89001673e-01,  1.09239407e-01,\n",
              "         2.80767441e-01,  6.10191561e-02,  5.09853780e-01,  7.56558729e-05,\n",
              "        -9.23114270e-02,  2.48856440e-01,  4.06544954e-02,  6.84994459e-02,\n",
              "        -1.67132124e-01, -3.17372352e-01, -9.54479575e-02,  3.97401303e-01,\n",
              "         3.37821573e-01,  1.00568689e-01,  1.38540089e-01,  9.85773951e-02,\n",
              "        -2.72089038e-02,  1.68320626e-01, -2.09604278e-01, -3.56872529e-01,\n",
              "        -4.57921922e-01, -3.51323038e-02, -2.11950652e-02, -8.17782655e-02,\n",
              "         1.95614219e-01, -1.22142747e-01,  2.07623631e-01,  6.38172403e-02,\n",
              "         1.51264414e-01, -2.09628105e-01, -7.90669676e-03,  2.00846031e-01,\n",
              "        -1.07243605e-01,  3.64665873e-02,  2.71118730e-01, -1.75328225e-01,\n",
              "         1.57482296e-01,  9.30071324e-02,  2.72730708e-01,  3.26446295e-02],\n",
              "       dtype=float32),\n",
              " 100)"
            ]
          },
          "metadata": {},
          "execution_count": 13
        }
      ]
    },
    {
      "cell_type": "code",
      "source": [
        "# Get nearest neighbors (excluding itself)\n",
        "w2v.wv.most_similar(positive=\"man\", topn=5)"
      ],
      "metadata": {
        "colab": {
          "base_uri": "https://localhost:8080/"
        },
        "id": "IG0DbNm5XDOP",
        "outputId": "8b434b17-d33b-4e46-f2a5-449ecabcbb7a"
      },
      "execution_count": 14,
      "outputs": [
        {
          "output_type": "execute_result",
          "data": {
            "text/plain": [
              "[('wizard', 0.9163126945495605),\n",
              " ('witch', 0.8928037881851196),\n",
              " ('woman', 0.8813951015472412),\n",
              " ('odd', 0.8680001497268677),\n",
              " ('familiar', 0.8580108880996704)]"
            ]
          },
          "metadata": {},
          "execution_count": 14
        }
      ]
    },
    {
      "cell_type": "code",
      "source": [
        "# Saving and loading\n",
        "w2v.wv.save_word2vec_format(\"model.bin\", binary=True)\n",
        "w2v = KeyedVectors.load_word2vec_format(\"model.bin\", binary=True)"
      ],
      "metadata": {
        "id": "7YB1mT9yXXDD"
      },
      "execution_count": 15,
      "outputs": []
    },
    {
      "cell_type": "markdown",
      "source": [
        "### FastText\n",
        "When a word doesn't exist in our vocabulary, there are a few approaches we can take to handle it:\n",
        "\n",
        "UNK Token:\n",
        "\n",
        "One common approach is to assign a special token, often called the \"UNK\" token, to represent out-of-vocabulary words.\n",
        "During training, if a word is encountered that is not present in the vocabulary, it is replaced with the UNK token.\n",
        "The UNK token allows the model to learn a representation for unknown words and treat them similarly during inference.\n",
        "FastText:\n",
        "\n",
        "FastText, as you mentioned, uses character-level n-grams to embed words. This technique enables it to handle rare words, misspelled words, and even words that are not present in the training corpus.\n",
        "By breaking down words into smaller subword units (character n-grams), FastText can still capture some information about the meaning of the word, even if it is unseen.\n",
        "When encountering an out-of-vocabulary word, FastText can leverage the character n-gram information to generate an embedding for the word based on the embeddings of its subword units.\n",
        "This approach can be particularly useful in scenarios where the vocabulary is limited or when dealing with morphologically rich languages."
      ],
      "metadata": {
        "id": "ELu7q8i1Zzj6"
      }
    },
    {
      "cell_type": "code",
      "source": [
        "from gensim.models import FastText"
      ],
      "metadata": {
        "id": "TH_63DHYZqLe"
      },
      "execution_count": 16,
      "outputs": []
    },
    {
      "cell_type": "code",
      "source": [
        "# Super fast because of optimized C code under the hood\n",
        "ft = FastText(sentences=sentences, vector_size=embedding_dim,\n",
        "              window=window, min_count=min_count,\n",
        "              sg=skip_gram, negative=negative_sampling)\n",
        "print(ft)"
      ],
      "metadata": {
        "colab": {
          "base_uri": "https://localhost:8080/"
        },
        "id": "K6VEMPqebFZ0",
        "outputId": "6cb3a29c-f766-498a-9e81-899782504fe9"
      },
      "execution_count": 17,
      "outputs": [
        {
          "output_type": "stream",
          "name": "stdout",
          "text": [
            "FastText<vocab=4937, vector_size=100, alpha=0.025>\n"
          ]
        }
      ]
    },
    {
      "cell_type": "code",
      "source": [
        "# This word doesn't exist so the word2vec model will error out\n",
        "try:\n",
        "    w2v.most_similar(positive=\"scarring\", topn=5)\n",
        "except KeyError:\n",
        "    print(\"The word doesn't exist in the vocabulary\")"
      ],
      "metadata": {
        "colab": {
          "base_uri": "https://localhost:8080/"
        },
        "id": "WqzsTmlEb0hx",
        "outputId": "562fea29-ac88-4a2c-85aa-6a134eb17480"
      },
      "execution_count": 18,
      "outputs": [
        {
          "output_type": "stream",
          "name": "stdout",
          "text": [
            "The word doesn't exist in the vocabulary\n"
          ]
        }
      ]
    },
    {
      "cell_type": "code",
      "source": [
        "# FastText will use n-grams to embed an OOV word\n",
        "ft.wv.most_similar(positive=\"scarring\", topn=5)"
      ],
      "metadata": {
        "colab": {
          "base_uri": "https://localhost:8080/"
        },
        "id": "AFuEx4qBbgrG",
        "outputId": "96f4cf67-259c-417b-aad6-26a212ec4c6c"
      },
      "execution_count": 19,
      "outputs": [
        {
          "output_type": "execute_result",
          "data": {
            "text/plain": [
              "[('quivering', 0.9931723475456238),\n",
              " ('shuddering', 0.9916975498199463),\n",
              " ('dabbing', 0.9912965297698975),\n",
              " ('squeezing', 0.9912393689155579),\n",
              " ('wriggling', 0.9908320307731628)]"
            ]
          },
          "metadata": {},
          "execution_count": 19
        }
      ]
    },
    {
      "cell_type": "code",
      "source": [
        "# Save and loading\n",
        "ft.wv.save(\"model.bin\")\n",
        "ft = KeyedVectors.load(\"model.bin\")"
      ],
      "metadata": {
        "id": "Y7Alz9ctbxVn"
      },
      "execution_count": 20,
      "outputs": []
    },
    {
      "cell_type": "code",
      "source": [
        "ft.most_similar(positive=\"scarring\", topn=5)"
      ],
      "metadata": {
        "colab": {
          "base_uri": "https://localhost:8080/"
        },
        "id": "4_Hk-_56coLN",
        "outputId": "0024a962-3bbe-46a1-c55d-3c63e7378b1c"
      },
      "execution_count": 21,
      "outputs": [
        {
          "output_type": "execute_result",
          "data": {
            "text/plain": [
              "[('quivering', 0.9931723475456238),\n",
              " ('shuddering', 0.9916975498199463),\n",
              " ('dabbing', 0.9912965297698975),\n",
              " ('squeezing', 0.9912393689155579),\n",
              " ('wriggling', 0.9908320307731628)]"
            ]
          },
          "metadata": {},
          "execution_count": 21
        }
      ]
    },
    {
      "cell_type": "markdown",
      "source": [
        "### GloVe\n",
        "GloVe (Global Vectors for Word Representation) is an unsupervised learning algorithm for generating word embeddings. It constructs a co-occurrence matrix from a large corpus of text, initializes word vectors, defines an objective function based on co-occurrence statistics, and optimizes the word vectors to capture semantic relationships. The resulting word embeddings are dense vector representations that capture similarities between words. GloVe leverages global statistical information and performs well in various NLP tasks."
      ],
      "metadata": {
        "id": "YLhWTib8vfwl"
      }
    },
    {
      "cell_type": "code",
      "source": [
        "from io import BytesIO\n",
        "from zipfile import ZipFile\n",
        "from urllib.request import urlopen\n",
        "from sklearn.decomposition import PCA\n",
        "from gensim.scripts.glove2word2vec import glove2word2vec"
      ],
      "metadata": {
        "id": "sPE2Gm6Qcqdi"
      },
      "execution_count": 22,
      "outputs": []
    },
    {
      "cell_type": "code",
      "source": [
        "def plot_embeddings(words, embeddings, pca_results):\n",
        "    for word in words:\n",
        "        index = embeddings.index_to_key.index(word)\n",
        "        plt.scatter(pca_results[index, 0], pca_results[index, 1])\n",
        "        plt.annotate(word, xy=(pca_results[index, 0], pca_results[index, 1]))\n",
        "    plt.show()"
      ],
      "metadata": {
        "id": "Z_NO3aTowNMI"
      },
      "execution_count": 62,
      "outputs": []
    },
    {
      "cell_type": "markdown",
      "source": [
        "<details>\n",
        "    <summary>Explanation</summary>\n",
        "    \n",
        "The function plot_embeddings takes three arguments: words, embeddings, and pca_results. Here's a breakdown of what the function does:\n",
        "It iterates over each word in the words list.\n",
        "For each word, it retrieves the corresponding index in the embeddings object using embeddings.index2word.index(word).\n",
        "It plots a scatter point on a 2D plot using the x and y coordinates from pca_results.\n",
        "It annotates the scatter point with the word using plt.annotate.\n",
        "Finally, it displays the plot using plt.show().\n",
        "The purpose of this function is to visualize word embeddings in a 2D space using PCA (Principal Component Analysis) results. It plots the words as scatter points and annotates each point with its corresponding word. The embeddings object represents a collection of word embeddings, and pca_results contains the PCA-transformed coordinates for each embedding. The words list specifies which words to visualize.\n",
        "</details>"
      ],
      "metadata": {
        "id": "E2swLUKuxdK3"
      }
    },
    {
      "cell_type": "markdown",
      "source": [
        "### Load"
      ],
      "metadata": {
        "id": "FghfmFsO0w8s"
      }
    },
    {
      "cell_type": "code",
      "source": [
        "cd content"
      ],
      "metadata": {
        "colab": {
          "base_uri": "https://localhost:8080/"
        },
        "id": "dvyM2Cmrm62j",
        "outputId": "8e410545-09e9-43c3-f577-725a24b614e2"
      },
      "execution_count": 63,
      "outputs": [
        {
          "output_type": "stream",
          "name": "stdout",
          "text": [
            "[Errno 2] No such file or directory: 'content'\n",
            "/content\n"
          ]
        }
      ]
    },
    {
      "cell_type": "code",
      "source": [
        "cp kaggle.json ~/.kaggle/"
      ],
      "metadata": {
        "id": "lUCilc27zYSP"
      },
      "execution_count": 64,
      "outputs": []
    },
    {
      "cell_type": "code",
      "source": [
        "! chmod 600 /root/.kaggle/kaggle.json"
      ],
      "metadata": {
        "id": "dDx78yI1zxs6"
      },
      "execution_count": 65,
      "outputs": []
    },
    {
      "cell_type": "code",
      "source": [
        "! kaggle datasets download anindya2906/glove6b/download?datasetVersionNumber=1"
      ],
      "metadata": {
        "colab": {
          "base_uri": "https://localhost:8080/"
        },
        "id": "TLhIG3dAydCW",
        "outputId": "2080b2be-7904-450d-b71f-32f5d284baef"
      },
      "execution_count": 66,
      "outputs": [
        {
          "output_type": "stream",
          "name": "stdout",
          "text": [
            "glove6b.zip: Skipping, found more recently modified local copy (use --force to force download)\n"
          ]
        }
      ]
    },
    {
      "cell_type": "code",
      "source": [
        "# Unzip the file (may take ~3-5 minutes)\n",
        "# Specify the path to the zip file\n",
        "zip_path = \"../content/glove6b.zip\"\n",
        "\n",
        "# Open the zip file\n",
        "with ZipFile(zip_path, 'r') as zip_ref:\n",
        "    # Extract all the contents of the zip file\n",
        "    zip_ref.extractall(\"../content/\")"
      ],
      "metadata": {
        "id": "300lyFGU0zL-"
      },
      "execution_count": 67,
      "outputs": []
    },
    {
      "cell_type": "code",
      "source": [
        "# Write embeddings to file\n",
        "embeddings_file = \"glove.6B.{0}d.txt\".format(embedding_dim)"
      ],
      "metadata": {
        "id": "u8_-efhTyCF3"
      },
      "execution_count": 68,
      "outputs": []
    },
    {
      "cell_type": "code",
      "source": [
        "# Preview of the GloVe embeddings file\n",
        "with open(embeddings_file, \"r\") as fp:\n",
        "    line = next(fp)\n",
        "    values = line.split()\n",
        "    word = values[0]\n",
        "    embedding = np.asarray(values[1:], dtype='float32')\n",
        "    print (f\"word: {word}\")\n",
        "    print (f\"embedding:\\n{embedding}\")\n",
        "    print (f\"embedding dim: {len(embedding)}\")"
      ],
      "metadata": {
        "colab": {
          "base_uri": "https://localhost:8080/"
        },
        "id": "Kx1Wa8i72GEo",
        "outputId": "33c2176b-9399-4ca9-84b5-8eefa224ec81"
      },
      "execution_count": 69,
      "outputs": [
        {
          "output_type": "stream",
          "name": "stdout",
          "text": [
            "word: the\n",
            "embedding:\n",
            "[-0.038194 -0.24487   0.72812  -0.39961   0.083172  0.043953 -0.39141\n",
            "  0.3344   -0.57545   0.087459  0.28787  -0.06731   0.30906  -0.26384\n",
            " -0.13231  -0.20757   0.33395  -0.33848  -0.31743  -0.48336   0.1464\n",
            " -0.37304   0.34577   0.052041  0.44946  -0.46971   0.02628  -0.54155\n",
            " -0.15518  -0.14107  -0.039722  0.28277   0.14393   0.23464  -0.31021\n",
            "  0.086173  0.20397   0.52624   0.17164  -0.082378 -0.71787  -0.41531\n",
            "  0.20335  -0.12763   0.41367   0.55187   0.57908  -0.33477  -0.36559\n",
            " -0.54857  -0.062892  0.26584   0.30205   0.99775  -0.80481  -3.0243\n",
            "  0.01254  -0.36942   2.2167    0.72201  -0.24978   0.92136   0.034514\n",
            "  0.46745   1.1079   -0.19358  -0.074575  0.23353  -0.052062 -0.22044\n",
            "  0.057162 -0.15806  -0.30798  -0.41625   0.37972   0.15006  -0.53212\n",
            " -0.2055   -1.2526    0.071624  0.70565   0.49744  -0.42063   0.26148\n",
            " -1.538    -0.30223  -0.073438 -0.28312   0.37104  -0.25217   0.016215\n",
            " -0.017099 -0.38984   0.87424  -0.72569  -0.51058  -0.52028  -0.1459\n",
            "  0.8278    0.27062 ]\n",
            "embedding dim: 100\n"
          ]
        }
      ]
    },
    {
      "cell_type": "code",
      "source": [
        "# Save GloVe embeddings to local directory in word2vec format\n",
        "word2vec_output_file = \"{0}.word2vec\".format(embeddings_file)\n",
        "glove2word2vec(embeddings_file, word2vec_output_file)"
      ],
      "metadata": {
        "colab": {
          "base_uri": "https://localhost:8080/"
        },
        "id": "4vXava8c2YMS",
        "outputId": "97fec862-f2a1-44fb-de58-24b5285cb20a"
      },
      "execution_count": 70,
      "outputs": [
        {
          "output_type": "stream",
          "name": "stderr",
          "text": [
            "<ipython-input-70-b004bd08d681>:3: DeprecationWarning: Call to deprecated `glove2word2vec` (KeyedVectors.load_word2vec_format(.., binary=False, no_header=True) loads GLoVE text vectors.).\n",
            "  glove2word2vec(embeddings_file, word2vec_output_file)\n"
          ]
        },
        {
          "output_type": "execute_result",
          "data": {
            "text/plain": [
              "(400000, 100)"
            ]
          },
          "metadata": {},
          "execution_count": 70
        }
      ]
    },
    {
      "cell_type": "code",
      "source": [
        "# Load embeddings (may take a minute)\n",
        "glove = KeyedVectors.load_word2vec_format(word2vec_output_file, binary=False)"
      ],
      "metadata": {
        "id": "vPE5Smik21WF"
      },
      "execution_count": 71,
      "outputs": []
    },
    {
      "cell_type": "code",
      "source": [
        "# (king - man) + woman = ?\n",
        "# king - man = ? -  woman\n",
        "glove.most_similar(positive=[\"woman\", \"king\"], negative=[\"man\"], topn=5)"
      ],
      "metadata": {
        "colab": {
          "base_uri": "https://localhost:8080/"
        },
        "id": "vhk3waAq3che",
        "outputId": "843823e9-8211-48f4-bc17-3133490e1991"
      },
      "execution_count": 72,
      "outputs": [
        {
          "output_type": "execute_result",
          "data": {
            "text/plain": [
              "[('queen', 0.7698540687561035),\n",
              " ('monarch', 0.6843381524085999),\n",
              " ('throne', 0.6755736470222473),\n",
              " ('daughter', 0.6594556570053101),\n",
              " ('princess', 0.6520534157752991)]"
            ]
          },
          "metadata": {},
          "execution_count": 72
        }
      ]
    },
    {
      "cell_type": "code",
      "source": [
        "glove.most_similar(positive=[\"woman\", \"boy\"], negative=[\"man\"], topn=5)"
      ],
      "metadata": {
        "colab": {
          "base_uri": "https://localhost:8080/"
        },
        "id": "b-Kk8Z7K3zal",
        "outputId": "15588fb6-ffd1-44d4-ac65-7f2094559afa"
      },
      "execution_count": 73,
      "outputs": [
        {
          "output_type": "execute_result",
          "data": {
            "text/plain": [
              "[('girl', 0.9095936417579651),\n",
              " ('mother', 0.7666921019554138),\n",
              " ('child', 0.7420270442962646),\n",
              " ('pregnant', 0.7282999157905579),\n",
              " ('girls', 0.7268646359443665)]"
            ]
          },
          "metadata": {},
          "execution_count": 73
        }
      ]
    },
    {
      "cell_type": "code",
      "source": [
        "# Get nearest neighbors (excluding itself)\n",
        "glove.most_similar(positive=\"hey\", topn=5)"
      ],
      "metadata": {
        "id": "0wIXVSfb342R",
        "colab": {
          "base_uri": "https://localhost:8080/"
        },
        "outputId": "05a16ff1-a438-43fb-9fc4-9fc5df2290f4"
      },
      "execution_count": 74,
      "outputs": [
        {
          "output_type": "execute_result",
          "data": {
            "text/plain": [
              "[('yeah', 0.8196864128112793),\n",
              " ('gonna', 0.7466485500335693),\n",
              " ('ok', 0.74472576379776),\n",
              " ('hello', 0.7171452045440674),\n",
              " ('`', 0.7170859575271606)]"
            ]
          },
          "metadata": {},
          "execution_count": 74
        }
      ]
    },
    {
      "cell_type": "code",
      "source": [
        "# Reduce dimensionality for plotting\n",
        "X = np.array([glove.get_vector(word) for word in glove.index_to_key])\n",
        "pca = PCA(n_components=2)\n",
        "pca_results = pca.fit_transform(X)"
      ],
      "metadata": {
        "id": "XN7yEO0zqogs"
      },
      "execution_count": 75,
      "outputs": []
    },
    {
      "cell_type": "code",
      "source": [
        "# Visualize\n",
        "plot_embeddings(\n",
        "    words=[\"king\", \"queen\", \"man\", \"woman\"], embeddings=glove,\n",
        "    pca_results=pca_results)\n"
      ],
      "metadata": {
        "colab": {
          "base_uri": "https://localhost:8080/",
          "height": 430
        },
        "id": "kP5bZCFcrjxE",
        "outputId": "0de92028-db27-406f-c740-96168a6bdca7"
      },
      "execution_count": 76,
      "outputs": [
        {
          "output_type": "display_data",
          "data": {
            "text/plain": [
              "<Figure size 640x480 with 1 Axes>"
            ],
            "image/png": "[encoded data removed]"
          },
          "metadata": {}
        }
      ]
    },
    {
      "cell_type": "code",
      "source": [
        "# Bias in embeddings\n",
        "glove.most_similar(positive=[\"woman\", \"doctor\"], negative=[\"man\"], topn=5)"
      ],
      "metadata": {
        "colab": {
          "base_uri": "https://localhost:8080/"
        },
        "id": "A6BaNSPNvGGK",
        "outputId": "83f54561-1812-45d7-a87f-417ffa89c80e"
      },
      "execution_count": 77,
      "outputs": [
        {
          "output_type": "execute_result",
          "data": {
            "text/plain": [
              "[('nurse', 0.7735227942466736),\n",
              " ('physician', 0.7189430594444275),\n",
              " ('doctors', 0.6824328303337097),\n",
              " ('patient', 0.6750683188438416),\n",
              " ('dentist', 0.6726033091545105)]"
            ]
          },
          "metadata": {},
          "execution_count": 77
        }
      ]
    },
    {
      "cell_type": "code",
      "source": [
        "# Set device\n",
        "cuda = True\n",
        "device = torch.device(\"cuda\" if (\n",
        "    torch.cuda.is_available() and cuda) else \"cpu\")\n",
        "torch.set_default_tensor_type(\"torch.FloatTensor\")\n",
        "if device.type == \"cuda\":\n",
        "    torch.set_default_tensor_type(\"torch.cuda.FloatTensor\")\n",
        "print (device)"
      ],
      "metadata": {
        "colab": {
          "base_uri": "https://localhost:8080/"
        },
        "id": "nx5oLe-xworL",
        "outputId": "21c9d1c5-dc3a-46cb-eaf6-2bcb891cd1aa"
      },
      "execution_count": 78,
      "outputs": [
        {
          "output_type": "stream",
          "name": "stdout",
          "text": [
            "cpu\n"
          ]
        }
      ]
    },
    {
      "cell_type": "code",
      "source": [],
      "metadata": {
        "id": "49-lIYWvxkob"
      },
      "execution_count": null,
      "outputs": []
    }
  ]
}